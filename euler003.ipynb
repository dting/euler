{
 "cells": [
  {
   "cell_type": "markdown",
   "metadata": {},
   "source": [
    "## Largest prime factor\n",
    "[problem 3](https://projecteuler.net/problem=3)\n",
    "> The prime factors of 13195 are 5, 7, 13 and 29.\n",
    "\n",
    "> What is the largest prime factor of the number 600851475143 ?"
   ]
  },
  {
   "cell_type": "code",
   "execution_count": 1,
   "metadata": {},
   "outputs": [
    {
     "name": "stdout",
     "output_type": "stream",
     "text": [
      "6857\n",
      "\n",
      "1000 loops, best of 3: 1.14 ms per loop\n"
     ]
    }
   ],
   "source": [
    "def euler3_brute_force():\n",
    "    n = 600851475143\n",
    "    factors = []\n",
    "    i = 2\n",
    "    while n > 1:\n",
    "        if not n % i:\n",
    "            factors.append(i)\n",
    "            while not n % i:\n",
    "                n //= i\n",
    "        i += 1\n",
    "    if n != 1: factors.append(n)\n",
    "    return factors[-1]\n",
    "\n",
    "print euler3_brute_force()\n",
    "print\n",
    "%timeit euler3_brute_force()"
   ]
  },
  {
   "cell_type": "code",
   "execution_count": 2,
   "metadata": {},
   "outputs": [
    {
     "name": "stdout",
     "output_type": "stream",
     "text": [
      "6857\n",
      "\n",
      "1000 loops, best of 3: 253 µs per loop\n"
     ]
    }
   ],
   "source": [
    "def euler3_odds():\n",
    "    n = 600851475143\n",
    "    limit = n**0.5\n",
    "    factors = []\n",
    "    if not n % 2:\n",
    "        factors.append(2)\n",
    "        while not n % 2:\n",
    "            n //= 2\n",
    "    i = 3\n",
    "    while n > 1 and i < n**0.5:\n",
    "        if not n % i:\n",
    "            factors.append(i)\n",
    "            while not n % i:\n",
    "                n //= i\n",
    "        i += 2\n",
    "    if n != 1: factors.append(n)\n",
    "    return factors[-1]\n",
    "\n",
    "print euler3_odds()\n",
    "print\n",
    "%timeit euler3_odds()"
   ]
  },
  {
   "cell_type": "code",
   "execution_count": 3,
   "metadata": {},
   "outputs": [
    {
     "name": "stdout",
     "output_type": "stream",
     "text": [
      "6857\n",
      "\n",
      "1000 loops, best of 3: 201 µs per loop\n"
     ]
    }
   ],
   "source": [
    "def possible_prime_gen():\n",
    "    \"\"\"Yields 2 and 3 then values of 6k-1, 6k+1.\"\"\"\n",
    "    from itertools import count\n",
    "    \n",
    "    yield 2\n",
    "    yield 3\n",
    "    for i in count(1):\n",
    "        yield 6*i - 1\n",
    "        yield 6*i + 1\n",
    "    \n",
    "def euler3_possible_primes():\n",
    "    n = 600851475143\n",
    "    limit = n**0.5\n",
    "    factors = []\n",
    "    for pp in possible_prime_gen():\n",
    "        if pp > n**0.5:\n",
    "            break\n",
    "        if not n % pp:\n",
    "            factors.append(pp)\n",
    "            while not n % pp:\n",
    "                n //= pp\n",
    "    if n != 1: factors.append(n)\n",
    "    return factors[-1]\n",
    "\n",
    "print euler3_possible_primes()\n",
    "print\n",
    "%timeit euler3_possible_primes()"
   ]
  },
  {
   "cell_type": "code",
   "execution_count": 4,
   "metadata": {},
   "outputs": [],
   "source": [
    "def sundaram(n):\n",
    "    from itertools import count\n",
    "    \n",
    "    nk = (n-1)//2\n",
    "    ks = [True] * (nk+1)\n",
    "    for i in count(1):\n",
    "        step  = 2*i+1\n",
    "        start = i*(step + 1)\n",
    "        if start > nk:\n",
    "            break\n",
    "        ks[start::step] = (False for _ in range(start, nk+1, step))\n",
    "    return [2] + [2*(k+1)+1 for k, v in enumerate(ks[1:]) if v]"
   ]
  },
  {
   "cell_type": "code",
   "execution_count": 5,
   "metadata": {},
   "outputs": [
    {
     "name": "stdout",
     "output_type": "stream",
     "text": [
      "6857\n",
      "\n",
      "10 loops, best of 3: 156 ms per loop\n"
     ]
    }
   ],
   "source": [
    "def euler3_sieved_primes():\n",
    "    n = 600851475143\n",
    "    limit = n**0.5\n",
    "    primes = sundaram(int(limit)+1)\n",
    "    factors = []\n",
    "    for p in primes:\n",
    "        if p > n**0.5:\n",
    "            break\n",
    "        if not n % p:\n",
    "            factors.append(p)\n",
    "            while not n % p:\n",
    "                n //= p\n",
    "    if n != 1: factors.append(n)\n",
    "    return factors[-1]\n",
    "\n",
    "print euler3_sieved_primes()\n",
    "print\n",
    "%timeit euler3_sieved_primes()"
   ]
  },
  {
   "cell_type": "code",
   "execution_count": 6,
   "metadata": {},
   "outputs": [
    {
     "name": "stdout",
     "output_type": "stream",
     "text": [
      "6857\n",
      "\n",
      "10000 loops, best of 3: 67.8 µs per loop\n"
     ]
    }
   ],
   "source": [
    "PRIMES = sundaram(int(600851475143**0.5)+1)\n",
    "\n",
    "def euler3_cached_primes():\n",
    "    n = 600851475143\n",
    "    limit = n**0.5\n",
    "    factors = []\n",
    "    for p in PRIMES:\n",
    "        if p > n**0.5:\n",
    "            break\n",
    "        if not n % p:\n",
    "            factors.append(p)\n",
    "            while not n % p:\n",
    "                n //= p\n",
    "    if n != 1: factors.append(n)\n",
    "    return factors[-1]\n",
    "\n",
    "print euler3_cached_primes()\n",
    "print\n",
    "%timeit euler3_cached_primes()"
   ]
  }
 ],
 "metadata": {
  "kernelspec": {
   "display_name": "Python 2",
   "language": "python",
   "name": "python2"
  },
  "language_info": {
   "codemirror_mode": {
    "name": "ipython",
    "version": 2.0
   },
   "file_extension": ".py",
   "mimetype": "text/x-python",
   "name": "python",
   "nbconvert_exporter": "python",
   "pygments_lexer": "ipython2",
   "version": "2.7.9"
  }
 },
 "nbformat": 4,
 "nbformat_minor": 0
}