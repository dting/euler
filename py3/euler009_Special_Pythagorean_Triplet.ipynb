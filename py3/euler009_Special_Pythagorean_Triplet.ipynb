{
 "cells": [
  {
   "cell_type": "markdown",
   "metadata": {},
   "source": [
    "# Special Pythagorean triplet"
   ]
  },
  {
   "cell_type": "markdown",
   "metadata": {},
   "source": [
    "[problem 9](https://projecteuler.net/problem=9)\n",
    "> Pythagorean triplet is a set of three natural numbers: \n",
    "> $$a\\lt b\\lt c$$\n",
    "> For which: \n",
    "> $$a^2+b^2=c^2$$\n",
    ">\n",
    "> For example:\n",
    "$$3^2+4^2=9+16=25=5^2$$\n",
    ">\n",
    "> There exists exactly one Pythagorean triplet for which $a+b+c=1000$.\n",
    ">\n",
    "> Find the product $abc$."
   ]
  },
  {
   "cell_type": "markdown",
   "metadata": {},
   "source": [
    "## Brute Force"
   ]
  },
  {
   "cell_type": "code",
   "execution_count": 1,
   "metadata": {
    "collapsed": false
   },
   "outputs": [],
   "source": [
    "def trip_product_brute(N):\n",
    "    for c in range(3, N - 2):\n",
    "        cc = c * c\n",
    "        for b in range(2, c):\n",
    "            bb = b * b\n",
    "            for a in range(1, b):\n",
    "                aa = a * a\n",
    "                if aa + bb == cc and a + b + c == N:\n",
    "                    return a * b * c\n",
    "    return -1\n",
    "\n",
    "def euler9_brute_force():\n",
    "    return trip_product_brute(1000)"
   ]
  },
  {
   "cell_type": "code",
   "execution_count": 2,
   "metadata": {
    "collapsed": false
   },
   "outputs": [
    {
     "name": "stdout",
     "output_type": "stream",
     "text": [
      "1 loops, best of 3: 2.11 s per loop\n",
      "31875000\n"
     ]
    }
   ],
   "source": [
    "%timeit euler9_brute_force()\n",
    "print(euler9_brute_force())"
   ]
  },
  {
   "cell_type": "code",
   "execution_count": 3,
   "metadata": {
    "collapsed": false
   },
   "outputs": [],
   "source": [
    "def trip_product_start_point(N):\n",
    "    for c in range(N // 3, N - 2):\n",
    "        cc = c * c\n",
    "        for b in range(2, c):\n",
    "            bb = b * b\n",
    "            for a in range(1, b):\n",
    "                aa = a * a\n",
    "                if aa + bb == cc and a + b + c == N:\n",
    "                    return a * b * c\n",
    "    return -1\n",
    "\n",
    "def euler9_start_point():\n",
    "    return trip_product_start_point(1000)"
   ]
  },
  {
   "cell_type": "code",
   "execution_count": 4,
   "metadata": {
    "collapsed": false
   },
   "outputs": [
    {
     "name": "stdout",
     "output_type": "stream",
     "text": [
      "1 loops, best of 3: 1.11 s per loop\n",
      "31875000\n"
     ]
    }
   ],
   "source": [
    "%timeit euler9_start_point()\n",
    "print(euler9_start_point())"
   ]
  },
  {
   "cell_type": "code",
   "execution_count": 5,
   "metadata": {
    "collapsed": true
   },
   "outputs": [],
   "source": [
    "def trip_product_domain(N):\n",
    "    c = N // 3\n",
    "    while c < N - 2:\n",
    "        cc = c * c\n",
    "        b = c - 1\n",
    "        a = N - c - b\n",
    "        while a < b:\n",
    "            aa = a * a\n",
    "            bb = b * b\n",
    "            if aa + bb == cc:\n",
    "                return a * b * c\n",
    "            a += 1\n",
    "            b -= 1\n",
    "        c += 1\n",
    "    return -1\n",
    "\n",
    "def euler9_domain():\n",
    "    return trip_product_domain(1000)"
   ]
  },
  {
   "cell_type": "code",
   "execution_count": 6,
   "metadata": {
    "collapsed": false
   },
   "outputs": [
    {
     "name": "stdout",
     "output_type": "stream",
     "text": [
      "100 loops, best of 3: 2.61 ms per loop\n",
      "31875000\n"
     ]
    }
   ],
   "source": [
    "%timeit euler9_domain()\n",
    "print(euler9_domain())"
   ]
  },
  {
   "cell_type": "markdown",
   "metadata": {},
   "source": [
    "## Euclid's formula"
   ]
  },
  {
   "cell_type": "markdown",
   "metadata": {},
   "source": [
    "For a pythagorean triplet,\n",
    "\n",
    "$$a = m^2 - n^2 ,\\ \\, b = 2mn ,\\ \\, c = m^2 + n^2\\; \\text{where}\\; m > n$$\n",
    "\n",
    "and because our problem requires $a+b+c=1000$\n",
    "\n",
    "\\begin{align*}\n",
    "m^2 -n^2 + 2mn + m^2 + n^2 & = 1000 \\\\\n",
    "2m^2 + 2mn & = 1000 \\\\\n",
    "2m(m+n) & = 1000 \\\\\n",
    "m(m+n) & = 500 \\\\\n",
    "n & = (500 \\div m) - m\n",
    "\\end{align*}"
   ]
  },
  {
   "cell_type": "code",
   "execution_count": 7,
   "metadata": {
    "collapsed": true
   },
   "outputs": [],
   "source": [
    "def trip_product_euclid(N):\n",
    "    if N % 2: return -1\n",
    "    k = N // 2\n",
    "    m = 2;\n",
    "    while m < k ** 0.5:\n",
    "        if not k % m: \n",
    "            n = k // m - m\n",
    "            if n < m:\n",
    "                return (m * m - n * n) * (2 * m * n) * (m * m + n * n)\n",
    "        m += 1\n",
    "    return -1\n",
    "\n",
    "def euler9_euclid():\n",
    "    return trip_product_euclid(1000)"
   ]
  },
  {
   "cell_type": "code",
   "execution_count": 8,
   "metadata": {
    "collapsed": false
   },
   "outputs": [
    {
     "name": "stdout",
     "output_type": "stream",
     "text": [
      "100000 loops, best of 3: 9.33 µs per loop\n",
      "31875000\n"
     ]
    }
   ],
   "source": [
    "%timeit euler9_euclid()\n",
    "print(euler9_euclid())"
   ]
  }
 ],
 "metadata": {
  "kernelspec": {
   "display_name": "Python 3",
   "language": "python",
   "name": "python3"
  },
  "language_info": {
   "codemirror_mode": {
    "name": "ipython",
    "version": 3
   },
   "file_extension": ".py",
   "mimetype": "text/x-python",
   "name": "python",
   "nbconvert_exporter": "python",
   "pygments_lexer": "ipython3",
   "version": "3.4.3"
  }
 },
 "nbformat": 4,
 "nbformat_minor": 0
}
