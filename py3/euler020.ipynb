{
 "cells": [
  {
   "cell_type": "markdown",
   "metadata": {},
   "source": [
    "# Factorial digit sum"
   ]
  },
  {
   "cell_type": "markdown",
   "metadata": {},
   "source": [
    "> $n!$ means $n \\times (n − 1) \\times \\dotsm \\times 3 \\times 2 \\times 1$\n",
    ">\n",
    "> For example, $10! = 10 \\times 9 \\times \\dotsm \\times 3 \\times 2 \\times 1 = 3628800$\n",
    "and the sum of the digits in the number $10!$ is $3 + 6 + 2 + 8 + 8 + 0 + 0 = 27$\n",
    ">\n",
    "> Find the sum of the digits in the number $100!$"
   ]
  },
  {
   "cell_type": "code",
   "execution_count": 1,
   "metadata": {
    "collapsed": false
   },
   "outputs": [
    {
     "name": "stdout",
     "output_type": "stream",
     "text": [
      "10000 loops, best of 3: 61 µs per loop\n",
      "648\n"
     ]
    }
   ],
   "source": [
    "def euler20_recursive():\n",
    "    def factorial(n):\n",
    "        if n == 1: return 1\n",
    "        return n * factorial(n-1)\n",
    "    \n",
    "    return sum(map(int, str(factorial(100))))\n",
    "    \n",
    "%timeit euler20_recursive()\n",
    "print(euler20_recursive())"
   ]
  },
  {
   "cell_type": "code",
   "execution_count": 2,
   "metadata": {
    "collapsed": false
   },
   "outputs": [
    {
     "name": "stdout",
     "output_type": "stream",
     "text": [
      "10000 loops, best of 3: 44.8 µs per loop\n",
      "648\n"
     ]
    }
   ],
   "source": [
    "def euler20_iterative():\n",
    "    def product(ns):\n",
    "        p = 1\n",
    "        for n in ns:\n",
    "            p *= n\n",
    "        return p\n",
    "        \n",
    "    def factorial(n):\n",
    "        return product(range(1, n+1))\n",
    "    \n",
    "    return sum(map(int, str(factorial(100))))\n",
    "    \n",
    "%timeit euler20_iterative()\n",
    "print(euler20_iterative())"
   ]
  },
  {
   "cell_type": "code",
   "execution_count": 3,
   "metadata": {
    "collapsed": false
   },
   "outputs": [
    {
     "name": "stdout",
     "output_type": "stream",
     "text": [
      "10000 loops, best of 3: 35.4 µs per loop\n",
      "648\n"
     ]
    }
   ],
   "source": [
    "def euler20_built_in():\n",
    "    from math import factorial\n",
    "    \n",
    "    return sum(map(int, str(factorial(100))))\n",
    "\n",
    "%timeit euler20_built_in()\n",
    "print(euler20_built_in())"
   ]
  }
 ],
 "metadata": {
  "kernelspec": {
   "display_name": "Python 3",
   "language": "python",
   "name": "python3"
  },
  "language_info": {
   "codemirror_mode": {
    "name": "ipython",
    "version": 3
   },
   "file_extension": ".py",
   "mimetype": "text/x-python",
   "name": "python",
   "nbconvert_exporter": "python",
   "pygments_lexer": "ipython3",
   "version": "3.4.3"
  }
 },
 "nbformat": 4,
 "nbformat_minor": 0
}
