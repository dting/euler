{
 "cells": [
  {
   "cell_type": "markdown",
   "metadata": {},
   "source": [
    "# Factorial digit sum"
   ]
  },
  {
   "cell_type": "markdown",
   "metadata": {},
   "source": [
    "> $n!$ means $n \\times (n − 1) \\times \\dotsm \\times 3 \\times 2 \\times 1$\n",
    ">\n",
    "> For example, $10! = 10 \\times 9 \\times \\dotsm \\times 3 \\times 2 \\times 1 = 3628800$\n",
    "and the sum of the digits in the number $10!$ is $3 + 6 + 2 + 8 + 8 + 0 + 0 = 27$\n",
    ">\n",
    "> Find the sum of the digits in the number $100!$"
   ]
  },
  {
   "cell_type": "code",
   "execution_count": 1,
   "metadata": {
    "collapsed": false
   },
   "outputs": [
    {
     "name": "stdout",
     "output_type": "stream",
     "text": [
      "648\n",
      "10000 loops, best of 3: 62.9 µs per loop\n"
     ]
    }
   ],
   "source": [
    "class Recursive:\n",
    "    def factorial(self, n):\n",
    "        if n == 1: return 1\n",
    "        return n * self.factorial(n-1)\n",
    "    \n",
    "    def solve(self):\n",
    "        return sum(map(int, str(self.factorial(100))))\n",
    "    \n",
    "euler20_recursive = Recursive()\n",
    "print(euler20_recursive.solve())\n",
    "%timeit euler20_recursive.solve()"
   ]
  },
  {
   "cell_type": "code",
   "execution_count": 2,
   "metadata": {
    "collapsed": false
   },
   "outputs": [
    {
     "name": "stdout",
     "output_type": "stream",
     "text": [
      "648\n",
      "10000 loops, best of 3: 43.6 µs per loop\n"
     ]
    }
   ],
   "source": [
    "class Iter:\n",
    "    def product(self, ns):\n",
    "        p = 1\n",
    "        for n in ns:\n",
    "            p *= n\n",
    "        return p\n",
    "        \n",
    "    def factorial(self, n):\n",
    "        return self.product(range(1, n+1))\n",
    "    \n",
    "    def solve(self):\n",
    "        return sum(map(int, str(self.factorial(100))))\n",
    "    \n",
    "euler20_iter = Iter()\n",
    "print(euler20_iter.solve())\n",
    "%timeit euler20_iter.solve()"
   ]
  },
  {
   "cell_type": "code",
   "execution_count": 3,
   "metadata": {
    "collapsed": false
   },
   "outputs": [
    {
     "name": "stdout",
     "output_type": "stream",
     "text": [
      "648\n",
      "10000 loops, best of 3: 35.3 µs per loop\n"
     ]
    }
   ],
   "source": [
    "class BuiltIn:\n",
    "    def solve(self):\n",
    "        from math import factorial\n",
    "        return sum(map(int, str(factorial(100))))\n",
    "\n",
    "euler20_built_in = BuiltIn()\n",
    "print(euler20_built_in.solve())\n",
    "%timeit euler20_built_in.solve()"
   ]
  }
 ],
 "metadata": {
  "kernelspec": {
   "display_name": "Python 3",
   "language": "python",
   "name": "python3"
  },
  "language_info": {
   "codemirror_mode": {
    "name": "ipython",
    "version": 3
   },
   "file_extension": ".py",
   "mimetype": "text/x-python",
   "name": "python",
   "nbconvert_exporter": "python",
   "pygments_lexer": "ipython3",
   "version": "3.4.3"
  }
 },
 "nbformat": 4,
 "nbformat_minor": 0
}
