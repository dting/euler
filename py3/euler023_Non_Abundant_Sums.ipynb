{
 "cells": [
  {
   "cell_type": "markdown",
   "metadata": {},
   "source": [
    "# Non-abundant sums"
   ]
  },
  {
   "cell_type": "markdown",
   "metadata": {},
   "source": [
    "[problem 23](https://projecteuler.net/problem=23)\n",
    "> A perfect number is a number for which the sum of its proper divisors is exactly equal to the number. For example, the sum of the proper divisors of $28$ would be $1 + 2 + 4 + 7 + 14 = 28$, which means that $28$ is a perfect number.\n",
    "\n",
    "> A number n is called deficient if the sum of its proper divisors is less than n and it is called abundant if this sum exceeds n.\n",
    "\n",
    "> As $12$ is the smallest abundant number, $1 + 2 + 3 + 4 + 6 = 16$, the smallest number that can be written as the sum of two abundant numbers is $24$. By mathematical analysis, it can be shown that all integers greater than $28123$ can be written as the sum of two abundant numbers. However, this upper limit cannot be reduced any further by analysis even though it is known that the greatest number that cannot be expressed as the sum of two abundant numbers is less than this limit.\n",
    "\n",
    "> Find the sum of all the positive integers which cannot be written as the sum of two abundant numbers."
   ]
  },
  {
   "cell_type": "code",
   "execution_count": 1,
   "metadata": {
    "collapsed": true
   },
   "outputs": [],
   "source": [
    "def sum_divisors(n):\n",
    "    \"\"\"Sieving method to precalculate sum divisors\"\"\"\n",
    "    sum_divs = [0] * n\n",
    "    for i in range(1, n//2):\n",
    "        for j in range(i+i, n, i):\n",
    "            sum_divs[j] += i\n",
    "    return sum_divs"
   ]
  },
  {
   "cell_type": "code",
   "execution_count": 2,
   "metadata": {
    "collapsed": false
   },
   "outputs": [
    {
     "name": "stdout",
     "output_type": "stream",
     "text": [
      "1 loops, best of 3: 4.43 s per loop\n",
      "4179871\n"
     ]
    }
   ],
   "source": [
    "def euler23_combinations():\n",
    "    limit = 28124\n",
    "\n",
    "    sd = sum_divisors(limit)\n",
    "    abundant_nums = [i for i in range(12, limit) if sd[i] > i]\n",
    "    \n",
    "    abundant_sums = set()\n",
    "    for i in range(len(abundant_nums)):\n",
    "        for j in range(i, len(abundant_nums)):\n",
    "            s = abundant_nums[i]+abundant_nums[j]\n",
    "            if s >= limit:\n",
    "                break\n",
    "            abundant_sums.add(s)\n",
    "    \n",
    "    return limit*(limit-1)//2 - sum(abundant_sums)\n",
    "    \n",
    "%timeit euler23_combinations()\n",
    "print(euler23_combinations())"
   ]
  },
  {
   "cell_type": "code",
   "execution_count": 3,
   "metadata": {
    "collapsed": false
   },
   "outputs": [
    {
     "name": "stdout",
     "output_type": "stream",
     "text": [
      "1 loops, best of 3: 2.16 s per loop\n",
      "4179871\n"
     ]
    }
   ],
   "source": [
    "def euler23_any_filter():\n",
    "    limit = 28124\n",
    "    \n",
    "    def not_abundant_sum(n):\n",
    "        return not any(n - a in abundant_nums for a in abundant_nums)\n",
    "    \n",
    "    sd = sum_divisors(limit)\n",
    "    abundant_nums = set(i for i in range(12, limit) if sd[i] > i)\n",
    "\n",
    "    return sum(filter(not_abundant_sum, range(limit)))\n",
    "    \n",
    "%timeit euler23_any_filter()\n",
    "print(euler23_any_filter())"
   ]
  },
  {
   "cell_type": "markdown",
   "metadata": {},
   "source": [
    "Improve performance by keeping an ordered list of abundant numbers and only checking up to half the query value rather than all values in the set."
   ]
  },
  {
   "cell_type": "code",
   "execution_count": 4,
   "metadata": {
    "collapsed": false
   },
   "outputs": [
    {
     "name": "stdout",
     "output_type": "stream",
     "text": [
      "1 loops, best of 3: 952 ms per loop\n",
      "4179871\n"
     ]
    }
   ],
   "source": [
    "def euler23_half_query():\n",
    "    limit = 28124\n",
    "\n",
    "    def not_abundant_sum(n):\n",
    "        for a in abundant_nums:\n",
    "            if a > n//2: break\n",
    "            if n - a in abundant_nums_set:\n",
    "                return False\n",
    "        return True\n",
    "\n",
    "    sd = sum_divisors(limit)\n",
    "    abundant_nums = [i for i in range(12, limit) if sd[i] > i]\n",
    "    abundant_nums_set = set(abundant_nums)\n",
    "\n",
    "    return sum(filter(not_abundant_sum, range(limit)))\n",
    "    \n",
    "%timeit euler23_half_query()\n",
    "print(euler23_half_query())"
   ]
  }
 ],
 "metadata": {
  "kernelspec": {
   "display_name": "Python 3",
   "language": "python",
   "name": "python3"
  },
  "language_info": {
   "codemirror_mode": {
    "name": "ipython",
    "version": 3
   },
   "file_extension": ".py",
   "mimetype": "text/x-python",
   "name": "python",
   "nbconvert_exporter": "python",
   "pygments_lexer": "ipython3",
   "version": "3.4.3"
  }
 },
 "nbformat": 4,
 "nbformat_minor": 0
}
