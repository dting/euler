{
 "cells": [
  {
   "cell_type": "markdown",
   "metadata": {},
   "source": [
    "# Number letter counts"
   ]
  },
  {
   "cell_type": "markdown",
   "metadata": {},
   "source": [
    "[problem 17](https://projecteuler.net/problem=17)\n",
    ">If the numbers 1 to 5 are written out in words: one, two, three, four, five, then there are $3 + 3 + 5 + 4 + 4 = 19$ letters used in total.\n",
    "\n",
    ">If all the numbers from 1 to 1000 (one thousand) inclusive were written out in words, how many letters would be used?\n",
    "\n",
    "\n",
    ">NOTE: Do not count spaces or hyphens. For example, 342 (three hundred and forty-two) contains 23 letters and 115 (one hundred and fifteen) contains 20 letters. The use of \"and\" when writing out numbers is in compliance with British usage."
   ]
  },
  {
   "cell_type": "code",
   "execution_count": 1,
   "metadata": {
    "collapsed": false
   },
   "outputs": [
    {
     "name": "stdout",
     "output_type": "stream",
     "text": [
      "21124\n",
      "100 loops, best of 3: 7.86 ms per loop\n"
     ]
    }
   ],
   "source": [
    "class Euler17:    \n",
    "    unit = ['', 'One', 'Two', 'Three', 'Four', 'Five', 'Six', 'Seven', 'Eight', 'Nine']\n",
    "    teen = ['Ten', 'Eleven', 'Twelve', 'Thirteen', 'Fourteen', 'Fifteen', 'Sixteen', 'Seventeen', 'Eighteen', 'Nineteen']\n",
    "    ten = ['', '', 'Twenty', 'Thirty', 'Forty', 'Fifty', 'Sixty', 'Seventy', 'Eighty', 'Ninety']\n",
    "    \n",
    "    def to_words(self, n):\n",
    "        if n == 1000:\n",
    "            return \"One Thousand\"\n",
    "        h, to = divmod(n, 100)\n",
    "        return \" and \".join(filter(None, (self.hundreds(h), self.tens_ones(to))))\n",
    "    \n",
    "    def hundreds(self, h):\n",
    "        return \"{} Hundred\".format(self.unit[h]) if h > 0 else None\n",
    "        \n",
    "    def tens_ones(self, to):\n",
    "        if to == 0:\n",
    "            return None\n",
    "        if to < 10:\n",
    "            return self.unit[to]\n",
    "        if to < 20:\n",
    "            return self.teen[to-10]\n",
    "        t, o = divmod(to, 10)\n",
    "        return \" \".join(filter(None, (self.ten[t], self.unit[o])))\n",
    "    \n",
    "    def letter_count(self, n):\n",
    "        return sum(True for x in self.to_words(n) if x != ' ')\n",
    "    \n",
    "    def solve(self):\n",
    "        return sum(self.letter_count(i) for i in range(1, 1001))\n",
    "\n",
    "print(Euler17().solve())\n",
    "%timeit Euler17().solve()"
   ]
  },
  {
   "cell_type": "markdown",
   "metadata": {},
   "source": [
    "## [Hackerrank](https://www.hackerrank.com/contests/projecteuler/challenges/euler017)"
   ]
  },
  {
   "cell_type": "code",
   "execution_count": 2,
   "metadata": {
    "collapsed": false
   },
   "outputs": [
    {
     "name": "stdout",
     "output_type": "stream",
     "text": [
      "3\n",
      "1234567890\n",
      "One Billion Two Hundred Thirty Four Million Five Hundred Sixty Seven Thousand Eight Hundred Ninety\n",
      "100000000\n",
      "One Hundred Million\n",
      "1000980543021\n",
      "One Trillion Nine Hundred Eighty Million Five Hundred Forty Three Thousand Twenty One\n"
     ]
    }
   ],
   "source": [
    "class Humanizer:    \n",
    "    unit = ['', 'One', 'Two', 'Three', 'Four', 'Five', 'Six', 'Seven', 'Eight', 'Nine']\n",
    "    teen = ['Ten', 'Eleven', 'Twelve', 'Thirteen', 'Fourteen', 'Fifteen', 'Sixteen', 'Seventeen', 'Eighteen', 'Nineteen']\n",
    "    ten = ['', '', 'Twenty', 'Thirty', 'Forty', 'Fifty', 'Sixty', 'Seventy', 'Eighty', 'Ninety']\n",
    "    mill = ['', 'Thousand', 'Million', 'Billion', 'Trillion', 'Quadrillion', 'Quintillion', 'Sextillion',\n",
    "        'Septillion', 'Octillion', 'Nonillion', 'Decillion']\n",
    "    \n",
    "    def to_words(self, n):\n",
    "        if n == 0 :\n",
    "            return 'Zero'\n",
    "        chunks = \"{:,}\".format(n).split(',')\n",
    "        word_chunks = (self.chunk_to_words(chunk, len(chunks)-1-i) for i, chunk in enumerate(chunks))\n",
    "        return ' '.join(filter(None, word_chunks))\n",
    "\n",
    "    def chunk_to_words(self, chunk, m):\n",
    "        hto = int(chunk)\n",
    "        if hto == 0:\n",
    "            return None\n",
    "        h, to = divmod(hto, 100)\n",
    "        return \" \".join(filter(None, (self.hs(h), self.tos(to), self.mill[m])))\n",
    "    \n",
    "    def hs(self, h):\n",
    "        return '{} Hundred'.format(self.unit[h]) if h > 0 else None\n",
    "        \n",
    "    def tos(self, to):\n",
    "        if to == 0:\n",
    "            return None\n",
    "        if to < 10:\n",
    "            return self.unit[to]\n",
    "        if to < 20:\n",
    "            return self.teen[to-10]\n",
    "        t, o = divmod(to, 10)\n",
    "        return \" \".join(filter(None, (self.ten[t], self.unit[o])))\n",
    "\n",
    "def main():\n",
    "    humanizer = Humanizer()\n",
    "    for i in range(int(input())):\n",
    "        print(humanizer.to_words(int(input())))\n",
    "    \n",
    "if __name__ == \"__main__\":\n",
    "    main()"
   ]
  }
 ],
 "metadata": {
  "kernelspec": {
   "display_name": "Python 3",
   "language": "python",
   "name": "python3"
  },
  "language_info": {
   "codemirror_mode": {
    "name": "ipython",
    "version": 3
   },
   "file_extension": ".py",
   "mimetype": "text/x-python",
   "name": "python",
   "nbconvert_exporter": "python",
   "pygments_lexer": "ipython3",
   "version": "3.4.3"
  }
 },
 "nbformat": 4,
 "nbformat_minor": 0
}
