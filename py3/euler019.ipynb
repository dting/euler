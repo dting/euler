{
 "cells": [
  {
   "cell_type": "markdown",
   "metadata": {},
   "source": [
    "# Counting Sundays"
   ]
  },
  {
   "cell_type": "markdown",
   "metadata": {},
   "source": [
    "> You are given the following information, but you may prefer to do some research for yourself.\n",
    "\n",
    "> - 1 Jan 1900 was a Monday.\n",
    "> - Thirty days has September,\n",
    "> - April, June and November.\n",
    "> - All the rest have thirty-one,\n",
    "> - Saving February alone,\n",
    "> - Which has twenty-eight, rain or shine.\n",
    "> - And on leap years, twenty-nine.\n",
    "> - A leap year occurs on any year evenly divisible by 4, but not on a century unless it is divisible by 400.\n",
    "\n",
    "> How many Sundays fell on the first of the month during the twentieth century (1 Jan 1901 to 31 Dec 2000)?"
   ]
  },
  {
   "cell_type": "code",
   "execution_count": 1,
   "metadata": {
    "collapsed": false
   },
   "outputs": [
    {
     "name": "stdout",
     "output_type": "stream",
     "text": [
      "171\n",
      "1000 loops, best of 3: 1.05 ms per loop\n"
     ]
    }
   ],
   "source": [
    "from datetime import date\n",
    "\n",
    "def firsts_between(d1, d2):\n",
    "    if d1.day != 1:\n",
    "        d1 = date(d1.year+(d1.month//12), (d1.month%12)+1, 1)\n",
    "    while d1 <= d2:\n",
    "        yield d1\n",
    "        d1 = date(d1.year+(d1.month//12), (d1.month%12)+1, 1)\n",
    "        \n",
    "def count_sundays(date1, date2):\n",
    "    return sum(d.weekday() == 6 for d in firsts_between(date(*date1), date(*date2)))\n",
    "\n",
    "def euler19():\n",
    "    print(count_sundays((1901, 1, 1), (2000, 12, 31)))\n",
    "    %timeit count_sundays((1901, 1, 1), (2000, 12, 31))\n",
    "    \n",
    "if __name__ == \"__main__\":\n",
    "    euler19()"
   ]
  },
  {
   "cell_type": "markdown",
   "metadata": {},
   "source": [
    "## [HackerRank](https://www.hackerrank.com/contests/projecteuler/challenges/euler019)"
   ]
  },
  {
   "cell_type": "code",
   "execution_count": 2,
   "metadata": {
    "collapsed": false
   },
   "outputs": [
    {
     "name": "stdout",
     "output_type": "stream",
     "text": [
      "Sample Input:\n",
      "2\n",
      "1900 1 1\n",
      "1910 1 1\n",
      "2000 1 1\n",
      "2020 1 1\n",
      "\n",
      "Sample Output:\n",
      "18\n",
      "35\n"
     ]
    }
   ],
   "source": [
    "class HR19:\n",
    "    inputs = [\"2\", \"1900 1 1\", \"1910 1 1\", \"2000 1 1\", \"2020 1 1\"]\n",
    "    outputs = [\"18\", \"35\"]\n",
    "        \n",
    "    def display_sample(self):\n",
    "        print(\"Sample Input:\")\n",
    "        for i in self.inputs:\n",
    "            print(i)\n",
    "        print(\"\\nSample Output:\")\n",
    "        for o in self.outputs:\n",
    "            print(o)\n",
    "        \n",
    "    def sample_inputs(self):\n",
    "        it = iter(self.inputs)\n",
    "        def input():\n",
    "            return it.__next__()\n",
    "        return input\n",
    "    \n",
    "hr19 = HR19()\n",
    "hr19.display_sample()"
   ]
  },
  {
   "cell_type": "code",
   "execution_count": 3,
   "metadata": {
    "collapsed": false
   },
   "outputs": [
    {
     "name": "stdout",
     "output_type": "stream",
     "text": [
      "Actual Output:\n",
      "18\n",
      "35\n"
     ]
    }
   ],
   "source": [
    "from datetime import date\n",
    "\n",
    "def weekday(y, m, d):\n",
    "    if m < 3:\n",
    "        m += 12\n",
    "        y -= 1\n",
    "    return (d + (2*m)+(6*(m+1)//10) + y+(y//4)-(y//100)+(y//400) + 1) % 7\n",
    "\n",
    "def first_weekday_between(d1, d2, year_offset):\n",
    "    if d1.day != 1:\n",
    "        d1 = date(d1.year+(d1.month//12), ((d1.month%12)+1), 1)\n",
    "    while d1 <= d2:\n",
    "        yield weekday(year_offset + d1.year, d1.month, d1.day)\n",
    "        d1 = date(d1.year+(d1.month//12), ((d1.month%12)+1), 1)\n",
    "\n",
    "\n",
    "def hackerrank19():\n",
    "    for t in range(int(input())):\n",
    "        start_year, start_month, start_day = map(int, input().split(' '))\n",
    "        end_year, end_month, end_day = map(int, input().split(' '))\n",
    "\n",
    "        year_delta = end_year - start_year\n",
    "        start_year -= 1900\n",
    "\n",
    "        d1 = date(1900, start_month, start_day)\n",
    "        d2 = date(1900+year_delta, end_month, end_day)\n",
    "\n",
    "        print(sum(not d for d in first_weekday_between(d1, d2, start_year)))\n",
    "\n",
    "if __name__ == \"__main__\":\n",
    "    input = hr19.sample_inputs()\n",
    "    \n",
    "    print(\"Actual Output:\")\n",
    "    hackerrank19()\n",
    "    \n",
    "    del input"
   ]
  }
 ],
 "metadata": {
  "kernelspec": {
   "display_name": "Python 3",
   "language": "python",
   "name": "python3"
  },
  "language_info": {
   "codemirror_mode": {
    "name": "ipython",
    "version": 3
   },
   "file_extension": ".py",
   "mimetype": "text/x-python",
   "name": "python",
   "nbconvert_exporter": "python",
   "pygments_lexer": "ipython3",
   "version": "3.4.3"
  }
 },
 "nbformat": 4,
 "nbformat_minor": 0
}
