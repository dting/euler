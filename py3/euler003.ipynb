{
 "cells": [
  {
   "cell_type": "markdown",
   "metadata": {},
   "source": [
    "# Largest prime factor"
   ]
  },
  {
   "cell_type": "markdown",
   "metadata": {},
   "source": [
    "[problem 3](https://projecteuler.net/problem=3)\n",
    "> The prime factors of 13195 are 5, 7, 13 and 29.\n",
    "\n",
    "> What is the largest prime factor of the number 600851475143 ?"
   ]
  },
  {
   "cell_type": "code",
   "execution_count": 1,
   "metadata": {
    "collapsed": false
   },
   "outputs": [],
   "source": [
    "def euler3_brute_force():\n",
    "    n = 600851475143\n",
    "    factors = []\n",
    "    i = 2\n",
    "    while n > 1:\n",
    "        if not n % i:\n",
    "            factors.append(i)\n",
    "            while not n % i:\n",
    "                n //= i\n",
    "        i += 1\n",
    "    if n != 1: factors.append(n)\n",
    "    return factors[-1]"
   ]
  },
  {
   "cell_type": "code",
   "execution_count": 2,
   "metadata": {
    "collapsed": false
   },
   "outputs": [
    {
     "name": "stdout",
     "output_type": "stream",
     "text": [
      "6857\n",
      "1000 loops, best of 3: 1.41 ms per loop\n"
     ]
    }
   ],
   "source": [
    "print(euler3_brute_force())\n",
    "%timeit euler3_brute_force()"
   ]
  },
  {
   "cell_type": "code",
   "execution_count": 3,
   "metadata": {
    "collapsed": false
   },
   "outputs": [],
   "source": [
    "def euler3_odds():\n",
    "    n = 600851475143\n",
    "    factors = []\n",
    "    if not n % 2:\n",
    "        factors.append(2)\n",
    "        while not n % 2:\n",
    "            n //= 2\n",
    "    i = 3\n",
    "    while n > 1 and i < n**0.5:\n",
    "        if not n % i:\n",
    "            factors.append(i)\n",
    "            while not n % i:\n",
    "                n //= i\n",
    "        i += 2\n",
    "    if n != 1: factors.append(n)\n",
    "    return factors[-1]"
   ]
  },
  {
   "cell_type": "code",
   "execution_count": 4,
   "metadata": {
    "collapsed": false
   },
   "outputs": [
    {
     "name": "stdout",
     "output_type": "stream",
     "text": [
      "6857\n",
      "1000 loops, best of 3: 333 µs per loop\n"
     ]
    }
   ],
   "source": [
    "print(euler3_odds())\n",
    "%timeit euler3_odds()"
   ]
  },
  {
   "cell_type": "code",
   "execution_count": 5,
   "metadata": {
    "collapsed": false
   },
   "outputs": [],
   "source": [
    "def possible_prime_gen():\n",
    "    \"\"\"Yields 2 and 3 then values of 6k-1, 6k+1.\"\"\"\n",
    "    from itertools import count\n",
    "    \n",
    "    yield 2\n",
    "    yield 3\n",
    "    for i in count(1):\n",
    "        yield 6*i - 1\n",
    "        yield 6*i + 1\n",
    "    \n",
    "def euler3_possible_primes():\n",
    "    n = 600851475143\n",
    "    factors = []\n",
    "    for pp in possible_prime_gen():\n",
    "        if pp > n**0.5:\n",
    "            break\n",
    "        if not n % pp:\n",
    "            factors.append(pp)\n",
    "            while not n % pp:\n",
    "                n //= pp\n",
    "    if n != 1: factors.append(n)\n",
    "    return factors[-1]"
   ]
  },
  {
   "cell_type": "code",
   "execution_count": 6,
   "metadata": {
    "collapsed": false
   },
   "outputs": [
    {
     "name": "stdout",
     "output_type": "stream",
     "text": [
      "6857\n",
      "1000 loops, best of 3: 276 µs per loop\n"
     ]
    }
   ],
   "source": [
    "print(euler3_possible_primes())\n",
    "%timeit euler3_possible_primes()"
   ]
  },
  {
   "cell_type": "code",
   "execution_count": 7,
   "metadata": {
    "collapsed": true
   },
   "outputs": [],
   "source": [
    "def sundaram(n):\n",
    "    from itertools import count\n",
    "    \n",
    "    nk = (n-1)//2\n",
    "    ks = [True] * (nk+1)\n",
    "    for i in count(1):\n",
    "        step  = 2*i+1\n",
    "        start = i*(step + 1)\n",
    "        if start > nk:\n",
    "            break\n",
    "        ks[start::step] = (False for _ in range(start, nk+1, step))\n",
    "    return [2] + [2*(k+1)+1 for k, v in enumerate(ks[1:]) if v]"
   ]
  },
  {
   "cell_type": "code",
   "execution_count": 8,
   "metadata": {
    "collapsed": false
   },
   "outputs": [],
   "source": [
    "def euler3_sieved_primes():\n",
    "    n = 600851475143\n",
    "    primes = sundaram(int(n**0.5)+1)\n",
    "    factors = []\n",
    "    for p in primes:\n",
    "        if p > n**0.5:\n",
    "            break\n",
    "        if not n % p:\n",
    "            factors.append(p)\n",
    "            while not n % p:\n",
    "                n //= p\n",
    "    if n != 1: factors.append(n)\n",
    "    return factors[-1]"
   ]
  },
  {
   "cell_type": "code",
   "execution_count": 9,
   "metadata": {
    "collapsed": false
   },
   "outputs": [
    {
     "name": "stdout",
     "output_type": "stream",
     "text": [
      "6857\n",
      "10 loops, best of 3: 144 ms per loop\n"
     ]
    }
   ],
   "source": [
    "print(euler3_sieved_primes())\n",
    "%timeit euler3_sieved_primes()"
   ]
  },
  {
   "cell_type": "code",
   "execution_count": 10,
   "metadata": {
    "collapsed": true
   },
   "outputs": [],
   "source": [
    "PRIMES = sundaram(int(600851475143**0.5)+1)"
   ]
  },
  {
   "cell_type": "code",
   "execution_count": 11,
   "metadata": {
    "collapsed": false
   },
   "outputs": [],
   "source": [
    "def euler3_cached_primes():\n",
    "    n = 600851475143\n",
    "    factors = []\n",
    "    for p in PRIMES:\n",
    "        if p > n**0.5:\n",
    "            break\n",
    "        if not n % p:\n",
    "            factors.append(p)\n",
    "            while not n % p:\n",
    "                n //= p\n",
    "    if n != 1: factors.append(n)\n",
    "    return factors[-1]"
   ]
  },
  {
   "cell_type": "code",
   "execution_count": 12,
   "metadata": {
    "collapsed": false
   },
   "outputs": [
    {
     "name": "stdout",
     "output_type": "stream",
     "text": [
      "6857\n",
      "10000 loops, best of 3: 85.4 µs per loop\n"
     ]
    }
   ],
   "source": [
    "print(euler3_cached_primes())\n",
    "%timeit euler3_cached_primes()"
   ]
  }
 ],
 "metadata": {
  "kernelspec": {
   "display_name": "Python 3",
   "language": "python",
   "name": "python3"
  },
  "language_info": {
   "codemirror_mode": {
    "name": "ipython",
    "version": 3
   },
   "file_extension": ".py",
   "mimetype": "text/x-python",
   "name": "python",
   "nbconvert_exporter": "python",
   "pygments_lexer": "ipython3",
   "version": "3.4.3"
  }
 },
 "nbformat": 4,
 "nbformat_minor": 0
}
