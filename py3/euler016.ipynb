{
 "cells": [
  {
   "cell_type": "markdown",
   "metadata": {},
   "source": [
    "# Power digit sum"
   ]
  },
  {
   "cell_type": "markdown",
   "metadata": {},
   "source": [
    "[problem 16](https://projecteuler.net/problem=16)\n",
    "> $2^{15} = 32768$ and the sum of its digits is $3 + 2 + 7 + 6 + 8 = 26$.\n",
    "\n",
    "> What is the sum of the digits of the number $2^{1000}$?"
   ]
  },
  {
   "cell_type": "code",
   "execution_count": 1,
   "metadata": {
    "collapsed": false
   },
   "outputs": [
    {
     "name": "stdout",
     "output_type": "stream",
     "text": [
      "1366\n",
      "10000 loops, best of 3: 58.4 µs per loop\n"
     ]
    }
   ],
   "source": [
    "def euler16():\n",
    "    return sum(map(int, str(1<<1000)))\n",
    "\n",
    "print(euler16())\n",
    "%timeit euler16()"
   ]
  },
  {
   "cell_type": "code",
   "execution_count": 2,
   "metadata": {
    "collapsed": false
   },
   "outputs": [
    {
     "name": "stdout",
     "output_type": "stream",
     "text": [
      "1366\n",
      "10000 loops, best of 3: 152 µs per loop\n"
     ]
    }
   ],
   "source": [
    "def power_digit_sum(n):\n",
    "    s = 0\n",
    "    while n:\n",
    "        n, d = divmod(n, 10)\n",
    "        s += d\n",
    "    return s\n",
    "\n",
    "def euler16_math():\n",
    "    return power_digit_sum(1<<1000)\n",
    "\n",
    "print(euler16_math())\n",
    "%timeit euler16_math()"
   ]
  }
 ],
 "metadata": {
  "kernelspec": {
   "display_name": "Python 3",
   "language": "python",
   "name": "python3"
  },
  "language_info": {
   "codemirror_mode": {
    "name": "ipython",
    "version": 3
   },
   "file_extension": ".py",
   "mimetype": "text/x-python",
   "name": "python",
   "nbconvert_exporter": "python",
   "pygments_lexer": "ipython3",
   "version": "3.4.3"
  }
 },
 "nbformat": 4,
 "nbformat_minor": 0
}
