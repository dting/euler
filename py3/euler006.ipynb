{
 "cells": [
  {
   "cell_type": "markdown",
   "metadata": {},
   "source": [
    "# Sum square difference"
   ]
  },
  {
   "cell_type": "markdown",
   "metadata": {},
   "source": [
    "[problem 6](https://projecteuler.net/problem=6)\n",
    "\n",
    "> The sum of the squares of the first ten natural numbers is,\n",
    "\n",
    "> $$1^2 + 2^2 + ... + 10^2 = 385$$\n",
    "\n",
    "> The square of the sum of the first ten natural numbers is,\n",
    "\n",
    "> $$(1 + 2 + ... + 10)^2 = 55^2 = 3025$$\n",
    "\n",
    "> Hence the difference between the sum of the squares of the first ten natural numbers and the square of the sum is $3025 − 385 = 2640$.\n",
    "\n",
    "> Find the difference between the sum of the squares of the first one hundred natural numbers and the square of the sum."
   ]
  },
  {
   "cell_type": "code",
   "execution_count": 1,
   "metadata": {
    "collapsed": false
   },
   "outputs": [],
   "source": [
    "def sum_squares(n):\n",
    "    return sum(map(lambda x: x**2, range(1, n+1)))\n",
    "\n",
    "def square_sums(n):\n",
    "    return sum(range(1, n+1))**2\n",
    "\n",
    "def euler6_brute_force():\n",
    "    return abs(sum_squares(100) - square_sums(100))"
   ]
  },
  {
   "cell_type": "code",
   "execution_count": 2,
   "metadata": {
    "collapsed": false
   },
   "outputs": [
    {
     "name": "stdout",
     "output_type": "stream",
     "text": [
      "25164150\n",
      "10000 loops, best of 3: 54.8 µs per loop\n"
     ]
    }
   ],
   "source": [
    "print(euler6_brute_force())\n",
    "%timeit euler6_brute_force()"
   ]
  },
  {
   "cell_type": "markdown",
   "metadata": {},
   "source": [
    "##### Sum of squares\n",
    "\n",
    "$$\\sum_{i=1}^n i^2 = \\frac{(n^2+n)(2n+1)}{6}$$\n",
    "\n",
    "##### Square of sums\n",
    "\n",
    "$$\\left(\\sum_{i=1}^n a_i\\right)^2 = \\left(\\left(\\frac{n}{2}\\right)(a_1+a_n)\\right)^2$$"
   ]
  },
  {
   "cell_type": "code",
   "execution_count": 3,
   "metadata": {
    "collapsed": false
   },
   "outputs": [],
   "source": [
    "def sum_squares(n):\n",
    "    return (n**2 + n) * (2 * n + 1) // 6\n",
    "\n",
    "def square_sums(n):\n",
    "    return (n * (n + 1) // 2)**2\n",
    "\n",
    "def euler6_math():\n",
    "    return abs(sum_squares(100) - square_sums(100))"
   ]
  },
  {
   "cell_type": "code",
   "execution_count": 4,
   "metadata": {
    "collapsed": false
   },
   "outputs": [
    {
     "name": "stdout",
     "output_type": "stream",
     "text": [
      "25164150\n",
      "1000000 loops, best of 3: 1.69 µs per loop\n"
     ]
    }
   ],
   "source": [
    "print(euler6_math())\n",
    "%timeit euler6_math()"
   ]
  }
 ],
 "metadata": {
  "kernelspec": {
   "display_name": "Python 3",
   "language": "python",
   "name": "python3"
  },
  "language_info": {
   "codemirror_mode": {
    "name": "ipython",
    "version": 3
   },
   "file_extension": ".py",
   "mimetype": "text/x-python",
   "name": "python",
   "nbconvert_exporter": "python",
   "pygments_lexer": "ipython3",
   "version": "3.4.3"
  }
 },
 "nbformat": 4,
 "nbformat_minor": 0
}
