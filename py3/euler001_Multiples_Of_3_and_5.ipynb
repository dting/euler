{
 "cells": [
  {
   "cell_type": "markdown",
   "metadata": {},
   "source": [
    "# Multiples of 3 and 5"
   ]
  },
  {
   "cell_type": "markdown",
   "metadata": {},
   "source": [
    "[problem 1](http://projecteuler.net/problem=1)\n",
    "\n",
    "> If we list all the natural numbers below 10 that are multiples of 3 or 5, we get 3, 5, 6 and 9. The sum of these multiples is 23.\n",
    "\n",
    "> Find the sum of all the multiples of 3 or 5 below 1000."
   ]
  },
  {
   "cell_type": "code",
   "execution_count": 1,
   "metadata": {
    "collapsed": false
   },
   "outputs": [],
   "source": [
    "def euler1_brute_force():\n",
    "    return sum(i for i in range(1000) if not i % 3 or not i % 5)"
   ]
  },
  {
   "cell_type": "code",
   "execution_count": 2,
   "metadata": {
    "collapsed": false
   },
   "outputs": [
    {
     "name": "stdout",
     "output_type": "stream",
     "text": [
      "1000 loops, best of 3: 228 µs per loop\n",
      "233168\n"
     ]
    }
   ],
   "source": [
    "%timeit euler1_brute_force()\n",
    "print(euler1_brute_force())"
   ]
  },
  {
   "cell_type": "code",
   "execution_count": 3,
   "metadata": {
    "collapsed": false
   },
   "outputs": [],
   "source": [
    "def euler1_sieve():\n",
    "    mult = set()\n",
    "    mult.update(i for i in range(3,1000,3))\n",
    "    mult.update(i for i in range(5,1000,5))\n",
    "    return sum(mult)"
   ]
  },
  {
   "cell_type": "code",
   "execution_count": 4,
   "metadata": {
    "collapsed": false
   },
   "outputs": [
    {
     "name": "stdout",
     "output_type": "stream",
     "text": [
      "10000 loops, best of 3: 69.6 µs per loop\n",
      "233168\n"
     ]
    }
   ],
   "source": [
    "%timeit euler1_sieve()\n",
    "print(euler1_sieve())"
   ]
  },
  {
   "cell_type": "code",
   "execution_count": 5,
   "metadata": {
    "collapsed": false
   },
   "outputs": [],
   "source": [
    "def arithmetic_progression(a1, n, d):\n",
    "    return a1 + (n - 1) * d\n",
    "\n",
    "def arithmetic_series(a1, an, n):\n",
    "    return (n * (a1 + an)) // 2\n",
    "\n",
    "def num_multiples_below(mx, d):\n",
    "    return (mx - 1) // d\n",
    "\n",
    "def sum_multiples_below(a1, mx):\n",
    "    n = num_multiples_below(mx, a1)\n",
    "    return arithmetic_series(a1, arithmetic_progression(a1, n, a1), n)\n",
    "\n",
    "def euler1_arithmetic_series():\n",
    "    return sum_multiples_below(3, 1000) + sum_multiples_below(5, 1000) - sum_multiples_below(15, 1000)"
   ]
  },
  {
   "cell_type": "code",
   "execution_count": 6,
   "metadata": {
    "collapsed": false
   },
   "outputs": [
    {
     "name": "stdout",
     "output_type": "stream",
     "text": [
      "100000 loops, best of 3: 3.38 µs per loop\n",
      "233168\n"
     ]
    }
   ],
   "source": [
    "%timeit euler1_arithmetic_series()\n",
    "print(euler1_arithmetic_series())"
   ]
  }
 ],
 "metadata": {
  "kernelspec": {
   "display_name": "Python 3",
   "language": "python",
   "name": "python3"
  },
  "language_info": {
   "codemirror_mode": {
    "name": "ipython",
    "version": 3
   },
   "file_extension": ".py",
   "mimetype": "text/x-python",
   "name": "python",
   "nbconvert_exporter": "python",
   "pygments_lexer": "ipython3",
   "version": "3.4.3"
  }
 },
 "nbformat": 4,
 "nbformat_minor": 0
}
