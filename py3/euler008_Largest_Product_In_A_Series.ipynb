{
 "cells": [
  {
   "cell_type": "markdown",
   "metadata": {},
   "source": [
    "#Largest product in a series"
   ]
  },
  {
   "cell_type": "markdown",
   "metadata": {},
   "source": [
    "[problem 8](https://projecteuler.net/problem=8)\n",
    "\n",
    "> The four adjacent digits in the 1000-digit number that have the greatest product are 9 × 9 × 8 × 9 = 5832."
   ]
  },
  {
   "cell_type": "code",
   "execution_count": 1,
   "metadata": {
    "collapsed": true
   },
   "outputs": [],
   "source": [
    "data = (\n",
    "'73167176531330624919225119674426574742355349194934'\n",
    "'96983520312774506326239578318016984801869478851843'\n",
    "'85861560789112949495459501737958331952853208805511'\n",
    "'12540698747158523863050715693290963295227443043557'\n",
    "'66896648950445244523161731856403098711121722383113'\n",
    "'62229893423380308135336276614282806444486645238749'\n",
    "'30358907296290491560440772390713810515859307960866'\n",
    "'70172427121883998797908792274921901699720888093776'\n",
    "'65727333001053367881220235421809751254540594752243'\n",
    "'52584907711670556013604839586446706324415722155397'\n",
    "'53697817977846174064955149290862569321978468622482'\n",
    "'83972241375657056057490261407972968652414535100474'\n",
    "'82166370484403199890008895243450658541227588666881'\n",
    "'16427171479924442928230863465674813919123162824586'\n",
    "'17866458359124566529476545682848912883142607690042'\n",
    "'24219022671055626321111109370544217506941658960408'\n",
    "'07198403850962455444362981230987879927244284909188'\n",
    "'84580156166097919133875499200524063689912560717606'\n",
    "'05886116467109405077541002256983155200055935729725'\n",
    "'71636269561882670428252483600823257530420752963450')"
   ]
  },
  {
   "cell_type": "markdown",
   "metadata": {},
   "source": [
    "> Find the thirteen adjacent digits in the 1000-digit number that have the greatest product. What is the value of this product?"
   ]
  },
  {
   "cell_type": "markdown",
   "metadata": {},
   "source": [
    "## Data all loaded in memory"
   ]
  },
  {
   "cell_type": "code",
   "execution_count": 2,
   "metadata": {
    "collapsed": false
   },
   "outputs": [],
   "source": [
    "arr = list(map(int, data))"
   ]
  },
  {
   "cell_type": "code",
   "execution_count": 3,
   "metadata": {
    "collapsed": false
   },
   "outputs": [],
   "source": [
    "def product(numbers):\n",
    "    p = 1;\n",
    "    for n in numbers:\n",
    "        p *= n\n",
    "    return p\n",
    "\n",
    "def largest_product(arr, k):\n",
    "    return max(product(arr[i:i+k]) for i in range(len(arr)-k))\n",
    "\n",
    "def euler8_brute_force():\n",
    "    return largest_product(arr, 13)"
   ]
  },
  {
   "cell_type": "code",
   "execution_count": 4,
   "metadata": {
    "collapsed": false
   },
   "outputs": [
    {
     "name": "stdout",
     "output_type": "stream",
     "text": [
      "100 loops, best of 3: 1.71 ms per loop\n",
      "23514624000\n"
     ]
    }
   ],
   "source": [
    "%timeit euler8_brute_force()\n",
    "print(euler8_brute_force())"
   ]
  },
  {
   "cell_type": "markdown",
   "metadata": {},
   "source": [
    "### Running product total\n",
    "- Keep track of the number of non zero digits.\n",
    "- Keep track of product of non zero digits.\n",
    "- Divide total by the digit dropping out of window if num digits is > 13.\n",
    "- Compare max only when 13 digits encountered with no zeros.\n",
    "- Num digits and product reset to 0 when 0 is encountered."
   ]
  },
  {
   "cell_type": "code",
   "execution_count": 5,
   "metadata": {
    "collapsed": true
   },
   "outputs": [],
   "source": [
    "def largest_product_div_mult(arr, k):\n",
    "    cur_product = 0\n",
    "    num_digits = 0\n",
    "    i = 0\n",
    "    mx = 0\n",
    "    while i < len(arr):\n",
    "        digit = arr[i]\n",
    "        num_digits += 1\n",
    "        if digit:\n",
    "            cur_product = digit if num_digits == 1 else cur_product * digit\n",
    "            cur_product = cur_product if num_digits < 14 else cur_product // arr[i-13]\n",
    "            if num_digits > 12:\n",
    "                mx = max(mx, cur_product)\n",
    "        else:\n",
    "            cur_product = 0\n",
    "            num_digits = 0\n",
    "        i += 1\n",
    "    return mx\n",
    "\n",
    "def euler8_div_mult():\n",
    "    return largest_product_div_mult(arr, 13)"
   ]
  },
  {
   "cell_type": "code",
   "execution_count": 6,
   "metadata": {
    "collapsed": false
   },
   "outputs": [
    {
     "name": "stdout",
     "output_type": "stream",
     "text": [
      "1000 loops, best of 3: 596 µs per loop\n",
      "23514624000\n"
     ]
    }
   ],
   "source": [
    "%timeit euler8_div_mult()\n",
    "print(euler8_div_mult())"
   ]
  },
  {
   "cell_type": "markdown",
   "metadata": {},
   "source": [
    "## Data generator expression"
   ]
  },
  {
   "cell_type": "code",
   "execution_count": 7,
   "metadata": {
    "collapsed": false
   },
   "outputs": [],
   "source": [
    "def digitProduct(n):\n",
    "    p = 1\n",
    "    if not n:\n",
    "        return 0\n",
    "    while n:\n",
    "        p *= (n % 10)\n",
    "        n //= 10\n",
    "    return p\n",
    "\n",
    "def largest_product_gen(gen, k):\n",
    "    n = 0\n",
    "    MOD = 10**k\n",
    "    DIV = 10**(k-1)\n",
    "    mx = 0\n",
    "    for d in gen:\n",
    "        if not d:\n",
    "            n = d\n",
    "        else:\n",
    "            n = ((n * 10) + d) % MOD\n",
    "            if n // DIV:\n",
    "                mx = max(mx, digitProduct(n))\n",
    "    return mx\n",
    "\n",
    "def euler8_gen():\n",
    "    return largest_product_gen((x for x in arr), 13)"
   ]
  },
  {
   "cell_type": "code",
   "execution_count": 8,
   "metadata": {
    "collapsed": false
   },
   "outputs": [
    {
     "name": "stdout",
     "output_type": "stream",
     "text": [
      "1000 loops, best of 3: 1.35 ms per loop\n",
      "23514624000\n"
     ]
    }
   ],
   "source": [
    "%timeit euler8_gen()\n",
    "print(euler8_gen())"
   ]
  },
  {
   "cell_type": "code",
   "execution_count": 9,
   "metadata": {
    "collapsed": true
   },
   "outputs": [],
   "source": [
    "def largest_product_gen_div_mult(gen, k):\n",
    "    cur_product = 0\n",
    "    q = []\n",
    "    mx = 0\n",
    "    for digit in gen:\n",
    "        if digit:\n",
    "            q.append(digit)\n",
    "            cur_product = digit if len(q) == 1 else cur_product * digit\n",
    "            cur_product = cur_product if len(q) < 14 else cur_product // q[-14]\n",
    "            if len(q) > 12:\n",
    "                mx = max(mx, cur_product)\n",
    "                q = q[-13:]\n",
    "        else:\n",
    "            cur_product = 0\n",
    "            q = []\n",
    "    return mx\n",
    "\n",
    "def euler8_gen_div_mult():\n",
    "    return largest_product_gen_div_mult((x for x in arr), 13)"
   ]
  },
  {
   "cell_type": "code",
   "execution_count": 10,
   "metadata": {
    "collapsed": false
   },
   "outputs": [
    {
     "name": "stdout",
     "output_type": "stream",
     "text": [
      "1000 loops, best of 3: 786 µs per loop\n",
      "23514624000\n"
     ]
    }
   ],
   "source": [
    "%timeit euler8_gen_div_mult()\n",
    "print(euler8_gen_div_mult())"
   ]
  }
 ],
 "metadata": {
  "kernelspec": {
   "display_name": "Python 3",
   "language": "python",
   "name": "python3"
  },
  "language_info": {
   "codemirror_mode": {
    "name": "ipython",
    "version": 3
   },
   "file_extension": ".py",
   "mimetype": "text/x-python",
   "name": "python",
   "nbconvert_exporter": "python",
   "pygments_lexer": "ipython3",
   "version": "3.4.3"
  }
 },
 "nbformat": 4,
 "nbformat_minor": 0
}
