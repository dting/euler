{
 "cells": [
  {
   "cell_type": "markdown",
   "metadata": {},
   "source": [
    "# Lattice paths"
   ]
  },
  {
   "cell_type": "markdown",
   "metadata": {},
   "source": [
    "[problem 15](https://projecteuler.net/problem=15)\n",
    "> Starting in the top left corner of a 2×2 grid, and only being able to move to the right and down, there are exactly 6 routes to the bottom right corner.\n",
    "\n",
    "> ![path](https://projecteuler.net/project/images/p015.gif)\n",
    "\n",
    "> How many such routes are there through a 20×20 grid?"
   ]
  },
  {
   "cell_type": "markdown",
   "metadata": {},
   "source": [
    "## Dynamic Programming"
   ]
  },
  {
   "cell_type": "code",
   "execution_count": 1,
   "metadata": {
    "collapsed": false
   },
   "outputs": [
    {
     "name": "stdout",
     "output_type": "stream",
     "text": [
      "10000 loops, best of 3: 177 µs per loop\n",
      "137846528820\n"
     ]
    }
   ],
   "source": [
    "def euler15_dp():\n",
    "    def calc_num_paths(a, b):\n",
    "        grid = [[1]*(b+1) for _ in range(a+1)]\n",
    "    \n",
    "        for i in range(1, a+1):\n",
    "            for j in range(1, b+1):\n",
    "                grid[i][j] = (grid[i-1][j] + grid[i][j-1])\n",
    "        return grid\n",
    "\n",
    "    return calc_num_paths(20, 20)[-1][-1]\n",
    "\n",
    "%timeit euler15_dp()\n",
    "print(euler15_dp())"
   ]
  },
  {
   "cell_type": "markdown",
   "metadata": {},
   "source": [
    "## Combinatorics"
   ]
  },
  {
   "cell_type": "code",
   "execution_count": 2,
   "metadata": {
    "collapsed": false
   },
   "outputs": [
    {
     "name": "stdout",
     "output_type": "stream",
     "text": [
      "100000 loops, best of 3: 4.43 µs per loop\n",
      "137846528820\n"
     ]
    }
   ],
   "source": [
    "def euler15_math_fact():\n",
    "    def calc_num_paths(a, b):\n",
    "        from math import factorial\n",
    "        return factorial(a+b) // factorial(a) // factorial(b)\n",
    "\n",
    "    return calc_num_paths(20, 20)\n",
    "\n",
    "%timeit euler15_math_fact()\n",
    "print(euler15_math_fact())"
   ]
  },
  {
   "cell_type": "code",
   "execution_count": 3,
   "metadata": {
    "collapsed": false
   },
   "outputs": [
    {
     "name": "stdout",
     "output_type": "stream",
     "text": [
      "10000 loops, best of 3: 40.3 µs per loop\n",
      "137846528820\n"
     ]
    }
   ],
   "source": [
    "def euler15_memo_fact():\n",
    "    def memoize(obj):\n",
    "        import functools\n",
    "        cache = obj.cache = {}\n",
    "\n",
    "        @functools.wraps(obj)\n",
    "        def memoizer(arg):\n",
    "            if arg not in cache:\n",
    "                cache[arg] = obj(arg)\n",
    "            return cache[arg]\n",
    "        return memoizer\n",
    "    \n",
    "    @memoize\n",
    "    def factorial(n):\n",
    "        if n == 1: return 1\n",
    "        return n * factorial(n-1)\n",
    "    \n",
    "    def calc_num_paths(a, b):\n",
    "        return factorial(a+b) // factorial(a) // factorial(b)\n",
    "\n",
    "    return calc_num_paths(20, 20)\n",
    "\n",
    "%timeit euler15_memo_fact()\n",
    "print(euler15_memo_fact())"
   ]
  },
  {
   "cell_type": "code",
   "execution_count": 4,
   "metadata": {
    "collapsed": false
   },
   "outputs": [
    {
     "name": "stdout",
     "output_type": "stream",
     "text": [
      "The slowest run took 4.34 times longer than the fastest. This could mean that an intermediate result is being cached \n",
      "1000000 loops, best of 3: 1.03 µs per loop\n",
      "137846528820\n"
     ]
    }
   ],
   "source": [
    "class LookupFact:\n",
    "    def __init__(self):\n",
    "        self.fact = {1:1}\n",
    "        for i in range(2, 41):\n",
    "            self.fact[i] = i * self.fact[i-1]\n",
    "    \n",
    "    def calc_num_paths(self, a, b):\n",
    "        return self.fact[a+b] // self.fact[a] // self.fact[b]\n",
    "\n",
    "    def euler15(self):\n",
    "        return self.calc_num_paths(20, 20)\n",
    "\n",
    "lookupFact = LookupFact()\n",
    "%timeit lookupFact.euler15()\n",
    "print(lookupFact.euler15())"
   ]
  },
  {
   "cell_type": "markdown",
   "metadata": {},
   "source": [
    "Instead of calculating large factorials, the answer can be built using a reduction of the combination forumla for the specific case of a $n \\times n$ grid.\n",
    "\n",
    "$$\n",
    "{2n \\choose n} = \\prod_{i=1}^n \\frac{(n+i)}i\n",
    "$$"
   ]
  },
  {
   "cell_type": "code",
   "execution_count": 5,
   "metadata": {
    "collapsed": false
   },
   "outputs": [
    {
     "name": "stdout",
     "output_type": "stream",
     "text": [
      "100000 loops, best of 3: 5.02 µs per loop\n",
      "137846528820\n"
     ]
    }
   ],
   "source": [
    "def euler15_built_up_result():\n",
    "    def calc_num_paths(n):\n",
    "        result = 1\n",
    "        for i in range(1, n+1):\n",
    "            result = result * (n+i) // i\n",
    "        return result\n",
    "\n",
    "    return calc_num_paths(20)\n",
    "\n",
    "%timeit euler15_built_up_result()\n",
    "print(euler15_built_up_result())"
   ]
  }
 ],
 "metadata": {
  "kernelspec": {
   "display_name": "Python 3",
   "language": "python",
   "name": "python3"
  },
  "language_info": {
   "codemirror_mode": {
    "name": "ipython",
    "version": 3
   },
   "file_extension": ".py",
   "mimetype": "text/x-python",
   "name": "python",
   "nbconvert_exporter": "python",
   "pygments_lexer": "ipython3",
   "version": "3.4.3"
  }
 },
 "nbformat": 4,
 "nbformat_minor": 0
}
