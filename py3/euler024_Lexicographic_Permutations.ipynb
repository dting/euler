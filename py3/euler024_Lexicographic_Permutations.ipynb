{
 "cells": [
  {
   "cell_type": "markdown",
   "metadata": {},
   "source": [
    "# Lexicographic permutations"
   ]
  },
  {
   "cell_type": "markdown",
   "metadata": {},
   "source": [
    "[problem 24](https://projecteuler.net/problem=24)\n",
    "> A permutation is an ordered arrangement of objects. For example, $3124$ is one possible permutation of the digits $1, 2, 3, 4$. If all of the permutations are listed numerically or alphabetically, we call it lexicographic order. The lexicographic permutations of $0, 1, 2$ are:\n",
    "> <pre style=\"display:inline-block;\">012   021   102   120   201   210</pre>  \n",
    "> What is the millionth lexicographic permutation of the digits 0, 1, 2, 3, 4, 5, 6, 7, 8 and 9?"
   ]
  },
  {
   "cell_type": "code",
   "execution_count": 1,
   "metadata": {
    "collapsed": true
   },
   "outputs": [],
   "source": [
    "DATA = list(map(str, range(10)))\n",
    "NTH = 10**6"
   ]
  },
  {
   "cell_type": "code",
   "execution_count": 2,
   "metadata": {
    "collapsed": false
   },
   "outputs": [
    {
     "name": "stdout",
     "output_type": "stream",
     "text": [
      "100000 loops, best of 3: 13.9 µs per loop\n",
      "2783915460\n"
     ]
    }
   ],
   "source": [
    "def euler24_recursive():\n",
    "    from math import factorial\n",
    "    \n",
    "    def nth_perm(n, elements):\n",
    "        if not elements: return \"\"\n",
    "        q, r = divmod(n, factorial(len(elements)-1))\n",
    "        return elements.pop(q) + nth_perm(r, elements)\n",
    "\n",
    "    return nth_perm(NTH-1, DATA[:])\n",
    "\n",
    "%timeit euler24_recursive()\n",
    "print(euler24_recursive())"
   ]
  }
 ],
 "metadata": {
  "kernelspec": {
   "display_name": "Python 3",
   "language": "python",
   "name": "python3"
  },
  "language_info": {
   "codemirror_mode": {
    "name": "ipython",
    "version": 3
   },
   "file_extension": ".py",
   "mimetype": "text/x-python",
   "name": "python",
   "nbconvert_exporter": "python",
   "pygments_lexer": "ipython3",
   "version": "3.4.3"
  }
 },
 "nbformat": 4,
 "nbformat_minor": 0
}
