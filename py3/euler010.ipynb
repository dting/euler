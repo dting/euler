{
 "cells": [
  {
   "cell_type": "markdown",
   "metadata": {},
   "source": [
    "# Summation of primes"
   ]
  },
  {
   "cell_type": "markdown",
   "metadata": {},
   "source": [
    "[problem 10](https://projecteuler.net/problem=10)\n",
    "> The sum of the primes below 10 is: \n",
    "> $$2 + 3 + 5 + 7 = 17$$\n",
    "> Find the sum of all the primes below two million."
   ]
  },
  {
   "cell_type": "markdown",
   "metadata": {},
   "source": [
    "### [Sieve of Eratosthenes](http://en.wikipedia.org/wiki/Sieve_of_Eratosthenes)"
   ]
  },
  {
   "cell_type": "markdown",
   "metadata": {},
   "source": [
    "Naive implementation that sieves until $\\sqrt{n}$ is reached.  \n",
    "\n",
    "This creates a set of all non prime numbers less than n that is used to check primality for numbers 2 to n."
   ]
  },
  {
   "cell_type": "code",
   "execution_count": 1,
   "metadata": {
    "collapsed": false
   },
   "outputs": [
    {
     "name": "stdout",
     "output_type": "stream",
     "text": [
      "0 []\n",
      "1 []\n",
      "2 []\n",
      "3 [2]\n",
      "4 [2, 3]\n",
      "5 [2, 3]\n",
      "6 [2, 3, 5]\n",
      "7 [2, 3, 5]\n",
      "8 [2, 3, 5, 7]\n",
      "9 [2, 3, 5, 7]\n",
      "1 loops, best of 3: 4.51 s per loop\n",
      "664579\n"
     ]
    }
   ],
   "source": [
    "def eratosthenes_set_update(n):\n",
    "    \"\"\" Returns a list of primes < n \"\"\"\n",
    "    sieve = set()\n",
    "    for i in range(2, int(n**0.5)+1):\n",
    "        if i not in sieve:\n",
    "            sieve.update(range(i*i, n, i))\n",
    "    return [i for i in range(2, n) if i not in sieve]\n",
    "\n",
    "for i in range(10):\n",
    "    print (i, eratosthenes_set_update(i))\n",
    "    \n",
    "%timeit eratosthenes_set_update(10**7)\n",
    "print(len(eratosthenes_set_update(10**7)))"
   ]
  },
  {
   "cell_type": "markdown",
   "metadata": {},
   "source": [
    "Only checking odd numbers increases performance significantly.  \n",
    "\n",
    "This creates a set with all odd non prime numbers less than n. Iterative over odd numbers in the range and taking values that are not in the sieve gives us our list of primes.  \n",
    "\n",
    "Note that 2 is added explicitly to the results."
   ]
  },
  {
   "cell_type": "code",
   "execution_count": 2,
   "metadata": {
    "collapsed": false
   },
   "outputs": [
    {
     "name": "stdout",
     "output_type": "stream",
     "text": [
      "0 []\n",
      "1 []\n",
      "2 []\n",
      "3 [2]\n",
      "4 [2, 3]\n",
      "5 [2, 3]\n",
      "6 [2, 3, 5]\n",
      "7 [2, 3, 5]\n",
      "8 [2, 3, 5, 7]\n",
      "9 [2, 3, 5, 7]\n",
      "1 loops, best of 3: 2.31 s per loop\n",
      "664579\n"
     ]
    }
   ],
   "source": [
    "def eratosthenes_set_update_odds(n):\n",
    "    \"\"\" Returns a list of primes < n \"\"\"\n",
    "    sieve = set()\n",
    "    for i in range(3, int(n**0.5)+1, 2):\n",
    "        if i not in sieve:\n",
    "            sieve.update(range(i*i, n, 2*i))\n",
    "    return ([2] if n > 2 else []) + [i for i in range(3, n, 2) if i not in sieve]\n",
    "    \n",
    "for i in range(10):\n",
    "    print (i, eratosthenes_set_update_odds(i))\n",
    "    \n",
    "%timeit eratosthenes_set_update_odds(10**7)\n",
    "print(len(eratosthenes_set_update_odds(10**7)))"
   ]
  },
  {
   "cell_type": "markdown",
   "metadata": {},
   "source": [
    "Instead of updating a set, we can allocate a list to use as a sieve and update using slicing."
   ]
  },
  {
   "cell_type": "code",
   "execution_count": 3,
   "metadata": {
    "collapsed": false
   },
   "outputs": [
    {
     "name": "stdout",
     "output_type": "stream",
     "text": [
      "0 []\n",
      "1 []\n",
      "2 []\n",
      "3 [2]\n",
      "4 [2, 3]\n",
      "5 [2, 3]\n",
      "6 [2, 3, 5]\n",
      "7 [2, 3, 5]\n",
      "8 [2, 3, 5, 7]\n",
      "9 [2, 3, 5, 7]\n",
      "1 loops, best of 3: 1.48 s per loop\n",
      "664579\n"
     ]
    }
   ],
   "source": [
    "def eratosthenes_array_odds(n):\n",
    "    \"\"\" Returns a list of primes < n \"\"\"\n",
    "    sieve = list(range(n))\n",
    "    for i in range(3, int(n**0.5)+1, 2):\n",
    "        if sieve[i]:\n",
    "            sieve[i*i::i] = [0] * ((n-i*i-1)//i + 1)\n",
    "    return ([2] if n > 2 else []) + [i for i in sieve[3::2] if i]\n",
    "\n",
    "for i in range(10):\n",
    "    print (i, eratosthenes_array_odds(i))\n",
    "    \n",
    "%timeit eratosthenes_array_odds(10**7)\n",
    "print(len(eratosthenes_array_odds(10**7)))"
   ]
  },
  {
   "cell_type": "markdown",
   "metadata": {},
   "source": [
    "Another way to save memory is to use a list of booleans rather than the actual numbers.  \n",
    "\n",
    "To get the list of primes we can iterate over the odds in range and check the index in the sieve."
   ]
  },
  {
   "cell_type": "code",
   "execution_count": 4,
   "metadata": {
    "collapsed": false
   },
   "outputs": [
    {
     "name": "stdout",
     "output_type": "stream",
     "text": [
      "0 []\n",
      "1 []\n",
      "2 []\n",
      "3 [2]\n",
      "4 [2, 3]\n",
      "5 [2, 3]\n",
      "6 [2, 3, 5]\n",
      "7 [2, 3, 5]\n",
      "8 [2, 3, 5, 7]\n",
      "9 [2, 3, 5, 7]\n",
      "1 loops, best of 3: 871 ms per loop\n",
      "664579\n"
     ]
    }
   ],
   "source": [
    "def eratosthenes_bool_array_odds(n):\n",
    "    \"\"\" Returns a list of primes < n \"\"\"\n",
    "    sieve = [True] * n\n",
    "    for i in range(3, int(n**0.5)+1, 2):\n",
    "        if sieve[i]:\n",
    "            sieve[i*i::i] = [0] * ((n-i*i-1)//i + 1)\n",
    "    return ([2] if n > 2 else []) + [i for i in range(3, n, 2) if sieve[i]]\n",
    "\n",
    "for i in range(10):\n",
    "    print (i, eratosthenes_bool_array_odds(i))\n",
    "\n",
    "%timeit eratosthenes_bool_array_odds(10**7)\n",
    "print(len(eratosthenes_bool_array_odds(10**7)))"
   ]
  },
  {
   "cell_type": "markdown",
   "metadata": {},
   "source": [
    "For even an even more efficient method, we can allocate an array for only the odd numbers."
   ]
  },
  {
   "cell_type": "code",
   "execution_count": 5,
   "metadata": {
    "collapsed": false
   },
   "outputs": [
    {
     "name": "stdout",
     "output_type": "stream",
     "text": [
      "0 []\n",
      "1 []\n",
      "2 []\n",
      "3 [2]\n",
      "4 [2, 3]\n",
      "5 [2, 3]\n",
      "6 [2, 3, 5]\n",
      "7 [2, 3, 5]\n",
      "8 [2, 3, 5, 7]\n",
      "9 [2, 3, 5, 7]\n",
      "1 loops, best of 3: 722 ms per loop\n",
      "664579\n"
     ]
    }
   ],
   "source": [
    "def eratosthenes_bool_array_odd_half_sieve(n):\n",
    "    \"\"\" Returns a list of primes < n \"\"\"\n",
    "    sieve = [True] * (n//2)\n",
    "    end = len(sieve)\n",
    "    for i in range(3, int(n**0.5)+1, 2):\n",
    "        if sieve[i//2]:\n",
    "            start = i*i//2\n",
    "            sieve[start::i] = [False] * ((end-start-1)//i + 1)\n",
    "    return ([2] if n > 2 else []) + [2*i+1 for i in range(1, n//2) if sieve[i]]\n",
    "    \n",
    "for i in range(10):\n",
    "    print (i, eratosthenes_bool_array_odd_half_sieve(i))\n",
    "    \n",
    "%timeit eratosthenes_bool_array_odd_half_sieve(10**7)\n",
    "print(len(eratosthenes_bool_array_odd_half_sieve(10**7)))"
   ]
  },
  {
   "cell_type": "markdown",
   "metadata": {},
   "source": [
    "### [Sieve of Sundaram](http://en.wikipedia.org/wiki/Sieve_of_Sundaram)"
   ]
  },
  {
   "cell_type": "code",
   "execution_count": 6,
   "metadata": {
    "collapsed": false
   },
   "outputs": [
    {
     "name": "stdout",
     "output_type": "stream",
     "text": [
      "0 []\n",
      "1 []\n",
      "2 []\n",
      "3 [2]\n",
      "4 [2, 3]\n",
      "5 [2, 3]\n",
      "6 [2, 3, 5]\n",
      "7 [2, 3, 5]\n",
      "8 [2, 3, 5, 7]\n",
      "9 [2, 3, 5, 7]\n",
      "1 loops, best of 3: 856 ms per loop\n",
      "664579\n"
     ]
    }
   ],
   "source": [
    "def sundaram(n):\n",
    "    \"\"\" Returns a list of primes < n \"\"\"\n",
    "    from itertools import count\n",
    "    half = n//2\n",
    "    sieve = [True] * half\n",
    "    for i in count(1):\n",
    "        step  = 2*i + 1\n",
    "        start = i * (step+1)\n",
    "        if start >= half:\n",
    "            break\n",
    "        sieve[start::step] = [False] * ((half-start-1)//step + 1)\n",
    "    return ([2] if n > 2 else []) + [2*k+1 for k in range(1, half) if sieve[k]]\n",
    "\n",
    "for i in range(10):\n",
    "    print(i, sundaram(i))\n",
    "\n",
    "%timeit sundaram(10**7)\n",
    "print(len(sundaram(10**7)))"
   ]
  },
  {
   "cell_type": "markdown",
   "metadata": {},
   "source": [
    "## Solution"
   ]
  },
  {
   "cell_type": "code",
   "execution_count": 7,
   "metadata": {
    "collapsed": false
   },
   "outputs": [
    {
     "name": "stdout",
     "output_type": "stream",
     "text": [
      "10 loops, best of 3: 137 ms per loop\n",
      "142913828922\n"
     ]
    }
   ],
   "source": [
    "def euler10():\n",
    "    return sum(eratosthenes_bool_array_odd_half_sieve(2*10**6))\n",
    "\n",
    "%timeit euler10()\n",
    "print(euler10())"
   ]
  }
 ],
 "metadata": {
  "kernelspec": {
   "display_name": "Python 3",
   "language": "python",
   "name": "python3"
  },
  "language_info": {
   "codemirror_mode": {
    "name": "ipython",
    "version": 3
   },
   "file_extension": ".py",
   "mimetype": "text/x-python",
   "name": "python",
   "nbconvert_exporter": "python",
   "pygments_lexer": "ipython3",
   "version": "3.4.3"
  }
 },
 "nbformat": 4,
 "nbformat_minor": 0
}
