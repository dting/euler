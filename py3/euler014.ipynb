{
 "cells": [
  {
   "cell_type": "markdown",
   "metadata": {},
   "source": [
    "# Longest Collatz sequence"
   ]
  },
  {
   "cell_type": "markdown",
   "metadata": {},
   "source": [
    "[Problem 14](https://projecteuler.net/problem=14)\n",
    "> The following iterative sequence is defined for the set of positive integers:\n",
    "\n",
    "> \\begin{align}\n",
    "n &→ \\frac n2 &\\text{(n is even)} \\\\\n",
    "n &→ 3n + 1 &\\text{(n is odd)}\n",
    "\\end{align}\n",
    "\n",
    "> Using the rule above and starting with 13, we generate the following sequence:\n",
    "\n",
    "> $$\n",
    "13 → 40 → 20 → 10 → 5 → 16 → 8 → 4 → 2 → 1\n",
    "$$\n",
    "\n",
    "> It can be seen that this sequence (starting at 13 and finishing at 1) contains 10 terms. Although it has not been proved yet (Collatz Problem), it is thought that all starting numbers finish at 1.\n",
    "\n",
    "> Which starting number, under one million, produces the longest chain?\n",
    "\n",
    "> NOTE: Once the chain starts the terms are allowed to go above one million."
   ]
  },
  {
   "cell_type": "markdown",
   "metadata": {},
   "source": [
    "The truly naive approach requires too much time but this problem is a great candidate for memoization.  \n",
    "\n",
    "If the result of the collatz operation is a number we have already calculated the collatz length we should just return how many operations it took to reach that point plus the length for the value we have already seen."
   ]
  },
  {
   "cell_type": "code",
   "execution_count": 1,
   "metadata": {
    "collapsed": false
   },
   "outputs": [
    {
     "name": "stdout",
     "output_type": "stream",
     "text": [
      "837799\n",
      "1 loops, best of 3: 595 ms per loop\n"
     ]
    }
   ],
   "source": [
    "class NaiveMemo:    \n",
    "    def memoize(obj):\n",
    "        import functools\n",
    "        cache = obj.cache = {}\n",
    "\n",
    "        @functools.wraps(obj)\n",
    "        def memoizer(self, arg):\n",
    "            if arg not in cache:\n",
    "                cache[arg] = obj(self, arg)\n",
    "            return cache[arg]\n",
    "        return memoizer\n",
    "    \n",
    "    @memoize\n",
    "    def collatz_length(self, n):\n",
    "        if n == 1: return 1\n",
    "        if n & 1:\n",
    "            return 1 + self.collatz_length(3*n+1)\n",
    "        return 1 + self.collatz_length(n>>1)\n",
    "\n",
    "    def max_collatz_length(self, n):\n",
    "        mx = self.collatz_length(1)\n",
    "        for i in range(2, n):\n",
    "            if self.collatz_length.cache[mx] <= self.collatz_length(i):\n",
    "                mx = i\n",
    "        return mx\n",
    "\n",
    "    def euler14(self):\n",
    "        return self.max_collatz_length(10**6)\n",
    "\n",
    "print(NaiveMemo().euler14())\n",
    "%timeit NaiveMemo().euler14()"
   ]
  },
  {
   "cell_type": "markdown",
   "metadata": {},
   "source": [
    "The collatz sequences increase and decrease, sometimes out of the range of values we are interested in.\n",
    "\n",
    "This can cause an huge cache to accumulate so to reduce the amount of memory and dictionary updates, we can just memoize the values within the domain of interest without much performance difference."
   ]
  },
  {
   "cell_type": "code",
   "execution_count": 2,
   "metadata": {
    "collapsed": false
   },
   "outputs": [
    {
     "name": "stdout",
     "output_type": "stream",
     "text": [
      "837799\n",
      "1 loops, best of 3: 542 ms per loop\n"
     ]
    }
   ],
   "source": [
    "class NaiveMemoLower:    \n",
    "    def memoize(obj):\n",
    "        import functools\n",
    "        cache = obj.cache = {}\n",
    "\n",
    "        @functools.wraps(obj)\n",
    "        def memoizer(self, arg):\n",
    "            if arg not in cache:\n",
    "                cache[arg] = obj(self, arg)\n",
    "            return cache[arg]\n",
    "        return memoizer\n",
    "    \n",
    "    @memoize\n",
    "    def collatz_length(self, n):\n",
    "        if n == 1: return 1\n",
    "        k = n\n",
    "        count = 0\n",
    "        while k >= n:\n",
    "            count += 1\n",
    "            if k & 1:\n",
    "                k = 3*k+1\n",
    "            else:\n",
    "                k >>= 1\n",
    "        return count + self.collatz_length.cache[k]\n",
    "\n",
    "    def max_collatz_length(self, n):\n",
    "        mx = self.collatz_length(1)\n",
    "        for i in range(2, n):\n",
    "            if self.collatz_length.cache[mx] <= self.collatz_length(i):\n",
    "                mx = i\n",
    "        return mx\n",
    "\n",
    "    def euler14(self):\n",
    "        return self.max_collatz_length(10**6)\n",
    "\n",
    "print(NaiveMemoLower().euler14())\n",
    "%timeit NaiveMemoLower().euler14()"
   ]
  },
  {
   "cell_type": "markdown",
   "metadata": {},
   "source": [
    "## Double skipping"
   ]
  },
  {
   "cell_type": "markdown",
   "metadata": {},
   "source": [
    "Because the way the collatz operations change the values, we know that $3n + 1$ will always be even.\n",
    "\n",
    "That means we can combine an odd operation with the next even operation."
   ]
  },
  {
   "cell_type": "code",
   "execution_count": 3,
   "metadata": {
    "collapsed": false
   },
   "outputs": [
    {
     "name": "stdout",
     "output_type": "stream",
     "text": [
      "837799\n",
      "1 loops, best of 3: 575 ms per loop\n"
     ]
    }
   ],
   "source": [
    "class DoubleSkipNaive:    \n",
    "    def memoize(obj):\n",
    "        import functools\n",
    "        cache = obj.cache = {}\n",
    "\n",
    "        @functools.wraps(obj)\n",
    "        def memoizer(self, arg):\n",
    "            if arg not in cache:\n",
    "                cache[arg] = obj(self, arg)\n",
    "            return cache[arg]\n",
    "        return memoizer\n",
    "    \n",
    "    @memoize\n",
    "    def collatz_length(self, n):\n",
    "        if n == 1: return 1\n",
    "        if n & 1:\n",
    "            return 2 + self.collatz_length((3*n+1)>>1)\n",
    "        return 1 + self.collatz_length(n>>1)\n",
    "\n",
    "    def max_collatz_length(self, n):\n",
    "        mx = self.collatz_length(1)\n",
    "        for i in range(2, n):\n",
    "            if self.collatz_length.cache[mx] <= self.collatz_length(i):\n",
    "                mx = i\n",
    "        return mx\n",
    "\n",
    "    def euler14(self):\n",
    "        return self.max_collatz_length(10**6)\n",
    "\n",
    "print(DoubleSkipNaive().euler14())\n",
    "%timeit DoubleSkipNaive().euler14()"
   ]
  },
  {
   "cell_type": "code",
   "execution_count": 4,
   "metadata": {
    "collapsed": false
   },
   "outputs": [
    {
     "name": "stdout",
     "output_type": "stream",
     "text": [
      "837799\n",
      "1 loops, best of 3: 532 ms per loop\n"
     ]
    }
   ],
   "source": [
    "class DoubleSkipMemoLower:    \n",
    "    def memoize(obj):\n",
    "        import functools\n",
    "        cache = obj.cache = {}\n",
    "\n",
    "        @functools.wraps(obj)\n",
    "        def memoizer(self, arg):\n",
    "            if arg not in cache:\n",
    "                cache[arg] = obj(self, arg)\n",
    "            return cache[arg]\n",
    "        return memoizer\n",
    "    \n",
    "    @memoize\n",
    "    def collatz_length(self, n):\n",
    "        if n == 1: return 1\n",
    "        k = n\n",
    "        count = 0\n",
    "        while k >= n:\n",
    "            count += 2\n",
    "            if k & 1:\n",
    "                count += 2\n",
    "                k = (3*k+1)>>1\n",
    "            else:\n",
    "                count += 1\n",
    "                k >>= 1\n",
    "        return count + self.collatz_length.cache[k]\n",
    "\n",
    "    def max_collatz_length(self, n):\n",
    "        mx = self.collatz_length(1)\n",
    "        for i in range(2, n):\n",
    "            if self.collatz_length.cache[mx] <= self.collatz_length(i):\n",
    "                mx = i\n",
    "        return mx\n",
    "\n",
    "    def euler14(self):\n",
    "        return self.max_collatz_length(10**6)\n",
    "\n",
    "print(DoubleSkipMemoLower().euler14())\n",
    "%timeit DoubleSkipMemoLower().euler14()"
   ]
  }
 ],
 "metadata": {
  "kernelspec": {
   "display_name": "Python 3",
   "language": "python",
   "name": "python3"
  },
  "language_info": {
   "codemirror_mode": {
    "name": "ipython",
    "version": 3
   },
   "file_extension": ".py",
   "mimetype": "text/x-python",
   "name": "python",
   "nbconvert_exporter": "python",
   "pygments_lexer": "ipython3",
   "version": "3.4.3"
  }
 },
 "nbformat": 4,
 "nbformat_minor": 0
}
