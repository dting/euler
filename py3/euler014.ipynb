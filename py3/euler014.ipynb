{
 "cells": [
  {
   "cell_type": "markdown",
   "metadata": {},
   "source": [
    "# Longest Collatz sequence"
   ]
  },
  {
   "cell_type": "markdown",
   "metadata": {},
   "source": [
    "[Problem 14](https://projecteuler.net/problem=14)\n",
    "> The following iterative sequence is defined for the set of positive integers:\n",
    "\n",
    "> \\begin{align}\n",
    "n &→ \\frac n2 &\\text{(n is even)} \\\\\n",
    "n &→ 3n + 1 &\\text{(n is odd)}\n",
    "\\end{align}\n",
    "\n",
    "> Using the rule above and starting with 13, we generate the following sequence:\n",
    "\n",
    "> $$\n",
    "13 → 40 → 20 → 10 → 5 → 16 → 8 → 4 → 2 → 1\n",
    "$$\n",
    "\n",
    "> It can be seen that this sequence (starting at 13 and finishing at 1) contains 10 terms. Although it has not been proved yet (Collatz Problem), it is thought that all starting numbers finish at 1.\n",
    "\n",
    "> Which starting number, under one million, produces the longest chain?\n",
    "\n",
    "> NOTE: Once the chain starts the terms are allowed to go above one million."
   ]
  },
  {
   "cell_type": "markdown",
   "metadata": {},
   "source": [
    "The truly naive approach requires too much time but this problem is a great candidate for memoization.  \n",
    "\n",
    "If the result of the collatz operation is a number we have already calculated the collatz length we should just return how many operations it took to reach that point plus the length for the value we have already seen."
   ]
  },
  {
   "cell_type": "code",
   "execution_count": 1,
   "metadata": {
    "collapsed": true
   },
   "outputs": [],
   "source": [
    "LIMIT = 10**6"
   ]
  },
  {
   "cell_type": "code",
   "execution_count": 2,
   "metadata": {
    "collapsed": false
   },
   "outputs": [
    {
     "name": "stdout",
     "output_type": "stream",
     "text": [
      "1 loops, best of 3: 2.43 s per loop\n",
      "2021576\n"
     ]
    }
   ],
   "source": [
    "def euler14_naive_memo():   \n",
    "    from operator import itemgetter  \n",
    "    \n",
    "    def collatz_length(n, lengths):\n",
    "        if n not in lengths:\n",
    "            if n & 1:\n",
    "                lengths[n] = 1 + collatz_length(3*n+1, lengths)\n",
    "            else:\n",
    "                lengths[n] = 1 + collatz_length(n>>1, lengths)\n",
    "        return lengths[n]\n",
    "    \n",
    "    def collatz_lengths(n):\n",
    "        lengths = {0:1, 1:1}\n",
    "        for i in range(n):\n",
    "            collatz_length(i, lengths)\n",
    "        return lengths\n",
    "    \n",
    "    return max(enumerate(collatz_lengths(LIMIT)), key=itemgetter(1))[0]\n",
    "\n",
    "%timeit euler14_naive_memo()\n",
    "print(euler14_naive_memo())"
   ]
  },
  {
   "cell_type": "markdown",
   "metadata": {},
   "source": [
    "The collatz sequences increase and decrease, sometimes out of the range of values we are interested in.\n",
    "\n",
    "This can cause an huge cache to accumulate so to reduce the amount of memory and dictionary updates, we can just memoize the values within the domain of interest without much performance difference."
   ]
  },
  {
   "cell_type": "code",
   "execution_count": 3,
   "metadata": {
    "collapsed": false
   },
   "outputs": [
    {
     "name": "stdout",
     "output_type": "stream",
     "text": [
      "1 loops, best of 3: 1.73 s per loop\n",
      "837799\n"
     ]
    }
   ],
   "source": [
    "def euler14_memo_lower():    \n",
    "    from operator import itemgetter  \n",
    "    \n",
    "    def collatz_lengths(n):\n",
    "        lengths = [None] * n\n",
    "        lengths[0] = lengths[1] = 1\n",
    "        for i in range(2, n):\n",
    "            k = i\n",
    "            count = 0\n",
    "            while k >= i:\n",
    "                count += 1\n",
    "                if k & 1:\n",
    "                    k = 3*k+1\n",
    "                else:\n",
    "                    k >>= 1\n",
    "            lengths[i] = count + lengths[k]\n",
    "        return lengths\n",
    "\n",
    "    return max(enumerate(collatz_lengths(LIMIT)), key=itemgetter(1))[0]\n",
    "\n",
    "%timeit euler14_memo_lower()\n",
    "print(euler14_memo_lower())"
   ]
  },
  {
   "cell_type": "markdown",
   "metadata": {},
   "source": [
    "## Double stepping"
   ]
  },
  {
   "cell_type": "markdown",
   "metadata": {},
   "source": [
    "Because the way the collatz operations change the values, we know that $3n + 1$ will always be even.\n",
    "\n",
    "That means we can combine an odd operation with the next even operation."
   ]
  },
  {
   "cell_type": "code",
   "execution_count": 4,
   "metadata": {
    "collapsed": false
   },
   "outputs": [
    {
     "name": "stdout",
     "output_type": "stream",
     "text": [
      "1 loops, best of 3: 1.91 s per loop\n",
      "837799\n"
     ]
    }
   ],
   "source": [
    "def euler14_double_step_naive():\n",
    "    from operator import itemgetter\n",
    "    \n",
    "    def collatz_length(n, lengths):\n",
    "        if n not in lengths:\n",
    "            if n & 1:\n",
    "                lengths[n] = 2 + collatz_length((3*n+1)>>1, lengths)\n",
    "            else:\n",
    "                lengths[n] = 1 + collatz_length(n>>1, lengths)\n",
    "        return lengths[n]\n",
    "    \n",
    "    def collatz_lengths(n):\n",
    "        lengths = {0:1, 1:1}\n",
    "        for i in range(n):\n",
    "            collatz_length(i, lengths)\n",
    "        return lengths\n",
    "\n",
    "    return max(collatz_lengths(LIMIT).items(), key=itemgetter(1))[0]\n",
    "\n",
    "%timeit euler14_double_step_naive()\n",
    "print(euler14_double_step_naive())"
   ]
  },
  {
   "cell_type": "code",
   "execution_count": 5,
   "metadata": {
    "collapsed": false
   },
   "outputs": [
    {
     "name": "stdout",
     "output_type": "stream",
     "text": [
      "1 loops, best of 3: 1.45 s per loop\n",
      "837799\n"
     ]
    }
   ],
   "source": [
    "def euler14_double_step_memo_lower():  \n",
    "    from operator import itemgetter   \n",
    "    \n",
    "    def collatz_lengths(n):\n",
    "        lengths = [None] * n\n",
    "        lengths[0] = lengths[1] = 1\n",
    "        for i in range(2, n):\n",
    "            k = i\n",
    "            count = 0\n",
    "            while k >= i:\n",
    "                if k & 1:\n",
    "                    count += 2\n",
    "                    k = (3*k+1)>>1\n",
    "                else:\n",
    "                    count += 1\n",
    "                    k >>= 1\n",
    "            lengths[i] = count + lengths[k]\n",
    "        return lengths\n",
    "    \n",
    "    return max(enumerate(collatz_lengths(LIMIT)), key=itemgetter(1))[0]\n",
    "    \n",
    "%timeit euler14_double_step_memo_lower()\n",
    "print(euler14_double_step_memo_lower())"
   ]
  }
 ],
 "metadata": {
  "kernelspec": {
   "display_name": "Python 3",
   "language": "python",
   "name": "python3"
  },
  "language_info": {
   "codemirror_mode": {
    "name": "ipython",
    "version": 3
   },
   "file_extension": ".py",
   "mimetype": "text/x-python",
   "name": "python",
   "nbconvert_exporter": "python",
   "pygments_lexer": "ipython3",
   "version": "3.4.3"
  }
 },
 "nbformat": 4,
 "nbformat_minor": 0
}
