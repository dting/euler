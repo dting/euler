{
 "cells": [
  {
   "cell_type": "markdown",
   "metadata": {},
   "source": [
    "# 10001st prime"
   ]
  },
  {
   "cell_type": "markdown",
   "metadata": {},
   "source": [
    "[problem 7](https://projecteuler.net/problem=7)\n",
    "\n",
    "> By listing the first six prime numbers: 2, 3, 5, 7, 11, and 13, we can see that the 6th prime is 13.\n",
    "\n",
    "> What is the 10 001st prime number?"
   ]
  },
  {
   "cell_type": "code",
   "execution_count": 1,
   "metadata": {
    "collapsed": false
   },
   "outputs": [],
   "source": [
    "def is_prime(n, primes):\n",
    "    for p in primes:\n",
    "        if p > n**0.5: break\n",
    "        if not n % p: return False\n",
    "    return True\n",
    "\n",
    "def n_primes(n):    \n",
    "    from itertools import count\n",
    "    primes = [2, 3]\n",
    "    if n < 3: return primes[:n]\n",
    "    for i in count(1):\n",
    "        candidate = 6 * i - 1\n",
    "        if len(primes) == n: break\n",
    "        if is_prime(candidate, primes): primes.append(candidate)\n",
    "        candidate += 2;\n",
    "        if len(primes) == n: break\n",
    "        if is_prime(candidate, primes): primes.append(candidate)\n",
    "    return primes\n",
    "\n",
    "def euler7():\n",
    "    return n_primes(10001)[-1]"
   ]
  },
  {
   "cell_type": "code",
   "execution_count": 2,
   "metadata": {
    "collapsed": false
   },
   "outputs": [
    {
     "name": "stdout",
     "output_type": "stream",
     "text": [
      "104743\n",
      "1 loops, best of 3: 254 ms per loop\n"
     ]
    }
   ],
   "source": [
    "print(euler7())\n",
    "%timeit euler7()"
   ]
  }
 ],
 "metadata": {
  "kernelspec": {
   "display_name": "Python 3",
   "language": "python",
   "name": "python3"
  },
  "language_info": {
   "codemirror_mode": {
    "name": "ipython",
    "version": 3
   },
   "file_extension": ".py",
   "mimetype": "text/x-python",
   "name": "python",
   "nbconvert_exporter": "python",
   "pygments_lexer": "ipython3",
   "version": "3.4.3"
  }
 },
 "nbformat": 4,
 "nbformat_minor": 0
}
