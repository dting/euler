{
 "cells": [
  {
   "cell_type": "markdown",
   "metadata": {},
   "source": [
    "# Maximum path sum I"
   ]
  },
  {
   "cell_type": "markdown",
   "metadata": {},
   "source": [
    "[problem 18](https://projecteuler.net/problem=18)\n",
    "\n",
    ">By starting at the top of the triangle below and moving to adjacent numbers on the row below, the maximum total from top to bottom is 23.\n",
    ">\n",
    "> <div style=\"text-align:center; font-family: 'Source Code Pro', Consolas, monocco, monospace;\"><br>\n",
    "<span style=\"color:red;\">3</span><br>\n",
    "<span style=\"color:red;\">7</span> 4<br>\n",
    "2 <span style=\"color:red;\">4</span> 6<br>\n",
    "8 5 <span style=\"color:red;\">9</span> 3<br>\n",
    "</div>\n",
    "\n",
    "> That is, $3 + 7 + 4 + 9 = 23$.\n",
    "\n",
    "> Find the maximum total from top to bottom of the triangle below:\n",
    "\n",
    "> <div style=\"text-align:center; font-family: 'Source Code Pro', Consolas, monocco, monospace;\"><br>\n",
    "75<br>\n",
    "95 64<br>\n",
    "17 47 82<br>\n",
    "18 35 87 10<br>\n",
    "20 04 82 47 65<br>\n",
    "19 01 23 75 03 34<br>\n",
    "88 02 77 73 07 63 67<br>\n",
    "99 65 04 28 06 16 70 92<br>\n",
    "41 41 26 56 83 40 80 70 33<br>\n",
    "41 48 72 33 47 32 37 16 94 29<br>\n",
    "53 71 44 65 25 43 91 52 97 51 14<br>\n",
    "70 11 33 28 77 73 17 78 39 68 17 57<br>\n",
    "91 71 52 38 17 14 91 43 58 50 27 29 48<br>\n",
    "63 66 04 68 89 53 67 30 73 16 69 87 40 31<br>\n",
    "04 62 98 27 23 09 70 98 73 93 38 53 60 04 23<br>\n",
    "</div>\n",
    "\n",
    "> NOTE: As there are only 16384 routes, it is possible to solve this problem by trying every route. However, Problem 67, is the same challenge with a triangle containing one-hundred rows; it cannot be solved by brute force, and requires a clever method! ;o)"
   ]
  },
  {
   "cell_type": "code",
   "execution_count": 1,
   "metadata": {
    "collapsed": false
   },
   "outputs": [],
   "source": [
    "raw = (\n",
    "\"\"\"75\n",
    "95 64\n",
    "17 47 82\n",
    "18 35 87 10\n",
    "20 04 82 47 65\n",
    "19 01 23 75 03 34\n",
    "88 02 77 73 07 63 67\n",
    "99 65 04 28 06 16 70 92\n",
    "41 41 26 56 83 40 80 70 33\n",
    "41 48 72 33 47 32 37 16 94 29\n",
    "53 71 44 65 25 43 91 52 97 51 14\n",
    "70 11 33 28 77 73 17 78 39 68 17 57\n",
    "91 71 52 38 17 14 91 43 58 50 27 29 48\n",
    "63 66 04 68 89 53 67 30 73 16 69 87 40 31\n",
    "04 62 98 27 23 09 70 98 73 93 38 53 60 04 23\"\"\")\n",
    "data = [[int(v) for v in row.split(\" \")] for row in raw.split(\"\\n\")]"
   ]
  },
  {
   "cell_type": "markdown",
   "metadata": {},
   "source": [
    "## Recursive graph dfs"
   ]
  },
  {
   "cell_type": "code",
   "execution_count": 2,
   "metadata": {
    "collapsed": true
   },
   "outputs": [],
   "source": [
    "class Node:\n",
    "    def __init__(self, value):\n",
    "        self.value = value\n",
    "        self.children = set()"
   ]
  },
  {
   "cell_type": "code",
   "execution_count": 3,
   "metadata": {
    "collapsed": false
   },
   "outputs": [
    {
     "name": "stdout",
     "output_type": "stream",
     "text": [
      "10 loops, best of 3: 19.5 ms per loop\n",
      "1074\n"
     ]
    }
   ],
   "source": [
    "def euler18_recur():\n",
    "    def build_graph(data):\n",
    "        nodes = [[Node(v) for v in row] for row in data]\n",
    "        for i, row in enumerate(nodes[1:], 1):\n",
    "            for j, node in enumerate(row):\n",
    "                if j > 0: nodes[i-1][j-1].children.add(node)\n",
    "                if j < i: nodes[i-1][j].children.add(node)\n",
    "        return nodes[0][0]\n",
    "    \n",
    "    def max_sum_path(node):\n",
    "        if not node:\n",
    "            return 0\n",
    "        if not node.children:\n",
    "            return node.value\n",
    "        return node.value + max(map(max_sum_path, node.children))\n",
    "    \n",
    "    return max_sum_path(build_graph(data))\n",
    "        \n",
    "%timeit euler18_recur()\n",
    "print(euler18_recur())"
   ]
  },
  {
   "cell_type": "markdown",
   "metadata": {},
   "source": [
    "## Dynamic Programming"
   ]
  },
  {
   "cell_type": "code",
   "execution_count": 4,
   "metadata": {
    "collapsed": false
   },
   "outputs": [
    {
     "name": "stdout",
     "output_type": "stream",
     "text": [
      "10000 loops, best of 3: 105 µs per loop\n",
      "1074\n"
     ]
    }
   ],
   "source": [
    "def euler18_dp():\n",
    "    m = list(map(list, data))\n",
    "    for i, row in enumerate(m[1:], 1):\n",
    "        for j, v in enumerate(row):\n",
    "            m[i][j] += max(m[i-1][j-1] if j > 0 else 0, m[i-1][j] if j < i else 0)\n",
    "    return max(m[-1])\n",
    "    \n",
    "%timeit euler18_dp()\n",
    "print(euler18_dp())"
   ]
  }
 ],
 "metadata": {
  "kernelspec": {
   "display_name": "Python 3",
   "language": "python",
   "name": "python3"
  },
  "language_info": {
   "codemirror_mode": {
    "name": "ipython",
    "version": 3
   },
   "file_extension": ".py",
   "mimetype": "text/x-python",
   "name": "python",
   "nbconvert_exporter": "python",
   "pygments_lexer": "ipython3",
   "version": "3.4.3"
  }
 },
 "nbformat": 4,
 "nbformat_minor": 0
}
