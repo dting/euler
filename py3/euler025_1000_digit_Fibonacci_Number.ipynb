{
 "cells": [
  {
   "cell_type": "markdown",
   "metadata": {},
   "source": [
    "# 1000-digit Fibonacci number"
   ]
  },
  {
   "cell_type": "markdown",
   "metadata": {},
   "source": [
    "[problem 25](https://projecteuler.net/problem=25)\n",
    ">The Fibonacci sequence is defined by the recurrence relation:\n",
    ">\n",
    "> $$F_n = F_{n−1} + F_{n−2}$$ \n",
    "> where \n",
    "> $$F_1 = 1 \\text{ and } F_2 = 1$$\n",
    "> Hence the first 12 terms will be:\n",
    "> \\begin{align}\n",
    "F_1 & = & 1 \\cr\n",
    "F_2 & = & 1 \\cr\n",
    "F_3 & = & 2 \\cr\n",
    "F_4 & = & 3 \\cr\n",
    "F_5 & = & 5 \\cr\n",
    "F_6 & = & 8 \\cr\n",
    "F_7 & = & 13 \\cr\n",
    "F_8 & = & 21 \\cr\n",
    "F_9 & = & 34 \\cr\n",
    "F_{10} & = & 55 \\cr\n",
    "F_{11} & = & 89 \\cr\n",
    "F_{12} & = & 144 \\cr\n",
    "\\end{align}\n",
    "> The 12th term, $F_{12}$, is the first term to contain three digits.\n",
    "\n",
    "> What is the index of the first term in the Fibonacci sequence to contain 1000 digits?"
   ]
  },
  {
   "cell_type": "code",
   "execution_count": 1,
   "metadata": {
    "collapsed": false
   },
   "outputs": [
    {
     "name": "stdout",
     "output_type": "stream",
     "text": [
      "100 loops, best of 3: 2.9 ms per loop\n",
      "4787\n"
     ]
    }
   ],
   "source": [
    "def euler25_brute_force():\n",
    "    from math import log10 as log\n",
    "\n",
    "    a = b = l = 1\n",
    "    idx = 2\n",
    "    while l < 1001:\n",
    "        while log(b) < l:\n",
    "            b, a = a+b, b\n",
    "            idx += 1\n",
    "        l += 1\n",
    "    return idx\n",
    "\n",
    "%timeit euler25_brute_force()\n",
    "print(euler25_brute_force())"
   ]
  },
  {
   "cell_type": "code",
   "execution_count": 2,
   "metadata": {
    "collapsed": false
   },
   "outputs": [
    {
     "name": "stdout",
     "output_type": "stream",
     "text": [
      "The slowest run took 5.07 times longer than the fastest. This could mean that an intermediate result is being cached \n",
      "100000 loops, best of 3: 2.86 µs per loop\n",
      "4787\n"
     ]
    }
   ],
   "source": [
    "def euler25_math():\n",
    "    from math import ceil, log10 as log\n",
    "    \n",
    "    return ceil((1000 + log(5**0.5)) / log((1+5**0.5) / 2))\n",
    "\n",
    "%timeit euler25_math()\n",
    "print(euler25_math())"
   ]
  }
 ],
 "metadata": {
  "kernelspec": {
   "display_name": "Python 3",
   "language": "python",
   "name": "python3"
  },
  "language_info": {
   "codemirror_mode": {
    "name": "ipython",
    "version": 3
   },
   "file_extension": ".py",
   "mimetype": "text/x-python",
   "name": "python",
   "nbconvert_exporter": "python",
   "pygments_lexer": "ipython3",
   "version": "3.4.3"
  }
 },
 "nbformat": 4,
 "nbformat_minor": 0
}
