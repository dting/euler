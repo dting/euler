{
 "cells": [
  {
   "cell_type": "markdown",
   "metadata": {},
   "source": [
    "# Amicable numbers"
   ]
  },
  {
   "cell_type": "markdown",
   "metadata": {},
   "source": [
    "[problem 21](https://projecteuler.net/problem=21)\n",
    "> Let $d(n)$ be defined as the sum of proper divisors of $n$ (numbers less than n which divide evenly into $n$).\n",
    "If $d(a) = b$ and $d(b) = a$, where $a \\neq b$, then a and b are an amicable pair and each of a and b are called amicable numbers.\n",
    ">\n",
    "> For example, the proper divisors of $220$ are \n",
    "> $$1, 2, 4, 5, 10, 11, 20, 22, 44, 55, 110 \\therefore d(220) = 284$$ \n",
    "> The proper divisors of $284$ are \n",
    "> $$1, 2, 4, 71, 142 \\therefore d(284) = 220$$\n",
    ">\n",
    ">Evaluate the sum of all the amicable numbers under $10000$."
   ]
  },
  {
   "cell_type": "code",
   "execution_count": 1,
   "metadata": {
    "collapsed": false
   },
   "outputs": [
    {
     "name": "stdout",
     "output_type": "stream",
     "text": [
      "31626\n",
      "100 loops, best of 3: 4.1 ms per loop\n"
     ]
    }
   ],
   "source": [
    "class Amicable:\n",
    "    def memoize(obj):\n",
    "        import functools\n",
    "        cache = obj.cache = {}\n",
    "\n",
    "        @functools.wraps(obj)\n",
    "        def memoizer(self, arg):\n",
    "            if arg not in cache:\n",
    "                cache[arg] = obj(self, arg)\n",
    "            return cache[arg]\n",
    "        return memoizer\n",
    "    \n",
    "    def eratosthenes(self, n):\n",
    "        \"\"\" Returns a list of primes < n \"\"\"\n",
    "        sieve = [True] * (n//2)\n",
    "        end = len(sieve)\n",
    "        for i in range(3, int(n**0.5)+1, 2):\n",
    "            if sieve[i//2]:\n",
    "                start = i*i//2\n",
    "                sieve[start::i] = [False] * ((end-start-1)//i + 1)\n",
    "        return ([2] if n > 2 else []) + [2*i+1 for i in range(1, n//2) if sieve[i]]\n",
    "    \n",
    "    def prime_factors(self, n):\n",
    "        factors = {}\n",
    "        for prime in self.primes:\n",
    "            if prime*prime > n:\n",
    "                break\n",
    "            power = 0\n",
    "            while not n % prime:\n",
    "                power += 1\n",
    "                n //= prime\n",
    "            if power > 0: factors[prime] = power\n",
    "        if n != 1: factors[n] = 1\n",
    "        return factors\n",
    "    \n",
    "    @memoize\n",
    "    def d(self, n):\n",
    "        factors = self.prime_factors(n)\n",
    "        r = 1\n",
    "        for prime, count in factors.items():\n",
    "            r *= sum(prime**i for i in range(count+1))\n",
    "        return r - n\n",
    "\n",
    "    @memoize\n",
    "    def is_amicable(self, n):\n",
    "        return self.d(n) != n and self.d(self.d(n)) == n \n",
    "\n",
    "    def sum(self, n):\n",
    "        self.primes = self.eratosthenes(n)\n",
    "        return sum(a for a in range(220, n) if self.is_amicable(a))\n",
    "\n",
    "def euler21():\n",
    "    return Amicable().sum(10000)\n",
    "    \n",
    "print(euler21())\n",
    "%timeit euler21()"
   ]
  },
  {
   "cell_type": "markdown",
   "metadata": {},
   "source": [
    "## [HackerRank](https://www.hackerrank.com/contests/projecteuler/challenges/euler021)"
   ]
  },
  {
   "cell_type": "code",
   "execution_count": 2,
   "metadata": {
    "collapsed": false
   },
   "outputs": [
    {
     "name": "stdout",
     "output_type": "stream",
     "text": [
      "Sample Input:\n",
      "1\n",
      "300\n",
      "\n",
      "Sample Output:\n",
      "504\n"
     ]
    }
   ],
   "source": [
    "class HR21:\n",
    "    inputs = [\"1\", \"300\"]\n",
    "    outputs = [\"504\"]\n",
    "        \n",
    "    def display_sample(self):\n",
    "        print(\"Sample Input:\")\n",
    "        for i in self.inputs:\n",
    "            print(i)\n",
    "        print(\"\\nSample Output:\")\n",
    "        for o in self.outputs:\n",
    "            print(o)\n",
    "        \n",
    "    def sample_inputs(self):\n",
    "        it = iter(self.inputs)\n",
    "        def input():\n",
    "            return it.__next__()\n",
    "        return input\n",
    "    \n",
    "hr21 = HR21()\n",
    "hr21.display_sample()"
   ]
  },
  {
   "cell_type": "code",
   "execution_count": 3,
   "metadata": {
    "collapsed": false
   },
   "outputs": [
    {
     "name": "stdout",
     "output_type": "stream",
     "text": [
      "Actual Output:\n",
      "504\n"
     ]
    }
   ],
   "source": [
    "def memoize(obj):\n",
    "    import functools\n",
    "    cache = obj.cache = {}\n",
    "\n",
    "    @functools.wraps(obj)\n",
    "    def memoizer(self, arg):\n",
    "        if arg not in cache:\n",
    "            cache[arg] = obj(self, arg)\n",
    "        return cache[arg]\n",
    "    return memoizer\n",
    "\n",
    "def eratosthenes(n):\n",
    "    \"\"\" Returns a list of primes < n \"\"\"\n",
    "    sieve = [True] * (n//2)\n",
    "    end = len(sieve)\n",
    "    for i in range(3, int(n**0.5)+1, 2):\n",
    "        if sieve[i//2]:\n",
    "            start = i*i//2\n",
    "            sieve[start::i] = [False] * ((end-start-1)//i + 1)\n",
    "    return ([2] if n > 2 else []) + [2*i+1 for i in range(1, n//2) if sieve[i]]\n",
    "\n",
    "class AmicableSums:    \n",
    "    def __init__(self, n):\n",
    "        self.primes = eratosthenes(n)\n",
    "        for i in range(220, n):\n",
    "            self.sum(i)\n",
    "        \n",
    "    @memoize\n",
    "    def d(self, n):\n",
    "        factors = self.prime_factors(n)\n",
    "        r = 1\n",
    "        for prime, count in factors.items():\n",
    "            r *= sum(prime**i for i in range(count+1))\n",
    "        return r - n\n",
    "\n",
    "    def prime_factors(self, n):\n",
    "        factors = {}\n",
    "        for prime in self.primes:\n",
    "            if prime*prime > n:\n",
    "                break\n",
    "            power = 0\n",
    "            while not n % prime:\n",
    "                power += 1\n",
    "                n //= prime\n",
    "            if power > 0: factors[prime] = power\n",
    "        if n != 1: factors[n] = 1\n",
    "        return factors\n",
    "    \n",
    "    def is_amicable(self, n):\n",
    "        return self.d(n) != n and self.d(self.d(n)) == n \n",
    "    \n",
    "    @memoize\n",
    "    def sum(self, n):\n",
    "        if n < 220:\n",
    "            return 0\n",
    "        return self.sum(n-1) + n if self.is_amicable(n) else self.sum(n-1)\n",
    "\n",
    "if __name__ == \"__main__\":\n",
    "    input = hr21.sample_inputs()\n",
    "\n",
    "    print(\"Actual Output:\")\n",
    "    amicable = AmicableSums(10**5)\n",
    "    for t in range(int(input())):\n",
    "        print(amicable.sum(int(input())))\n",
    "    \n",
    "    del input"
   ]
  }
 ],
 "metadata": {
  "kernelspec": {
   "display_name": "Python 3",
   "language": "python",
   "name": "python3"
  },
  "language_info": {
   "codemirror_mode": {
    "name": "ipython",
    "version": 3
   },
   "file_extension": ".py",
   "mimetype": "text/x-python",
   "name": "python",
   "nbconvert_exporter": "python",
   "pygments_lexer": "ipython3",
   "version": "3.4.3"
  }
 },
 "nbformat": 4,
 "nbformat_minor": 0
}
