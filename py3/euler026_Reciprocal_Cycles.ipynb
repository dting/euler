{
 "cells": [
  {
   "cell_type": "markdown",
   "metadata": {},
   "source": [
    "# Reciprocal cycles"
   ]
  },
  {
   "cell_type": "markdown",
   "metadata": {},
   "source": [
    "[problem 26](https://projecteuler.net/problem=26)\n",
    "> A unit fraction contains 1 in the numerator. The decimal representation of the unit fractions with denominators 2 to 10 are given:\n",
    "\n",
    "> <math>\\begin{gather}\n",
    "\\frac12\t& = &\t0.5 \\cr\n",
    "\\frac13\t& = &\t0.(3) \\cr\n",
    "\\frac14\t& = &\t0.25 \\cr\n",
    "\\frac15\t& = &\t0.2 \\cr\n",
    "\\frac16\t& = &\t0.1(6) \\cr\n",
    "\\frac17\t& = &\t0.(142857) \\cr\n",
    "\\frac18\t& = &\t0.125 \\cr\n",
    "\\frac19\t& = &\t0.(1) \\cr\n",
    "\\frac{1}{10}\t& = &\t0.1\n",
    "\\end{gather}\n",
    "</math>\n",
    "\n",
    "> Where $0.1(6)$ means $0.166666\\dots$, and has a 1-digit recurring cycle. It can be seen that $\\frac17$ has a 6-digit recurring cycle.\n",
    "\n",
    "> Find the value of $d < 1000$ for which $\\frac1d$ contains the longest recurring cycle in its decimal fraction part."
   ]
  },
  {
   "cell_type": "code",
   "execution_count": 1,
   "metadata": {
    "collapsed": false
   },
   "outputs": [
    {
     "name": "stdout",
     "output_type": "stream",
     "text": [
      "10 loops, best of 3: 25.2 ms per loop\n",
      "983\n"
     ]
    }
   ],
   "source": [
    "def euler26():\n",
    "    def cycle_length(n):\n",
    "        if not n%2 or not n%5: return 0\n",
    "        seen = {}\n",
    "        state = 1\n",
    "        length = 0\n",
    "        while state not in seen:\n",
    "            seen[state] = length\n",
    "            state *= 10 \n",
    "            state %= n\n",
    "            length += 1\n",
    "        return length - seen[state]\n",
    "\n",
    "    return max((cycle_length(i), i) for i in reversed(range(3, 1000, 2)))[1]\n",
    "\n",
    "%timeit euler26()\n",
    "print(euler26())"
   ]
  },
  {
   "cell_type": "code",
   "execution_count": 2,
   "metadata": {
    "collapsed": false
   },
   "outputs": [
    {
     "name": "stdout",
     "output_type": "stream",
     "text": [
      "1000 loops, best of 3: 967 µs per loop\n",
      "983\n"
     ]
    }
   ],
   "source": [
    "def euler26BreakEarly():\n",
    "    def cycle_length(n):\n",
    "        if not n%2 or not n%5: return 0\n",
    "        seen = {}\n",
    "        state = 1\n",
    "        length = 0\n",
    "        while state not in seen:\n",
    "            seen[state] = length\n",
    "            state *= 10 \n",
    "            state %= n\n",
    "            length += 1\n",
    "        return length - seen[state]\n",
    "\n",
    "    m = 1\n",
    "    n = 3\n",
    "    for i in reversed(range(3, 1000, 2)): \n",
    "        c = cycle_length(i)\n",
    "        if c >= m:\n",
    "            m = c\n",
    "            n = i\n",
    "        if i < m:\n",
    "            break\n",
    "    return n\n",
    "\n",
    "%timeit euler26BreakEarly()\n",
    "print(euler26BreakEarly())"
   ]
  }
 ],
 "metadata": {
  "kernelspec": {
   "display_name": "Python 3",
   "language": "python",
   "name": "python3"
  },
  "language_info": {
   "codemirror_mode": {
    "name": "ipython",
    "version": 3
   },
   "file_extension": ".py",
   "mimetype": "text/x-python",
   "name": "python",
   "nbconvert_exporter": "python",
   "pygments_lexer": "ipython3",
   "version": "3.4.3"
  }
 },
 "nbformat": 4,
 "nbformat_minor": 0
}
