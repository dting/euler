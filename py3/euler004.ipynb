{
 "cells": [
  {
   "cell_type": "markdown",
   "metadata": {},
   "source": [
    "# Largest palindrome product"
   ]
  },
  {
   "cell_type": "markdown",
   "metadata": {},
   "source": [
    "[problem 4](https://projecteuler.net/problem=4)\n",
    "\n",
    "> A palindromic number reads the same both ways. The largest palindrome made from the product of two 2-digit numbers is 9009 = 91 × 99.\n",
    "\n",
    "> Find the largest palindrome made from the product of two 3-digit numbers."
   ]
  },
  {
   "cell_type": "markdown",
   "metadata": {},
   "source": [
    "## Different ways to check if a number is a palindrome"
   ]
  },
  {
   "cell_type": "markdown",
   "metadata": {},
   "source": [
    "### Cast to string"
   ]
  },
  {
   "cell_type": "code",
   "execution_count": 1,
   "metadata": {
    "collapsed": false
   },
   "outputs": [],
   "source": [
    "def is_palindrome_string(n):\n",
    "    s = str(n)\n",
    "    return s == s[::-1]"
   ]
  },
  {
   "cell_type": "code",
   "execution_count": 2,
   "metadata": {
    "collapsed": false
   },
   "outputs": [
    {
     "name": "stdout",
     "output_type": "stream",
     "text": [
      "1231258118521321 True\n",
      "The slowest run took 4.36 times longer than the fastest. This could mean that an intermediate result is being cached \n",
      "1000000 loops, best of 3: 670 ns per loop\n"
     ]
    }
   ],
   "source": [
    "print(1231258118521321, is_palindrome_string(1231258118521321))\n",
    "%timeit is_palindrome_string(1231258118521321)"
   ]
  },
  {
   "cell_type": "code",
   "execution_count": 3,
   "metadata": {
    "collapsed": false
   },
   "outputs": [
    {
     "name": "stdout",
     "output_type": "stream",
     "text": [
      "12312581185213210 False\n",
      "1000000 loops, best of 3: 639 ns per loop\n"
     ]
    }
   ],
   "source": [
    "print(12312581185213210, is_palindrome_string(12312581185213210))\n",
    "%timeit is_palindrome_string(12312581185213210)"
   ]
  },
  {
   "cell_type": "markdown",
   "metadata": {},
   "source": [
    "### Divide and mod to get digits"
   ]
  },
  {
   "cell_type": "code",
   "execution_count": 4,
   "metadata": {
    "collapsed": false
   },
   "outputs": [
    {
     "name": "stdout",
     "output_type": "stream",
     "text": [
      "[1, 2, 3, 1, 5, 2, 9, 6, 7, 9, 3, 4, 2, 3, 1, 2, 3, 0]\n"
     ]
    }
   ],
   "source": [
    "def digits(n):\n",
    "    digits = []\n",
    "    while n:\n",
    "        n, d = divmod(n, 10)\n",
    "        digits.append(d)\n",
    "    return digits[::-1]\n",
    "\n",
    "print(digits(123152967934231230))"
   ]
  },
  {
   "cell_type": "code",
   "execution_count": 5,
   "metadata": {
    "collapsed": false
   },
   "outputs": [],
   "source": [
    "def is_palindrome_digits(n):\n",
    "    d = digits(n)\n",
    "    return d == d[::-1]"
   ]
  },
  {
   "cell_type": "code",
   "execution_count": 6,
   "metadata": {
    "collapsed": false
   },
   "outputs": [
    {
     "name": "stdout",
     "output_type": "stream",
     "text": [
      "1231258118521321 True\n",
      "100000 loops, best of 3: 8.72 µs per loop\n"
     ]
    }
   ],
   "source": [
    "print(1231258118521321, is_palindrome_digits(1231258118521321))\n",
    "%timeit is_palindrome_digits(1231258118521321)"
   ]
  },
  {
   "cell_type": "code",
   "execution_count": 7,
   "metadata": {
    "collapsed": false
   },
   "outputs": [
    {
     "name": "stdout",
     "output_type": "stream",
     "text": [
      "12312581185213210 False\n",
      "100000 loops, best of 3: 8.42 µs per loop\n"
     ]
    }
   ],
   "source": [
    "print(12312581185213210, is_palindrome_digits(12312581185213210))\n",
    "%timeit is_palindrome_digits(12312581185213210)"
   ]
  },
  {
   "cell_type": "code",
   "execution_count": 8,
   "metadata": {
    "collapsed": true
   },
   "outputs": [],
   "source": [
    "def is_palindrome_div_mod(n):\n",
    "    tmp = n\n",
    "    rev = 0\n",
    "    while tmp:\n",
    "        tmp, d = divmod(tmp, 10)\n",
    "        rev *= 10\n",
    "        rev += d\n",
    "    return rev == n"
   ]
  },
  {
   "cell_type": "code",
   "execution_count": 9,
   "metadata": {
    "collapsed": false
   },
   "outputs": [
    {
     "name": "stdout",
     "output_type": "stream",
     "text": [
      "1231258118521321 True\n",
      "100000 loops, best of 3: 6.92 µs per loop\n"
     ]
    }
   ],
   "source": [
    "print(1231258118521321, is_palindrome_div_mod(1231258118521321))\n",
    "%timeit is_palindrome_div_mod(1231258118521321)"
   ]
  },
  {
   "cell_type": "code",
   "execution_count": 10,
   "metadata": {
    "collapsed": false
   },
   "outputs": [
    {
     "name": "stdout",
     "output_type": "stream",
     "text": [
      "12312581185213210 False\n",
      "100000 loops, best of 3: 7.53 µs per loop\n"
     ]
    }
   ],
   "source": [
    "print(12312581185213210, is_palindrome_div_mod(12312581185213210))\n",
    "%timeit is_palindrome_div_mod(12312581185213210)"
   ]
  },
  {
   "cell_type": "markdown",
   "metadata": {},
   "source": [
    "## Solving the problem"
   ]
  },
  {
   "cell_type": "code",
   "execution_count": 11,
   "metadata": {
    "collapsed": false
   },
   "outputs": [
    {
     "name": "stdout",
     "output_type": "stream",
     "text": [
      "906609\n",
      "1 loops, best of 3: 356 ms per loop\n"
     ]
    }
   ],
   "source": [
    "def euler4_max_generator_expression():\n",
    "    mn, mx = 100, 999\n",
    "    return max(i*j for i in range(mn, mx+1) for j in range(i, mx+1) if is_palindrome_string(i*j))\n",
    "\n",
    "print(euler4_max_generator_expression())\n",
    "%timeit euler4_max_generator_expression()"
   ]
  },
  {
   "cell_type": "code",
   "execution_count": 12,
   "metadata": {
    "collapsed": false
   },
   "outputs": [
    {
     "name": "stdout",
     "output_type": "stream",
     "text": [
      "906609\n",
      "10 loops, best of 3: 102 ms per loop\n"
     ]
    }
   ],
   "source": [
    "def euler4_nested_for_loops():\n",
    "    mn, mx = 100, 999\n",
    "    answer = 0\n",
    "    for i in range(mn, mx+1):\n",
    "        for j in range(i, mx+1):\n",
    "            product = i*j\n",
    "            if product > answer and is_palindrome_string(product):\n",
    "                answer = product\n",
    "    return answer\n",
    "\n",
    "print(euler4_nested_for_loops())\n",
    "%timeit euler4_nested_for_loops()"
   ]
  },
  {
   "cell_type": "code",
   "execution_count": 13,
   "metadata": {
    "collapsed": false
   },
   "outputs": [
    {
     "name": "stdout",
     "output_type": "stream",
     "text": [
      "906609\n",
      "100 loops, best of 3: 7.81 ms per loop\n"
     ]
    }
   ],
   "source": [
    "def euler4_nested_for_loops_reversed():\n",
    "    mn, mx = 100, 999\n",
    "    answer = 0\n",
    "    for i in range(mx, mn-1, -1):\n",
    "        for j in range(mx, mn-1, -1):\n",
    "            product = i*j\n",
    "            if product < answer:\n",
    "                break\n",
    "            if product > answer and is_palindrome_string(product):\n",
    "                answer = product\n",
    "    return answer\n",
    "\n",
    "print(euler4_nested_for_loops_reversed())\n",
    "%timeit euler4_nested_for_loops_reversed()"
   ]
  }
 ],
 "metadata": {
  "kernelspec": {
   "display_name": "Python 3",
   "language": "python",
   "name": "python3"
  },
  "language_info": {
   "codemirror_mode": {
    "name": "ipython",
    "version": 3
   },
   "file_extension": ".py",
   "mimetype": "text/x-python",
   "name": "python",
   "nbconvert_exporter": "python",
   "pygments_lexer": "ipython3",
   "version": "3.4.3"
  }
 },
 "nbformat": 4,
 "nbformat_minor": 0
}
