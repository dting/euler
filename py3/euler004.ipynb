{
 "cells": [
  {
   "cell_type": "markdown",
   "metadata": {},
   "source": [
    "## Largest palindrome product\n",
    "[problem 4](https://projecteuler.net/problem=4)\n",
    "\n",
    "> A palindromic number reads the same both ways. The largest palindrome made from the product of two 2-digit numbers is 9009 = 91 × 99.\n",
    "\n",
    "> Find the largest palindrome made from the product of two 3-digit numbers."
   ]
  },
  {
   "cell_type": "code",
   "execution_count": 1,
   "metadata": {},
   "outputs": [
    {
     "name": "stdout",
     "output_type": "stream",
     "text": [
      "[1, 2, 3, 1, 5, 2, 9, 6, 7, 9, 3, 4, 2, 3, 1, 2, 3, 0]\n"
     ]
    }
   ],
   "source": [
    "def digits(n):\n",
    "    digits = []\n",
    "    while n:\n",
    "        n, d = divmod(n, 10)\n",
    "        digits.append(d)\n",
    "    return digits[::-1]\n",
    "\n",
    "print digits(123152967934231230)"
   ]
  },
  {
   "cell_type": "code",
   "execution_count": 2,
   "metadata": {},
   "outputs": [
    {
     "name": "stdout",
     "output_type": "stream",
     "text": [
      "1231258118521321 True\n",
      "The slowest run took 4.20 times longer than the fastest. This could mean that an intermediate result is being cached \n",
      "1000000 loops, best of 3: 738 ns per loop\n",
      "\n",
      "12312581185213210 False\n",
      "1000000 loops, best of 3: 725 ns per loop\n"
     ]
    }
   ],
   "source": [
    "def is_palindrome_string(n):\n",
    "    s = str(n)\n",
    "    return s == s[::-1]\n",
    "\n",
    "print 1231258118521321, is_palindrome_string(1231258118521321)\n",
    "%timeit is_palindrome_string(1231258118521321)\n",
    "print\n",
    "print 12312581185213210, is_palindrome_string(12312581185213210)\n",
    "%timeit is_palindrome_string(12312581185213210)"
   ]
  },
  {
   "cell_type": "code",
   "execution_count": 3,
   "metadata": {},
   "outputs": [
    {
     "name": "stdout",
     "output_type": "stream",
     "text": [
      "1231258118521321 True\n",
      "100000 loops, best of 3: 8.73 µs per loop\n",
      "\n",
      "12312581185213210 False\n",
      "100000 loops, best of 3: 9.39 µs per loop\n"
     ]
    }
   ],
   "source": [
    "def is_palindrome_digits(n):\n",
    "    d = digits(n)\n",
    "    return d == d[::-1]\n",
    "\n",
    "print 1231258118521321, is_palindrome_digits(1231258118521321)\n",
    "%timeit is_palindrome_digits(1231258118521321)\n",
    "print\n",
    "print 12312581185213210, is_palindrome_digits(12312581185213210)\n",
    "%timeit is_palindrome_digits(12312581185213210)"
   ]
  },
  {
   "cell_type": "code",
   "execution_count": 4,
   "metadata": {},
   "outputs": [
    {
     "name": "stdout",
     "output_type": "stream",
     "text": [
      "1231258118521321 True\n",
      "100000 loops, best of 3: 6.93 µs per loop\n",
      "\n",
      "12312581185213210 False\n",
      "100000 loops, best of 3: 7.43 µs per loop\n"
     ]
    }
   ],
   "source": [
    "def is_palindrome_div_mod(n):\n",
    "    tmp = n\n",
    "    rev = 0\n",
    "    while tmp:\n",
    "        tmp, d = divmod(tmp, 10)\n",
    "        rev *= 10\n",
    "        rev += d\n",
    "    return rev == n\n",
    "\n",
    "print 1231258118521321, is_palindrome_div_mod(1231258118521321)\n",
    "%timeit is_palindrome_div_mod(1231258118521321)\n",
    "print\n",
    "print 12312581185213210, is_palindrome_div_mod(12312581185213210)\n",
    "%timeit is_palindrome_div_mod(12312581185213210)"
   ]
  },
  {
   "cell_type": "code",
   "execution_count": 5,
   "metadata": {},
   "outputs": [
    {
     "name": "stdout",
     "output_type": "stream",
     "text": [
      "906609\n",
      "\n",
      "1 loops, best of 3: 304 ms per loop\n"
     ]
    }
   ],
   "source": [
    "def euler4_max_generator_expression():\n",
    "    mn, mx = 100, 999\n",
    "    return max(i*j for i in range(mn, mx+1) for j in range(i, mx+1) if is_palindrome_string(i*j))\n",
    "\n",
    "print euler4_max_generator_expression()\n",
    "print\n",
    "%timeit euler4_max_generator_expression()"
   ]
  },
  {
   "cell_type": "code",
   "execution_count": 6,
   "metadata": {},
   "outputs": [
    {
     "name": "stdout",
     "output_type": "stream",
     "text": [
      "906609\n",
      "\n",
      "10 loops, best of 3: 85.8 ms per loop\n"
     ]
    }
   ],
   "source": [
    "def euler4_nested_for_loops():\n",
    "    mn, mx = 100, 999\n",
    "    answer = 0\n",
    "    for i in range(mn, mx+1):\n",
    "        for j in range(i, mx+1):\n",
    "            product = i*j\n",
    "            if product > answer and is_palindrome_string(product):\n",
    "                answer = product\n",
    "    return answer\n",
    "\n",
    "print euler4_nested_for_loops()\n",
    "print\n",
    "%timeit euler4_nested_for_loops()"
   ]
  }
 ],
 "metadata": {
  "kernelspec": {
   "display_name": "Python 2",
   "language": "python",
   "name": "python2"
  },
  "language_info": {
   "codemirror_mode": {
    "name": "ipython",
    "version": 2.0
   },
   "file_extension": ".py",
   "mimetype": "text/x-python",
   "name": "python",
   "nbconvert_exporter": "python",
   "pygments_lexer": "ipython2",
   "version": "2.7.9"
  }
 },
 "nbformat": 4,
 "nbformat_minor": 0
}