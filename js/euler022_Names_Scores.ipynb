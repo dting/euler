{
 "cells": [
  {
   "cell_type": "markdown",
   "metadata": {},
   "source": [
    "# Names scores"
   ]
  },
  {
   "cell_type": "markdown",
   "metadata": {},
   "source": [
    "> Using [names.txt](https://projecteuler.net/project/resources/p022_names.txt) (right click and 'Save Link/Target As...'), a 46K text file containing over five-thousand first names, begin by sorting it into alphabetical order. Then working out the alphabetical value for each name, multiply this value by its alphabetical position in the list to obtain a name score.\n",
    "\n",
    "> For example, when the list is sorted into alphabetical order, COLIN, which is worth 3 + 15 + 12 + 9 + 14 = 53, is the 938th name in the list. So, COLIN would obtain a score of 938 × 53 = 49714.\n",
    "\n",
    "> What is the total of all the name scores in the file?"
   ]
  },
  {
   "cell_type": "code",
   "execution_count": 1,
   "metadata": {
    "collapsed": false
   },
   "outputs": [
    {
     "data": {
      "text/html": [
       "<pre>undefined</pre>"
      ],
      "text/plain": [
       "undefined"
      ]
     },
     "execution_count": 1,
     "metadata": {},
     "output_type": "execute_result"
    }
   ],
   "source": [
    "var http = require('http');\n",
    "var options = {\n",
    "  host: 'projecteuler.net',\n",
    "  port: 80,\n",
    "  path: '/project/resources/p022_names.txt'\n",
    "};\n",
    "\n",
    "var data;\n",
    "var response = http.get(options, function (http_res) {\n",
    "    var responseData = \"\";\n",
    "    http_res.setEncoding('utf8');\n",
    "    http_res.on(\"data\", function (chunk) {\n",
    "        responseData += chunk;\n",
    "    });\n",
    "\n",
    "    http_res.on(\"end\", function () {\n",
    "        data = responseData.replace(/\"/g, '').toLowerCase().split(',');;\n",
    "    });\n",
    "});"
   ]
  },
  {
   "cell_type": "code",
   "execution_count": 2,
   "metadata": {
    "collapsed": false
   },
   "outputs": [
    {
     "data": {
      "text/html": [
       "<pre>871198282</pre>"
      ],
      "text/plain": [
       "871198282"
      ]
     },
     "execution_count": 2,
     "metadata": {},
     "output_type": "execute_result"
    }
   ],
   "source": [
    "function score(name) {\n",
    "    return name.split(\"\").map(function(c) { \n",
    "        return c.charCodeAt(0)-96;\n",
    "    }).reduce(function(a, b) {\n",
    "        return a+b;\n",
    "    });\n",
    "}\n",
    "\n",
    "function euler22() {\n",
    "    var names = data.slice().sort();\n",
    "    return names.map(function(name, i) {\n",
    "        return score(name) * (i+1);\n",
    "    }).reduce(function(a, b) {\n",
    "        return a + b;\n",
    "    });\n",
    "}\n",
    "euler22();"
   ]
  },
  {
   "cell_type": "markdown",
   "metadata": {},
   "source": [
    "## Benchmarks"
   ]
  },
  {
   "cell_type": "code",
   "execution_count": 3,
   "metadata": {
    "collapsed": false
   },
   "outputs": [
    {
     "data": {
      "text/html": [
       "<pre>{ euler22: &#39;9.633586316425122 ms&#39; }</pre>"
      ],
      "text/plain": [
       "{ euler22: '9.633586316425122 ms' }"
      ]
     },
     "execution_count": 3,
     "metadata": {},
     "output_type": "execute_result"
    }
   ],
   "source": [
    "$$async$$ = true;\n",
    "var Benchmark = require('benchmark');\n",
    "var unit = [' s', ' ms', ' microseconds', ' ns', ' ps']\n",
    "var suite = new Benchmark.Suite;\n",
    "suite.add('euler22', euler22);\n",
    "suite.on('complete', function() {\n",
    "    var result = {};\n",
    "    this.forEach(function(r) {\n",
    "        var p = Math.ceil((Math.log(r.hz) / Math.LN10) / 3);\n",
    "        result[r.name] = 1 / r.hz * Math.pow(10, p*3) + unit[p];\n",
    "    });\n",
    "    $$done$$(result);\n",
    "});\n",
    "suite.run({'async':true});"
   ]
  }
 ],
 "metadata": {
  "kernelspec": {
   "display_name": "Javascript (Node.js)",
   "language": "javascript",
   "name": "javascript"
  },
  "language_info": {
   "file_extension": "js",
   "mimetype": "application/javascript",
   "name": "javascript",
   "version": "0.12.1"
  }
 },
 "nbformat": 4,
 "nbformat_minor": 0
}
