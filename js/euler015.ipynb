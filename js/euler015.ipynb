{
 "cells": [
  {
   "cell_type": "markdown",
   "metadata": {},
   "source": [
    "# Lattice paths"
   ]
  },
  {
   "cell_type": "markdown",
   "metadata": {},
   "source": [
    "[problem 15](https://projecteuler.net/problem=15)\n",
    "> Starting in the top left corner of a 2×2 grid, and only being able to move to the right and down, there are exactly 6 routes to the bottom right corner.\n",
    "\n",
    "> ![path](https://projecteuler.net/project/images/p015.gif)\n",
    "\n",
    "> How many such routes are there through a 20×20 grid?"
   ]
  },
  {
   "cell_type": "markdown",
   "metadata": {},
   "source": [
    "## Dynamic Programming"
   ]
  },
  {
   "cell_type": "code",
   "execution_count": 1,
   "metadata": {
    "collapsed": false
   },
   "outputs": [
    {
     "data": {
      "text/html": [
       "<pre>137846528820</pre>"
      ],
      "text/plain": [
       "137846528820"
      ]
     },
     "execution_count": 1,
     "metadata": {},
     "output_type": "execute_result"
    }
   ],
   "source": [
    "var DP = (function() {\n",
    "    function DP() {\n",
    "    }\n",
    "    \n",
    "    DP.prototype.calcNumPaths = function(a, b) {\n",
    "        var grid = Array.apply(null, Array(a+1)).map(function() {\n",
    "            return Array.apply(null, Array(b+1)).map(function() {\n",
    "                return 1;\n",
    "            });\n",
    "        });\n",
    "        for (var i = 1; i <= a; i++) {\n",
    "            for (var j = 1; j <= b; j++) {\n",
    "                grid[i][j] = grid[i-1][j] + grid[i][j-1];\n",
    "            }\n",
    "        }\n",
    "        return grid[a][b]\n",
    "    };\n",
    "    \n",
    "    DP.prototype.euler15 = function(a, b) {\n",
    "        return this.calcNumPaths(20, 20);\n",
    "    }\n",
    "\n",
    "    return DP;\n",
    "})();\n",
    "\n",
    "new DP().euler15();"
   ]
  },
  {
   "cell_type": "markdown",
   "metadata": {},
   "source": [
    "## Combinatorics"
   ]
  },
  {
   "cell_type": "markdown",
   "metadata": {},
   "source": [
    "Instead of calculating large factorials, the answer can be built using a reduction of the combination forumla for the specific case of a $n \\times n$ grid.\n",
    "\n",
    "$$\n",
    "{2n \\choose n} = \\prod_{i=1}^n \\frac{(n+i)}i\n",
    "$$"
   ]
  },
  {
   "cell_type": "code",
   "execution_count": 2,
   "metadata": {
    "collapsed": false
   },
   "outputs": [
    {
     "data": {
      "text/html": [
       "<pre>137846528820</pre>"
      ],
      "text/plain": [
       "137846528820"
      ]
     },
     "execution_count": 2,
     "metadata": {},
     "output_type": "execute_result"
    }
   ],
   "source": [
    "var BuiltUpResult = (function() {\n",
    "    function BuiltUpResult() {\n",
    "    }\n",
    "    \n",
    "    BuiltUpResult.prototype.calcNumPaths = function(n) {\n",
    "        var result = 1;\n",
    "        for (var i = 1; i <= n; i++) {\n",
    "            result = result * (n + i) / i;\n",
    "        }\n",
    "        return result\n",
    "    };\n",
    "    \n",
    "    BuiltUpResult.prototype.euler15 = function(n) {\n",
    "        return this.calcNumPaths(20);\n",
    "    }\n",
    "\n",
    "    return BuiltUpResult;\n",
    "})();\n",
    "\n",
    "new BuiltUpResult().euler15();"
   ]
  },
  {
   "cell_type": "markdown",
   "metadata": {},
   "source": [
    "## Benchmarks"
   ]
  },
  {
   "cell_type": "code",
   "execution_count": 3,
   "metadata": {
    "collapsed": false
   },
   "outputs": [
    {
     "data": {
      "text/html": [
       "<pre>{ &#39;euler15#DP&#39;: &#39;142.05475275871083 microseconds&#39;,\n",
       "  &#39;euler15#BuiltUp&#39;: &#39;132.10598191591896 ns&#39; }</pre>"
      ],
      "text/plain": [
       "{ 'euler15#DP': '142.05475275871083 microseconds',\n",
       "  'euler15#BuiltUp': '132.10598191591896 ns' }"
      ]
     },
     "execution_count": 3,
     "metadata": {},
     "output_type": "execute_result"
    }
   ],
   "source": [
    "$$async$$ = true;\n",
    "var Benchmark = require('benchmark');\n",
    "var unit = [' s', ' ms', ' microseconds', ' ns', ' ps']\n",
    "var suite = new Benchmark.Suite;\n",
    "suite.add('euler15#DP', function() { new DP().euler15();});\n",
    "suite.add('euler15#BuiltUp', function() { new BuiltUpResult().euler15();});\n",
    "suite.on('complete', function() {\n",
    "    var result = {};\n",
    "    this.forEach(function(r) {\n",
    "        var p = Math.ceil((Math.log(r.hz) / Math.LN10) / 3);\n",
    "        result[r.name] = 1 / r.hz * Math.pow(10, p*3) + unit[p];\n",
    "    });\n",
    "    $$done$$(result);\n",
    "});\n",
    "suite.run({'async':true});"
   ]
  }
 ],
 "metadata": {
  "kernelspec": {
   "display_name": "Javascript (Node.js)",
   "language": "javascript",
   "name": "javascript"
  },
  "language_info": {
   "file_extension": "js",
   "mimetype": "application/javascript",
   "name": "javascript",
   "version": "0.12.1"
  }
 },
 "nbformat": 4,
 "nbformat_minor": 0
}
