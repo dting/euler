{
 "cells": [
  {
   "cell_type": "markdown",
   "metadata": {},
   "source": [
    "# Special Pythagorean triplet"
   ]
  },
  {
   "cell_type": "markdown",
   "metadata": {},
   "source": [
    "[problem 9](https://projecteuler.net/problem=9)\n",
    "\n",
    "> Pythagorean triplet is a set of three natural numbers: \n",
    "\n",
    "> \\begin{align*} \n",
    "a<b<c \n",
    "\\end{align*}\n",
    "\n",
    "> For which: \n",
    "\n",
    "> \\begin{align*} \n",
    "a^2+b^2=c^2 \n",
    "\\end{align*}\n",
    "\n",
    "> For example: \n",
    "\n",
    "> \\begin{align*}\n",
    "3^2+4^2=9+16=25=5^2 \n",
    "\\end{align*}\n",
    "\n",
    "> There exists exactly one Pythagorean triplet for which $a+b+c=1000$.\n",
    "\n",
    "> Find the product $abc$."
   ]
  },
  {
   "cell_type": "markdown",
   "metadata": {},
   "source": [
    "## Brute Force"
   ]
  },
  {
   "cell_type": "code",
   "execution_count": 1,
   "metadata": {
    "collapsed": false
   },
   "outputs": [
    {
     "data": {
      "text/html": [
       "<pre>31875000</pre>"
      ],
      "text/plain": [
       "31875000"
      ]
     },
     "execution_count": 1,
     "metadata": {},
     "output_type": "execute_result"
    }
   ],
   "source": [
    "function tripProductBruteForce(N) {\n",
    "    for (var c = 3; c < N - 2; c++) {\n",
    "        var cc = c * c;\n",
    "        for (var b = 2; b < c; b++) {\n",
    "            var bb = b * b;\n",
    "            for (var a = 1; a < b; a++) {\n",
    "                var aa = a * a;\n",
    "                if (aa + bb === cc && a + b  + c === N) {\n",
    "                    return a * b * c;   \n",
    "                }\n",
    "            }\n",
    "        }\n",
    "    }\n",
    "    return -1;\n",
    "}\n",
    "\n",
    "function euler9BruteForce() {\n",
    "    return tripProductBruteForce(1000)\n",
    "}\n",
    "\n",
    "euler9BruteForce();"
   ]
  },
  {
   "cell_type": "code",
   "execution_count": 2,
   "metadata": {
    "collapsed": false
   },
   "outputs": [
    {
     "data": {
      "text/html": [
       "<pre>31875000</pre>"
      ],
      "text/plain": [
       "31875000"
      ]
     },
     "execution_count": 2,
     "metadata": {},
     "output_type": "execute_result"
    }
   ],
   "source": [
    "function tripProductStartPoint(N) {\n",
    "    for (var c = Math.floor(N / 3); c < N - 2; c++) {\n",
    "        var cc = c * c;\n",
    "        for (var b = 2; b < c; b++) {\n",
    "            var bb = b * b;\n",
    "            for (var a = 1; a < b; a++) {\n",
    "                var aa = a * a;\n",
    "                if (aa + bb === cc && a + b  + c === N) {\n",
    "                    return a * b * c;   \n",
    "                }\n",
    "            }\n",
    "        }\n",
    "    }\n",
    "    return -1;\n",
    "}\n",
    "\n",
    "function euler9StartPoint() {\n",
    "    return tripProductStartPoint(1000)\n",
    "}\n",
    "\n",
    "euler9StartPoint();"
   ]
  },
  {
   "cell_type": "code",
   "execution_count": 3,
   "metadata": {
    "collapsed": false
   },
   "outputs": [
    {
     "data": {
      "text/html": [
       "<pre>31875000</pre>"
      ],
      "text/plain": [
       "31875000"
      ]
     },
     "execution_count": 3,
     "metadata": {},
     "output_type": "execute_result"
    }
   ],
   "source": [
    "function tripProductDomain(N) {\n",
    "    for (var c = Math.floor(N / 3); c < N - 2; c++) {\n",
    "        for (var b = c - 1, a = N - c - b; a < b; a++, b--) {\n",
    "            if (a * a + b * b == c * c) {\n",
    "                return a * b * c;\n",
    "            }\n",
    "        }\n",
    "    }\n",
    "    return -1;\n",
    "}\n",
    "\n",
    "function euler9Domain() {\n",
    "    return tripProductDomain(1000)    \n",
    "}\n",
    "\n",
    "euler9Domain();"
   ]
  },
  {
   "cell_type": "markdown",
   "metadata": {},
   "source": [
    "## Euclid's formula"
   ]
  },
  {
   "cell_type": "markdown",
   "metadata": {},
   "source": [
    "For a pythagorean triplet,\n",
    "\n",
    "$$a = m^2 - n^2 ,\\ \\, b = 2mn ,\\ \\, c = m^2 + n^2\\; \\text{where}\\; m > n$$\n",
    "\n",
    "and because our problem requires $a+b+c=1000$\n",
    "\n",
    "\\begin{align*}\n",
    "m^2 -n^2 + 2mn + m^2 + n^2 & = 1000 \\\\\n",
    "2m^2 + 2mn & = 1000 \\\\\n",
    "2m(m+n) & = 1000 \\\\\n",
    "m(m+n) & = 500 \\\\\n",
    "n & = (500 \\div m) - m\n",
    "\\end{align*}"
   ]
  },
  {
   "cell_type": "code",
   "execution_count": 4,
   "metadata": {
    "collapsed": false
   },
   "outputs": [
    {
     "data": {
      "text/html": [
       "<pre>31875000</pre>"
      ],
      "text/plain": [
       "31875000"
      ]
     },
     "execution_count": 4,
     "metadata": {},
     "output_type": "execute_result"
    }
   ],
   "source": [
    "function tripProductEuclid(N) {\n",
    "    if (!(N % 2)) {\n",
    "        var k = Math.floor(N / 2);\n",
    "        for (var m = 2, lim = Math.sqrt(k); m < lim; m++) {\n",
    "            if (!(k % m)) {\n",
    "                var n = k / m - m;\n",
    "                if (n < m) {\n",
    "                    return (m * m - n * n) * (2 * m * n) * (m * m + n * n);\n",
    "                }\n",
    "            }\n",
    "        }\n",
    "    }\n",
    "    return -1;\n",
    "}\n",
    "\n",
    "function euler9Euclid() {\n",
    "    return tripProductEuclid(1000)\n",
    "}\n",
    "\n",
    "euler9Euclid();"
   ]
  },
  {
   "cell_type": "markdown",
   "metadata": {},
   "source": [
    "## Benchmarks"
   ]
  },
  {
   "cell_type": "code",
   "execution_count": 5,
   "metadata": {
    "collapsed": false
   },
   "outputs": [
    {
     "data": {
      "text/html": [
       "<pre>{ euler9BruteForce: &#39;22.57254297278912 ms&#39;,\n",
       "  euler9StartPoint: &#39;11.639210360606063 ms&#39;,\n",
       "  euler9Domain: &#39;13.404174798656321 microseconds&#39;,\n",
       "  euler9Euclid: &#39;97.77892866690235 ns&#39; }</pre>"
      ],
      "text/plain": [
       "{ euler9BruteForce: '22.57254297278912 ms',\n",
       "  euler9StartPoint: '11.639210360606063 ms',\n",
       "  euler9Domain: '13.404174798656321 microseconds',\n",
       "  euler9Euclid: '97.77892866690235 ns' }"
      ]
     },
     "execution_count": 5,
     "metadata": {},
     "output_type": "execute_result"
    }
   ],
   "source": [
    "$$async$$ = true;\n",
    "var Benchmark = require('benchmark');\n",
    "var unit = [' s', ' ms', ' microseconds', ' ns', ' ps']\n",
    "var suite = new Benchmark.Suite;\n",
    "suite.add('euler9BruteForce', euler9BruteForce);\n",
    "suite.add('euler9StartPoint', euler9StartPoint);\n",
    "suite.add('euler9Domain', euler9Domain);\n",
    "suite.add('euler9Euclid', euler9Euclid);\n",
    "suite.on('complete', function() {\n",
    "    var result = {};\n",
    "    this.forEach(function(r) {\n",
    "        var p = Math.ceil((Math.log(r.hz) / Math.LN10) / 3);\n",
    "        result[r.name] = 1 / r.hz * Math.pow(10, p*3) + unit[p];\n",
    "    });\n",
    "    $$done$$(result);\n",
    "});\n",
    "suite.run({'async':true});"
   ]
  }
 ],
 "metadata": {
  "kernelspec": {
   "display_name": "Javascript (Node.js)",
   "language": "javascript",
   "name": "javascript"
  },
  "language_info": {
   "file_extension": "js",
   "mimetype": "application/javascript",
   "name": "javascript",
   "version": "0.12.1"
  }
 },
 "nbformat": 4,
 "nbformat_minor": 0
}
