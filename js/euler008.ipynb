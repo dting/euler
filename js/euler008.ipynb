{
 "cells": [
  {
   "cell_type": "markdown",
   "metadata": {},
   "source": [
    "#Largest product in a series"
   ]
  },
  {
   "cell_type": "markdown",
   "metadata": {},
   "source": [
    "[problem 8](https://projecteuler.net/problem=8)\n",
    "\n",
    "> The four adjacent digits in the 1000-digit number that have the greatest product are 9 × 9 × 8 × 9 = 5832."
   ]
  },
  {
   "cell_type": "code",
   "execution_count": 6,
   "metadata": {
    "collapsed": false
   },
   "outputs": [],
   "source": [
    "var data = (\n",
    "'73167176531330624919225119674426574742355349194934' +\n",
    "'96983520312774506326239578318016984801869478851843' +\n",
    "'85861560789112949495459501737958331952853208805511' +\n",
    "'12540698747158523863050715693290963295227443043557' +\n",
    "'66896648950445244523161731856403098711121722383113' +\n",
    "'62229893423380308135336276614282806444486645238749' + \n",
    "'30358907296290491560440772390713810515859307960866' +\n",
    "'70172427121883998797908792274921901699720888093776' +\n",
    "'65727333001053367881220235421809751254540594752243' +\n",
    "'52584907711670556013604839586446706324415722155397' +\n",
    "'53697817977846174064955149290862569321978468622482' +\n",
    "'83972241375657056057490261407972968652414535100474' +\n",
    "'82166370484403199890008895243450658541227588666881' +\n",
    "'16427171479924442928230863465674813919123162824586' +\n",
    "'17866458359124566529476545682848912883142607690042' +\n",
    "'24219022671055626321111109370544217506941658960408' +\n",
    "'07198403850962455444362981230987879927244284909188' +\n",
    "'84580156166097919133875499200524063689912560717606' +\n",
    "'05886116467109405077541002256983155200055935729725' +\n",
    "'71636269561882670428252483600823257530420752963450');"
   ]
  },
  {
   "cell_type": "markdown",
   "metadata": {},
   "source": [
    "> Find the thirteen adjacent digits in the 1000-digit number that have the greatest product. What is the value of this product?"
   ]
  },
  {
   "cell_type": "code",
   "execution_count": 7,
   "metadata": {
    "collapsed": false
   },
   "outputs": [],
   "source": [
    "var arr = data.split('').map(Number);"
   ]
  },
  {
   "cell_type": "code",
   "execution_count": 8,
   "metadata": {
    "collapsed": false
   },
   "outputs": [
    {
     "name": "stdout",
     "output_type": "stream",
     "text": [
      "23514624000\n"
     ]
    }
   ],
   "source": [
    "function product(numbers) {\n",
    "  return numbers.reduce(function(n, prod) {return n * prod;}, 1);\n",
    "}\n",
    "\n",
    "function largestProduct(numbers, k) {\n",
    "    var i = numbers.length - k;\n",
    "    var max = 0;\n",
    "    while (i--) {\n",
    "        max = Math.max(max, product(numbers.slice(i, i+k)));\n",
    "    }\n",
    "    return max;\n",
    "}\n",
    "\n",
    "function euler8BruteForce() {\n",
    "    return largestProduct(arr, 13);\n",
    "}\n",
    "\n",
    "console.log(euler8BruteForce());"
   ]
  },
  {
   "cell_type": "markdown",
   "metadata": {},
   "source": [
    "### Running product total\n",
    "- Keep track of the number of non zero digits.\n",
    "- Keep track of product of non zero digits.\n",
    "- Divide total by the digit dropping out of window if num digits is > 13.\n",
    "- Compare max only when 13 digits encountered with no zeros.\n",
    "- Num digits and product reset to 0 when 0 is encountered."
   ]
  },
  {
   "cell_type": "code",
   "execution_count": 9,
   "metadata": {
    "collapsed": false
   },
   "outputs": [
    {
     "name": "stdout",
     "output_type": "stream",
     "text": [
      "23514624000\n"
     ]
    }
   ],
   "source": [
    "function largestProductDivMult(arr, k) {\n",
    "    var curProduct = 0;\n",
    "    var numDigits = 0\n",
    "    var digit;\n",
    "    var i = arr.length;\n",
    "    var max = 0;\n",
    "    while (i-- > k) {\n",
    "        digit = arr[i];\n",
    "        numDigits++;\n",
    "        if (digit) {\n",
    "            curProduct = numDigits == 1 ? digit : curProduct * digit;\n",
    "            curProduct = numDigits > 13 ? curProduct / arr[i+13] : curProduct;\n",
    "            if (numDigits > 12) {\n",
    "                max = Math.max(max, curProduct);\n",
    "            }\n",
    "        } else {\n",
    "            curProduct = 0;\n",
    "            numDigits = 0;\n",
    "        }\n",
    "    }\n",
    "    return max;\n",
    "}\n",
    "    \n",
    "\n",
    "function euler8DivMult() {\n",
    "    return largestProductDivMult(arr, 13);\n",
    "}\n",
    "\n",
    "console.log(euler8DivMult());"
   ]
  },
  {
   "cell_type": "markdown",
   "metadata": {},
   "source": [
    "## Benchmarks"
   ]
  },
  {
   "cell_type": "code",
   "execution_count": 11,
   "metadata": {
    "collapsed": false
   },
   "outputs": [
    {
     "data": {
      "text/html": [
       "<pre>{ euler8BruteForce: &#39;1.0944667966976334 ms&#39;,\n",
       "  euler8DivMult: &#39;6.4917495633802345 microseconds&#39; }</pre>"
      ],
      "text/plain": [
       "{ euler8BruteForce: '1.0944667966976334 ms',\n",
       "  euler8DivMult: '6.4917495633802345 microseconds' }"
      ]
     },
     "execution_count": 11,
     "metadata": {},
     "output_type": "execute_result"
    }
   ],
   "source": [
    "$$async$$ = true;\n",
    "var Benchmark = require('benchmark');\n",
    "var unit = [' s', ' ms', ' microseconds', ' ns', ' ps']\n",
    "var suite = new Benchmark.Suite;\n",
    "suite.add('euler8BruteForce', euler8BruteForce);\n",
    "suite.add('euler8DivMult', euler8DivMult);\n",
    "suite.on('complete', function() {\n",
    "    var result = {};\n",
    "    this.forEach(function(r) {\n",
    "        var p = Math.ceil((Math.log(r.hz) / Math.LN10) / 3);\n",
    "        result[r.name] = 1 / r.hz * Math.pow(10, p*3) + unit[p];\n",
    "    });\n",
    "    $$done$$(result);\n",
    "});\n",
    "suite.run({'async':true});"
   ]
  }
 ],
 "metadata": {
  "kernelspec": {
   "display_name": "Javascript (Node.js)",
   "language": "javascript",
   "name": "javascript"
  },
  "language_info": {
   "file_extension": "js",
   "mimetype": "application/javascript",
   "name": "javascript",
   "version": "0.12.1"
  }
 },
 "nbformat": 4,
 "nbformat_minor": 0
}
