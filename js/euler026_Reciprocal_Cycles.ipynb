{
 "cells": [
  {
   "cell_type": "markdown",
   "metadata": {},
   "source": [
    "# Reciprocal cycles"
   ]
  },
  {
   "cell_type": "markdown",
   "metadata": {},
   "source": [
    "[problem 26](https://projecteuler.net/problem=26)\n",
    "> A unit fraction contains 1 in the numerator. The decimal representation of the unit fractions with denominators 2 to 10 are given:\n",
    "\n",
    "> <math>\\begin{gather}\n",
    "\\frac12\t& = &\t0.5 \\cr\n",
    "\\frac13\t& = &\t0.(3) \\cr\n",
    "\\frac14\t& = &\t0.25 \\cr\n",
    "\\frac15\t& = &\t0.2 \\cr\n",
    "\\frac16\t& = &\t0.1(6) \\cr\n",
    "\\frac17\t& = &\t0.(142857) \\cr\n",
    "\\frac18\t& = &\t0.125 \\cr\n",
    "\\frac19\t& = &\t0.(1) \\cr\n",
    "\\frac{1}{10}\t& = &\t0.1\n",
    "\\end{gather}\n",
    "</math>\n",
    "\n",
    "> Where $0.1(6)$ means $0.166666\\dots$, and has a 1-digit recurring cycle. It can be seen that $\\frac17$ has a 6-digit recurring cycle.\n",
    "\n",
    "> Find the value of $d < 1000$ for which $\\frac1d$ contains the longest recurring cycle in its decimal fraction part."
   ]
  },
  {
   "cell_type": "code",
   "execution_count": 1,
   "metadata": {
    "collapsed": false
   },
   "outputs": [
    {
     "data": {
      "text/html": [
       "<pre>983</pre>"
      ],
      "text/plain": [
       "983"
      ]
     },
     "execution_count": 1,
     "metadata": {},
     "output_type": "execute_result"
    }
   ],
   "source": [
    "function euler26() {\n",
    "    function cycleLength(n) {\n",
    "        if (!(n % 2)||!(n % 5)) return 0;\n",
    "        var seen = Object.create(null);\n",
    "        var len = 0;\n",
    "        var state = 1;\n",
    "        while (!(state in seen)) {\n",
    "            seen[state] = len;\n",
    "            state = (state * 10) % n;\n",
    "            len++;\n",
    "        }\n",
    "        return len - seen[state];\n",
    "    }\n",
    "    \n",
    "    var max = 1;\n",
    "    var n = 3;\n",
    "    for (var i = 999; i > max; i-=2) {\n",
    "        var c = cycleLength(i);\n",
    "        if (c > max) {\n",
    "            max = c;\n",
    "            n = i;\n",
    "        }\n",
    "    }\n",
    "    return n;\n",
    "}\n",
    "euler26();"
   ]
  },
  {
   "cell_type": "markdown",
   "metadata": {},
   "source": [
    "## Benchmarks"
   ]
  },
  {
   "cell_type": "code",
   "execution_count": 2,
   "metadata": {
    "collapsed": false
   },
   "outputs": [
    {
     "data": {
      "text/html": [
       "<pre>{ euler26: &#39;170.06873721419234 microseconds&#39; }</pre>"
      ],
      "text/plain": [
       "{ euler26: '170.06873721419234 microseconds' }"
      ]
     },
     "execution_count": 2,
     "metadata": {},
     "output_type": "execute_result"
    }
   ],
   "source": [
    "$$async$$ = true;\n",
    "var Benchmark = require('benchmark');\n",
    "var unit = [' s', ' ms', ' microseconds', ' ns', ' ps']\n",
    "var suite = new Benchmark.Suite;\n",
    "suite.add('euler26', euler26);\n",
    "suite.on('complete', function() {\n",
    "    var result = {};\n",
    "    this.forEach(function(r) {\n",
    "        var p = Math.ceil((Math.log(r.hz) / Math.LN10) / 3);\n",
    "        result[r.name] = 1 / r.hz * Math.pow(10, p*3) + unit[p];\n",
    "    });\n",
    "    $$done$$(result);\n",
    "});\n",
    "suite.run({'async':true});"
   ]
  }
 ],
 "metadata": {
  "kernelspec": {
   "display_name": "Javascript (Node.js)",
   "language": "javascript",
   "name": "javascript"
  },
  "language_info": {
   "file_extension": "js",
   "mimetype": "application/javascript",
   "name": "javascript",
   "version": "0.12.1"
  }
 },
 "nbformat": 4,
 "nbformat_minor": 0
}
