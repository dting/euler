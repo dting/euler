{
 "cells": [
  {
   "cell_type": "markdown",
   "metadata": {},
   "source": [
    "# Largest palindrome product"
   ]
  },
  {
   "cell_type": "markdown",
   "metadata": {},
   "source": [
    "[problem 4](https://projecteuler.net/problem=4)\n",
    "\n",
    "> A palindromic number reads the same both ways. The largest palindrome made from the product of two 2-digit numbers is 9009 = 91 × 99.\n",
    "\n",
    "> Find the largest palindrome made from the product of two 3-digit numbers."
   ]
  },
  {
   "cell_type": "markdown",
   "metadata": {},
   "source": [
    "## Different ways to get the digits of a number"
   ]
  },
  {
   "cell_type": "markdown",
   "metadata": {},
   "source": [
    "### Cast to string and split"
   ]
  },
  {
   "cell_type": "code",
   "execution_count": 1,
   "metadata": {
    "collapsed": false
   },
   "outputs": [
    {
     "data": {
      "text/html": [
       "<pre>[ 1, 2, 3, 1, 2, 5, 8, 1, 1, 8, 5, 2, 1, 3, 2, 1 ]</pre>"
      ],
      "text/plain": [
       "[ 1, 2, 3, 1, 2, 5, 8, 1, 1, 8, 5, 2, 1, 3, 2, 1 ]"
      ]
     },
     "execution_count": 1,
     "metadata": {},
     "output_type": "execute_result"
    }
   ],
   "source": [
    "function digitsString(n) {\n",
    "    return (n + '').split('').map(Number);\n",
    "}\n",
    "digitsString(1231258118521321);"
   ]
  },
  {
   "cell_type": "markdown",
   "metadata": {},
   "source": [
    "### Divide and mod to get digits"
   ]
  },
  {
   "cell_type": "code",
   "execution_count": 2,
   "metadata": {
    "collapsed": false
   },
   "outputs": [
    {
     "data": {
      "text/html": [
       "<pre>[ 1, 2, 3, 1, 2, 5, 8, 1, 1, 8, 5, 2, 1, 3, 2, 1 ]</pre>"
      ],
      "text/plain": [
       "[ 1, 2, 3, 1, 2, 5, 8, 1, 1, 8, 5, 2, 1, 3, 2, 1 ]"
      ]
     },
     "execution_count": 2,
     "metadata": {},
     "output_type": "execute_result"
    }
   ],
   "source": [
    "function digitsDivMod(n) {\n",
    "    var digits = [];\n",
    "    while(n) {\n",
    "        digits.push(n % 10);\n",
    "        n = Math.floor(n / 10);\n",
    "    }\n",
    "    return digits.reverse();\n",
    "}\n",
    "digitsDivMod(1231258118521321);"
   ]
  },
  {
   "cell_type": "markdown",
   "metadata": {
    "collapsed": false
   },
   "source": [
    "## Palindromic"
   ]
  },
  {
   "cell_type": "code",
   "execution_count": 3,
   "metadata": {
    "collapsed": false,
    "scrolled": true
   },
   "outputs": [
    {
     "data": {
      "text/html": [
       "<pre>{ &#39;1234321&#39;: true, &#39;1234567&#39;: false }</pre>"
      ],
      "text/plain": [
       "{ '1234321': true, '1234567': false }"
      ]
     },
     "execution_count": 3,
     "metadata": {},
     "output_type": "execute_result"
    }
   ],
   "source": [
    "function isPalindromicString(n) {\n",
    "    var digits = digitsString(n);\n",
    "    var rev = digits.slice().reverse();\n",
    "    return '' + n === rev.join('');\n",
    "}\n",
    "(function() {\n",
    "    return {\n",
    "        '1234567':isPalindromicString(1234567),\n",
    "        '1234321':isPalindromicString(1234321)\n",
    "    };\n",
    "})();"
   ]
  },
  {
   "cell_type": "code",
   "execution_count": 4,
   "metadata": {
    "collapsed": false
   },
   "outputs": [
    {
     "data": {
      "text/html": [
       "<pre>{ &#39;1234321&#39;: true, &#39;1234567&#39;: false }</pre>"
      ],
      "text/plain": [
       "{ '1234321': true, '1234567': false }"
      ]
     },
     "execution_count": 4,
     "metadata": {},
     "output_type": "execute_result"
    }
   ],
   "source": [
    "function isPalindromicDivMod(n) {\n",
    "    var digits = digitsDivMod(n);\n",
    "    var rev = digits.slice().reverse();\n",
    "    return digits.join('') === rev.join('');\n",
    "}\n",
    "(function() {\n",
    "    return {\n",
    "        '1234567':isPalindromicDivMod(1234567),\n",
    "        '1234321':isPalindromicDivMod(1234321)\n",
    "    };\n",
    "})();"
   ]
  },
  {
   "cell_type": "code",
   "execution_count": 5,
   "metadata": {
    "collapsed": false
   },
   "outputs": [
    {
     "data": {
      "text/html": [
       "<pre>{ &#39;1234321&#39;: true, &#39;1234567&#39;: false }</pre>"
      ],
      "text/plain": [
       "{ '1234321': true, '1234567': false }"
      ]
     },
     "execution_count": 5,
     "metadata": {},
     "output_type": "execute_result"
    }
   ],
   "source": [
    "function isPalindromicMath(n) {\n",
    "    if (n < 0) throw 'isPalindromicMath only works for positive numbers.';\n",
    "    // Single digit numbers are palindromic\n",
    "    if (Math.floor(n / 10) === 0) return true;\n",
    "    // n > 0, without leading 0s cannot be palindromic if ending in 0\n",
    "    if (n % 10 === 0) return false; \n",
    "\n",
    "    var number = n;\n",
    "    var rev = 0;\n",
    "    while (number) {\n",
    "        rev *= 10;\n",
    "        rev += number % 10;\n",
    "        number = Math.floor(number / 10);\n",
    "    }\n",
    "    return rev === n;\n",
    "}\n",
    "(function() {\n",
    "    return {\n",
    "        '1234567':isPalindromicMath(1234567),\n",
    "        '1234321':isPalindromicMath(1234321)\n",
    "    };\n",
    "})();"
   ]
  },
  {
   "cell_type": "code",
   "execution_count": 6,
   "metadata": {
    "collapsed": false
   },
   "outputs": [
    {
     "data": {
      "text/html": [
       "<pre>{ &#39;1234321&#39;: true, &#39;1234567&#39;: false }</pre>"
      ],
      "text/plain": [
       "{ '1234321': true, '1234567': false }"
      ]
     },
     "execution_count": 6,
     "metadata": {},
     "output_type": "execute_result"
    }
   ],
   "source": [
    "function isPalindromicOutsideIn(n) {\n",
    "    var digits = digitsDivMod(n);\n",
    "    var i = -1;\n",
    "    var j = digits.length;\n",
    "    while (++i < --j) {\n",
    "        if (digits[i] !== digits[j]) return false;\n",
    "    }\n",
    "    return true;\n",
    "}\n",
    "(function() {\n",
    "    return {\n",
    "        '1234567':isPalindromicOutsideIn(1234567),\n",
    "        '1234321':isPalindromicOutsideIn(1234321)\n",
    "    };\n",
    "})();"
   ]
  },
  {
   "cell_type": "markdown",
   "metadata": {},
   "source": [
    "## Solving the problem"
   ]
  },
  {
   "cell_type": "code",
   "execution_count": 7,
   "metadata": {
    "collapsed": false
   },
   "outputs": [
    {
     "data": {
      "text/html": [
       "<pre>906609</pre>"
      ],
      "text/plain": [
       "906609"
      ]
     },
     "execution_count": 7,
     "metadata": {},
     "output_type": "execute_result"
    }
   ],
   "source": [
    "function euler4NestedForLoops() {\n",
    "    var min = 100;\n",
    "    var max = 999;\n",
    "    var answer = 0;\n",
    "    for (var i = min; i <= max; i++) {\n",
    "        for (var j = i; j <= max; j++) {\n",
    "            var product = i*j;\n",
    "            if (product > answer && isPalindromicMath(product)) {\n",
    "                answer = product;\n",
    "            }\n",
    "        }\n",
    "    }\n",
    "    return answer;\n",
    "}\n",
    "euler4NestedForLoops();"
   ]
  },
  {
   "cell_type": "code",
   "execution_count": 8,
   "metadata": {
    "collapsed": false
   },
   "outputs": [
    {
     "data": {
      "text/html": [
       "<pre>906609</pre>"
      ],
      "text/plain": [
       "906609"
      ]
     },
     "execution_count": 8,
     "metadata": {},
     "output_type": "execute_result"
    }
   ],
   "source": [
    "function euler4NestedForLoopsReversed() {\n",
    "    var min = 100;\n",
    "    var max = 999;\n",
    "    var answer = 0;\n",
    "    for (var i = max; i >= min ; i--) {\n",
    "        for (var j = max; j >= min; j--) {\n",
    "            var product = i*j;\n",
    "            if (product < answer) {\n",
    "                break;\n",
    "            }\n",
    "            if (product > answer && isPalindromicMath(product)) {\n",
    "                answer = product;\n",
    "            }\n",
    "        }\n",
    "    }\n",
    "    return answer;\n",
    "}\n",
    "euler4NestedForLoopsReversed();"
   ]
  },
  {
   "cell_type": "markdown",
   "metadata": {},
   "source": [
    "## Benchmarks"
   ]
  },
  {
   "cell_type": "code",
   "execution_count": 9,
   "metadata": {
    "collapsed": false
   },
   "outputs": [],
   "source": [
    "var Benchmark = require('benchmark');\n",
    "var unit = [' s', ' ms', ' microseconds', ' ns', ' ps']"
   ]
  },
  {
   "cell_type": "markdown",
   "metadata": {},
   "source": [
    "### Digits"
   ]
  },
  {
   "cell_type": "code",
   "execution_count": 10,
   "metadata": {
    "collapsed": false
   },
   "outputs": [
    {
     "data": {
      "text/html": [
       "<pre>{ &#39;digits#string&#39;: &#39;1.475758933763988 microseconds&#39;,\n",
       "  &#39;digits#divMod&#39;: &#39;2.72895909846495 microseconds&#39; }</pre>"
      ],
      "text/plain": [
       "{ 'digits#string': '1.475758933763988 microseconds',\n",
       "  'digits#divMod': '2.72895909846495 microseconds' }"
      ]
     },
     "execution_count": 10,
     "metadata": {},
     "output_type": "execute_result"
    }
   ],
   "source": [
    "$$async$$ = true;\n",
    "var digitsSuite = new Benchmark.Suite;\n",
    "digitsSuite.add('digits#string', function() {return digitsString(1231258118521321)});\n",
    "digitsSuite.add('digits#divMod', function() {return digitsDivMod(1231258118521321)});\n",
    "digitsSuite.on('complete', function() {\n",
    "    var result = {};\n",
    "    this.forEach(function(r) {\n",
    "        var p = Math.ceil((Math.log(r.hz) / Math.LN10) / 3);\n",
    "        result[r.name] = 1 / r.hz * Math.pow(10, p*3) + unit[p];\n",
    "    });\n",
    "    $$done$$(result);\n",
    "});\n",
    "digitsSuite.run({'async':true});"
   ]
  },
  {
   "cell_type": "markdown",
   "metadata": {},
   "source": [
    "### Palindromic"
   ]
  },
  {
   "cell_type": "code",
   "execution_count": 13,
   "metadata": {
    "collapsed": false
   },
   "outputs": [
    {
     "data": {
      "text/html": [
       "<pre>{ &#39;isPalindromic#string: false&#39;: &#39;2.727618395474209 microseconds&#39;,\n",
       "  &#39;isPalindromic#string: true&#39;: &#39;2.7585299660343012 microseconds&#39;,\n",
       "  &#39;isPalindromic#divMod: false&#39;: &#39;4.7237887632722595 microseconds&#39;,\n",
       "  &#39;isPalindromic#divMod: true&#39;: &#39;4.750244457978401 microseconds&#39;,\n",
       "  &#39;isPalindromic#math: false&#39;: &#39;38.35445146191135 ns&#39;,\n",
       "  &#39;isPalindromic#math: true&#39;: &#39;38.07400767701671 ns&#39;,\n",
       "  &#39;isPalindromic#outsideIn: false&#39;: &#39;270.0063317109564 ns&#39;,\n",
       "  &#39;isPalindromic#outsideIn: true&#39;: &#39;281.06835457653574 ns&#39; }</pre>"
      ],
      "text/plain": [
       "{ 'isPalindromic#string: false': '2.727618395474209 microseconds',\n",
       "  'isPalindromic#string: true': '2.7585299660343012 microseconds',\n",
       "  'isPalindromic#divMod: false': '4.7237887632722595 microseconds',\n",
       "  'isPalindromic#divMod: true': '4.750244457978401 microseconds',\n",
       "  'isPalindromic#math: false': '38.35445146191135 ns',\n",
       "  'isPalindromic#math: true': '38.07400767701671 ns',\n",
       "  'isPalindromic#outsideIn: false': '270.0063317109564 ns',\n",
       "  'isPalindromic#outsideIn: true': '281.06835457653574 ns' }"
      ]
     },
     "execution_count": 13,
     "metadata": {},
     "output_type": "execute_result"
    }
   ],
   "source": [
    "$$async$$ = true;\n",
    "var palindromicSuite = new Benchmark.Suite;\n",
    "palindromicSuite.add('isPalindromic#string: false', function() {return isPalindromicString(1234567)});\n",
    "palindromicSuite.add('isPalindromic#string: true', function() {return isPalindromicString(1234321)});\n",
    "\n",
    "palindromicSuite.add('isPalindromic#divMod: false', function() {return isPalindromicDivMod(1234567)});\n",
    "palindromicSuite.add('isPalindromic#divMod: true', function() {return isPalindromicDivMod(1234321)});\n",
    "\n",
    "palindromicSuite.add('isPalindromic#math: false', function() {return isPalindromicMath(1234567)});\n",
    "palindromicSuite.add('isPalindromic#math: true', function() {return isPalindromicMath(1234321)});\n",
    "\n",
    "palindromicSuite.add('isPalindromic#outsideIn: false', function() {return isPalindromicOutsideIn(1234567)});\n",
    "palindromicSuite.add('isPalindromic#outsideIn: true', function() {return isPalindromicOutsideIn(1234321)});\n",
    "palindromicSuite.on('complete', function() {\n",
    "    var result = {};\n",
    "    this.forEach(function(r) {\n",
    "        var p = Math.ceil((Math.log(r.hz) / Math.LN10) / 3);\n",
    "        result[r.name] = 1 / r.hz * Math.pow(10, p*3) + unit[p];\n",
    "    });\n",
    "    $$done$$(result);\n",
    "});\n",
    "palindromicSuite.run({'async':true});"
   ]
  },
  {
   "cell_type": "markdown",
   "metadata": {
    "collapsed": true
   },
   "source": [
    "### Solution"
   ]
  },
  {
   "cell_type": "code",
   "execution_count": 15,
   "metadata": {
    "collapsed": false
   },
   "outputs": [
    {
     "data": {
      "text/html": [
       "<pre>{ &#39;euler4NestedForLoops#inOrder&#39;: &#39;2.24345923782739 ms&#39;,\n",
       "  &#39;euler4NestedForLoops#reversed&#39;: &#39;235.38900273573748 microseconds&#39; }</pre>"
      ],
      "text/plain": [
       "{ 'euler4NestedForLoops#inOrder': '2.24345923782739 ms',\n",
       "  'euler4NestedForLoops#reversed': '235.38900273573748 microseconds' }"
      ]
     },
     "execution_count": 15,
     "metadata": {},
     "output_type": "execute_result"
    }
   ],
   "source": [
    "$$async$$ = true;\n",
    "var suite = new Benchmark.Suite;\n",
    "suite.add('euler4NestedForLoops#inOrder', euler4NestedForLoops);\n",
    "suite.add('euler4NestedForLoops#reversed', euler4NestedForLoopsReversed);\n",
    "suite.on('complete', function() {\n",
    "    var result = {};\n",
    "    this.forEach(function(r) {\n",
    "        var p = Math.ceil((Math.log(r.hz) / Math.LN10) / 3);\n",
    "        result[r.name] = 1 / r.hz * Math.pow(10, p*3) + unit[p];\n",
    "    });\n",
    "    $$done$$(result);\n",
    "});\n",
    "suite.run({'async':true});"
   ]
  }
 ],
 "metadata": {
  "kernelspec": {
   "display_name": "Javascript (Node.js)",
   "language": "javascript",
   "name": "javascript"
  },
  "language_info": {
   "file_extension": "js",
   "mimetype": "application/javascript",
   "name": "javascript",
   "version": "0.12.1"
  }
 },
 "nbformat": 4,
 "nbformat_minor": 0
}
