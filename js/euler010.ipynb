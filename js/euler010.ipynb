{
 "cells": [
  {
   "cell_type": "markdown",
   "metadata": {},
   "source": [
    "# Summation of primes"
   ]
  },
  {
   "cell_type": "markdown",
   "metadata": {},
   "source": [
    "[problem 10](https://projecteuler.net/problem=10)\n",
    "> The sum of the primes below 10 is: \n",
    "> $$2 + 3 + 5 + 7 = 17$$\n",
    "> Find the sum of all the primes below two million."
   ]
  },
  {
   "cell_type": "markdown",
   "metadata": {},
   "source": [
    "### For more prime implementations see python [euler010](https://github.com/dting/euler/blob/master/py3/euler010.ipynb)"
   ]
  },
  {
   "cell_type": "code",
   "execution_count": 1,
   "metadata": {
    "collapsed": false
   },
   "outputs": [
    {
     "data": {
      "text/html": [
       "<pre>[ 2, 3, 5, 7, 11, 13, 17, 19 ]</pre>"
      ],
      "text/plain": [
       "[ 2, 3, 5, 7, 11, 13, 17, 19 ]"
      ]
     },
     "execution_count": 1,
     "metadata": {},
     "output_type": "execute_result"
    }
   ],
   "source": [
    "function eratosthenesObjectCreate(n) {\n",
    "    var primes = [];\n",
    "    if (n > 2) {\n",
    "        var half = n>>1;\n",
    "        var sieve = Object.create(null);\n",
    "        primes.push(2);\n",
    "        for (var i = 3, lim = Math.sqrt(n); i <= lim; i+=2) {\n",
    "            if (!(i>>1 in sieve)) {\n",
    "                for (var j = (i*i)>>1; j < half; j+=i) {\n",
    "                    sieve[j] = true;\n",
    "                }\n",
    "            }\n",
    "        }    \n",
    "        for (var p = 1; p < half; p++) {\n",
    "            if (!(p in sieve)) primes.push(2*p+1);\n",
    "        } \n",
    "    }\n",
    "    return primes;\n",
    "}\n",
    "eratosthenesObjectCreate(21);"
   ]
  },
  {
   "cell_type": "code",
   "execution_count": 2,
   "metadata": {
    "collapsed": false
   },
   "outputs": [
    {
     "data": {
      "text/html": [
       "<pre>142913828922</pre>"
      ],
      "text/plain": [
       "142913828922"
      ]
     },
     "execution_count": 2,
     "metadata": {},
     "output_type": "execute_result"
    }
   ],
   "source": [
    "function euler10ObjectCreate() {\n",
    "    return eratosthenesObjectCreate(2000000).reduce(function(a, b) {return a+b;});\n",
    "}\n",
    "euler10ObjectCreate();"
   ]
  },
  {
   "cell_type": "code",
   "execution_count": 3,
   "metadata": {
    "collapsed": false
   },
   "outputs": [
    {
     "data": {
      "text/html": [
       "<pre>[ 2, 3, 5, 7, 11, 13, 17, 19 ]</pre>"
      ],
      "text/plain": [
       "[ 2, 3, 5, 7, 11, 13, 17, 19 ]"
      ]
     },
     "execution_count": 3,
     "metadata": {},
     "output_type": "execute_result"
    }
   ],
   "source": [
    "function eratosthenesArray(n) {\n",
    "    var primes = [];\n",
    "    if (n > 2) {\n",
    "        var half = n>>1;\n",
    "        var sieve = Array(half);\n",
    "        for (var i = 3, lim = Math.sqrt(n); i <= lim; i+=2) {\n",
    "            if (!sieve[i>>1]) {\n",
    "                for (var j = (i*i)>>1; j < half; j+=i) {\n",
    "                    sieve[j] = 1;\n",
    "                }\n",
    "            }\n",
    "        }    \n",
    "        primes.push(2);\n",
    "        for (var p = 1; p < half; p++) {\n",
    "            if (!sieve[p]) primes.push(2*p+1);\n",
    "        }\n",
    "    }\n",
    "    return primes;\n",
    "}\n",
    "eratosthenesArray(21);"
   ]
  },
  {
   "cell_type": "code",
   "execution_count": 4,
   "metadata": {
    "collapsed": false
   },
   "outputs": [
    {
     "data": {
      "text/html": [
       "<pre>142913828922</pre>"
      ],
      "text/plain": [
       "142913828922"
      ]
     },
     "execution_count": 4,
     "metadata": {},
     "output_type": "execute_result"
    }
   ],
   "source": [
    "function euler10Array() {\n",
    "    return eratosthenesArray(2000000).reduce(function(a, b) {return a+b;});\n",
    "}\n",
    "euler10Array();"
   ]
  },
  {
   "cell_type": "markdown",
   "metadata": {},
   "source": [
    "### Bit packing version \n",
    "[from rosettacode](http://rosettacode.org/wiki/Sieve_of_Eratosthenes#JavaScript)"
   ]
  },
  {
   "cell_type": "code",
   "execution_count": 5,
   "metadata": {
    "collapsed": false
   },
   "outputs": [
    {
     "data": {
      "text/html": [
       "<pre>[ 2, 3, 5, 7, 11, 13, 17, 19 ]</pre>"
      ],
      "text/plain": [
       "[ 2, 3, 5, 7, 11, 13, 17, 19 ]"
      ]
     },
     "execution_count": 5,
     "metadata": {},
     "output_type": "execute_result"
    }
   ],
   "source": [
    "function eratosthenesBitPacking(n) {\n",
    "    var prms = [];\n",
    "    var limit = n-1;\n",
    "    if (limit > 2) {\n",
    "        var sqrtlmt = (Math.sqrt(limit) - 3) >> 1;\n",
    "        var lmt = (limit - 3) >> 1;\n",
    "        var bfsz = (lmt >> 5) + 1\n",
    "        var buf = [];\n",
    "        for (var i = 0; i < bfsz; i++)\n",
    "            buf.push(0);\n",
    "        for (var i = 0; i <= sqrtlmt; i++)\n",
    "            if ((buf[i >> 5] & (1 << (i & 31))) == 0) {\n",
    "                var p = i + i + 3;\n",
    "                for (var j = (p * p - 3) >> 1; j <= lmt; j += p)\n",
    "                    buf[j >> 5] |= 1 << (j & 31);\n",
    "            }\n",
    "        prms.push(2)\n",
    "        for (var i = 0; i <= lmt; i++)\n",
    "            if ((buf[i >> 5] & (1 << (i & 31))) == 0)\n",
    "                prms.push(i + i + 3);\n",
    "    }\n",
    "    return prms;\n",
    "}\n",
    "eratosthenesBitPacking(21);"
   ]
  },
  {
   "cell_type": "code",
   "execution_count": 6,
   "metadata": {
    "collapsed": false
   },
   "outputs": [
    {
     "data": {
      "text/html": [
       "<pre>142913828922</pre>"
      ],
      "text/plain": [
       "142913828922"
      ]
     },
     "execution_count": 6,
     "metadata": {},
     "output_type": "execute_result"
    }
   ],
   "source": [
    "function euler10BitPacking() {\n",
    "    return eratosthenesBitPacking(2000000).reduce(function(a, b) {return a+b;});\n",
    "}\n",
    "euler10BitPacking();"
   ]
  },
  {
   "cell_type": "markdown",
   "metadata": {},
   "source": [
    "## Benchmarks"
   ]
  },
  {
   "cell_type": "code",
   "execution_count": 7,
   "metadata": {
    "collapsed": false
   },
   "outputs": [
    {
     "data": {
      "text/html": [
       "<pre>{ &#39;euler10#ObjectCreate&#39;: &#39;164.81142871428568 ms&#39;,\n",
       "  &#39;euler10#Array&#39;: &#39;86.34025228947367 ms&#39;,\n",
       "  &#39;euler10#BitPacking&#39;: &#39;60.88512076190477 ms&#39; }</pre>"
      ],
      "text/plain": [
       "{ 'euler10#ObjectCreate': '164.81142871428568 ms',\n",
       "  'euler10#Array': '86.34025228947367 ms',\n",
       "  'euler10#BitPacking': '60.88512076190477 ms' }"
      ]
     },
     "execution_count": 7,
     "metadata": {},
     "output_type": "execute_result"
    }
   ],
   "source": [
    "$$async$$ = true;\n",
    "var Benchmark = require('benchmark');\n",
    "var unit = [' s', ' ms', ' microseconds', ' ns', ' ps']\n",
    "var suite = new Benchmark.Suite;\n",
    "suite.add('euler10#ObjectCreate', euler10ObjectCreate);\n",
    "suite.add('euler10#Array', euler10Array);\n",
    "suite.add('euler10#BitPacking', euler10BitPacking);\n",
    "suite.on('complete', function() {\n",
    "    var result = {};\n",
    "    this.forEach(function(r) {\n",
    "        var p = Math.ceil((Math.log(r.hz) / Math.LN10) / 3);\n",
    "        result[r.name] = 1 / r.hz * Math.pow(10, p*3) + unit[p];\n",
    "    });\n",
    "    $$done$$(result);\n",
    "});\n",
    "suite.run({'async':true});"
   ]
  }
 ],
 "metadata": {
  "kernelspec": {
   "display_name": "Javascript (Node.js)",
   "language": "javascript",
   "name": "javascript"
  },
  "language_info": {
   "file_extension": "js",
   "mimetype": "application/javascript",
   "name": "javascript",
   "version": "0.12.1"
  }
 },
 "nbformat": 4,
 "nbformat_minor": 0
}
