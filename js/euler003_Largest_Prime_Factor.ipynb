{
 "cells": [
  {
   "cell_type": "markdown",
   "metadata": {},
   "source": [
    "# Largest prime factor"
   ]
  },
  {
   "cell_type": "markdown",
   "metadata": {},
   "source": [
    "[problem 3](https://projecteuler.net/problem=3)\n",
    "> The prime factors of 13195 are 5, 7, 13 and 29.\n",
    "\n",
    "> What is the largest prime factor of the number 600851475143 ?"
   ]
  },
  {
   "cell_type": "code",
   "execution_count": 2,
   "metadata": {
    "collapsed": false
   },
   "outputs": [
    {
     "data": {
      "text/html": [
       "<pre>6857</pre>"
      ],
      "text/plain": [
       "6857"
      ]
     },
     "execution_count": 2,
     "metadata": {},
     "output_type": "execute_result"
    }
   ],
   "source": [
    "function euler3BruteForce() {\n",
    "    var n = 600851475143;\n",
    "    var factors = [];\n",
    "    var i = 2;\n",
    "    while (n > 1) {\n",
    "        if (!(n % i)) {\n",
    "            factors.push(i);\n",
    "            while (!(n % i)) {n /= i;}\n",
    "        }\n",
    "        i += 1;\n",
    "    }\n",
    "    if (n != 1) {factors.push(n);}\n",
    "    return factors[factors.length-1];\n",
    "}\n",
    "\n",
    "euler3BruteForce();"
   ]
  },
  {
   "cell_type": "code",
   "execution_count": 3,
   "metadata": {
    "collapsed": false
   },
   "outputs": [
    {
     "data": {
      "text/html": [
       "<pre>6857</pre>"
      ],
      "text/plain": [
       "6857"
      ]
     },
     "execution_count": 3,
     "metadata": {},
     "output_type": "execute_result"
    }
   ],
   "source": [
    "function euler3Odds() {\n",
    "    var n = 600851475143;\n",
    "    var factors = [];\n",
    "    var i = 2;\n",
    "    if (!(n % i)) {\n",
    "        factors.push(i);\n",
    "        while (!(n % i)) {n /= i;}        \n",
    "    }\n",
    "    i += 1;\n",
    "    while (n > 1 && i < Math.sqrt(n)) {\n",
    "        if (!(n % i)) {\n",
    "            factors.push(i);\n",
    "            while (!(n % i)) {n /= i;}\n",
    "        }\n",
    "        i += 2;\n",
    "    }\n",
    "    if (n != 1) {factors.push(n);}\n",
    "    return factors[factors.length-1];\n",
    "}\n",
    "\n",
    "euler3Odds();"
   ]
  },
  {
   "cell_type": "code",
   "execution_count": 4,
   "metadata": {
    "collapsed": false
   },
   "outputs": [
    {
     "data": {
      "text/html": [
       "<pre>6857</pre>"
      ],
      "text/plain": [
       "6857"
      ]
     },
     "execution_count": 4,
     "metadata": {},
     "output_type": "execute_result"
    }
   ],
   "source": [
    "function PossiblePrimes() {\n",
    "    var i = 1;\n",
    "    var nextIncrement = 2;\n",
    "    return {\n",
    "        next: function () {\n",
    "            if (i < 3) {i += 1;return i;}\n",
    "            if (i < 5) {i = 5;return i;}\n",
    "            i += nextIncrement;\n",
    "            nextIncrement = nextIncrement === 4 ? 2 : 4;\n",
    "            return i;\n",
    "        }\n",
    "    };\n",
    "}\n",
    "    \n",
    "function euler3PossiblePrimes() {\n",
    "    var possiblePrimes = new PossiblePrimes();\n",
    "    var n = 600851475143;\n",
    "    var factors = [];\n",
    "    var pp = possiblePrimes.next();\n",
    "    while (pp < Math.sqrt(n)) {\n",
    "        if (!(n % pp)) {\n",
    "            factors.push(pp);\n",
    "            while (!(n % pp)) {n /= pp;}              \n",
    "        }\n",
    "        pp = possiblePrimes.next();\n",
    "    }\n",
    "    if (n != 1) {factors.push(n);}\n",
    "    return factors[factors.length-1];\n",
    "}\n",
    "\n",
    "euler3PossiblePrimes();"
   ]
  },
  {
   "cell_type": "code",
   "execution_count": 5,
   "metadata": {
    "collapsed": false
   },
   "outputs": [
    {
     "data": {
      "text/html": [
       "<pre>[ 2, 3, 5, 7, 11, 13, 17, 19 ]</pre>"
      ],
      "text/plain": [
       "[ 2, 3, 5, 7, 11, 13, 17, 19 ]"
      ]
     },
     "execution_count": 5,
     "metadata": {},
     "output_type": "execute_result"
    }
   ],
   "source": [
    "function sundaram(n) {\n",
    "    if (n < 2) {return [];}\n",
    "    var nk = Math.floor((n-1)/2);\n",
    "    var ks = Object.create(null);\n",
    "    var i = 0;\n",
    "    var primes = [];\n",
    "    while (++i) {\n",
    "        var step  = 2*i+1;\n",
    "        var k = i*(step + 1);\n",
    "        if (k > nk) {break;}\n",
    "        while (k < nk+1) {\n",
    "            ks[k] = true;\n",
    "            k+=step;\n",
    "        }\n",
    "    }\n",
    "    for (var k = 0; k <= nk; k++) {\n",
    "        if (!(k in ks)) {primes.push(2*k+1);}\n",
    "    }\n",
    "    return [2].concat(primes.slice(1));\n",
    "}\n",
    "\n",
    "sundaram(20);"
   ]
  },
  {
   "cell_type": "code",
   "execution_count": 6,
   "metadata": {
    "collapsed": false
   },
   "outputs": [
    {
     "data": {
      "text/html": [
       "<pre>6857</pre>"
      ],
      "text/plain": [
       "6857"
      ]
     },
     "execution_count": 6,
     "metadata": {},
     "output_type": "execute_result"
    }
   ],
   "source": [
    "function euler3SievedPrimes() {\n",
    "    var n = 600851475143;\n",
    "    var primes = sundaram(Math.floor(Math.sqrt(n)+1));\n",
    "    var factors = [];\n",
    "    primes.every(function(p) {\n",
    "        if (p > Math.sqrt(n)) {return false;}\n",
    "        if (!(n % p)) {\n",
    "            factors.push(p);\n",
    "            while (!(n % p)) {\n",
    "                n /= p;\n",
    "            }\n",
    "        }\n",
    "        return true;\n",
    "    });\n",
    "    if (n != 1) {factors.push(n);}\n",
    "    return factors[factors.length-1];\n",
    "}\n",
    "\n",
    "euler3SievedPrimes();"
   ]
  },
  {
   "cell_type": "code",
   "execution_count": 7,
   "metadata": {
    "collapsed": false
   },
   "outputs": [
    {
     "data": {
      "text/html": [
       "<pre>6857</pre>"
      ],
      "text/plain": [
       "6857"
      ]
     },
     "execution_count": 7,
     "metadata": {},
     "output_type": "execute_result"
    }
   ],
   "source": [
    "var PRIMES = sundaram(Math.floor(Math.sqrt(600851475143)+1));\n",
    "\n",
    "function euler3CachedPrimes(primes) {\n",
    "    var n = 600851475143;\n",
    "    var factors = [];\n",
    "    primes.every(function(p) {\n",
    "        if (p > Math.sqrt(n)) {return false;}\n",
    "        if (!(n % p)) {\n",
    "            factors.push(p);\n",
    "            while (!(n % p)) {\n",
    "                n /= p;\n",
    "            }\n",
    "        }\n",
    "        return true;\n",
    "    });\n",
    "    if (n != 1) {factors.push(n);}\n",
    "    return factors[factors.length-1];\n",
    "}\n",
    "\n",
    "euler3CachedPrimes(PRIMES);"
   ]
  },
  {
   "cell_type": "markdown",
   "metadata": {},
   "source": [
    "## Benchmarks"
   ]
  },
  {
   "cell_type": "code",
   "execution_count": 11,
   "metadata": {
    "collapsed": false
   },
   "outputs": [
    {
     "data": {
      "text/html": [
       "<pre>{ euler3BruteForce: &#39;87.32023507466202 microseconds&#39;,\n",
       "  euler3Odds: &#39;10.369745153201478 microseconds&#39;,\n",
       "  euler3PossiblePrimes: &#39;11.660940783305552 microseconds&#39;,\n",
       "  euler3SievedPrimes: &#39;52.243901178571434 ms&#39;,\n",
       "  euler3CachedPrimes: &#39;21.643340382793784 microseconds&#39; }</pre>"
      ],
      "text/plain": [
       "{ euler3BruteForce: '87.32023507466202 microseconds',\n",
       "  euler3Odds: '10.369745153201478 microseconds',\n",
       "  euler3PossiblePrimes: '11.660940783305552 microseconds',\n",
       "  euler3SievedPrimes: '52.243901178571434 ms',\n",
       "  euler3CachedPrimes: '21.643340382793784 microseconds' }"
      ]
     },
     "execution_count": 11,
     "metadata": {},
     "output_type": "execute_result"
    }
   ],
   "source": [
    "$$async$$ = true;\n",
    "var Benchmark = require('benchmark');\n",
    "var unit = [' s', ' ms', ' microseconds', ' ns', ' ps']\n",
    "var suite = new Benchmark.Suite;\n",
    "suite.add('euler3BruteForce', euler3BruteForce);\n",
    "suite.add('euler3Odds', euler3Odds);\n",
    "suite.add('euler3PossiblePrimes', euler3PossiblePrimes);\n",
    "suite.add('euler3SievedPrimes', euler3SievedPrimes);\n",
    "suite.add('euler3CachedPrimes', function() {return euler3CachedPrimes(PRIMES);});\n",
    "suite.on('complete', function() {\n",
    "    var result = {};\n",
    "    this.forEach(function(r) {\n",
    "        var p = Math.ceil((Math.log(r.hz) / Math.LN10) / 3);\n",
    "        result[r.name] = 1 / r.hz * Math.pow(10, p*3) + unit[p];\n",
    "    });\n",
    "    $$done$$(result);\n",
    "});\n",
    "suite.run({'async':true});"
   ]
  }
 ],
 "metadata": {
  "kernelspec": {
   "display_name": "Javascript (Node.js)",
   "language": "javascript",
   "name": "javascript"
  },
  "language_info": {
   "file_extension": "js",
   "mimetype": "application/javascript",
   "name": "javascript",
   "version": "0.12.1"
  }
 },
 "nbformat": 4,
 "nbformat_minor": 0
}
