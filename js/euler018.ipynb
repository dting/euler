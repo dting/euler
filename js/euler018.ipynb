{
 "cells": [
  {
   "cell_type": "markdown",
   "metadata": {},
   "source": [
    "# Maximum path sum I"
   ]
  },
  {
   "cell_type": "markdown",
   "metadata": {},
   "source": [
    "[problem 18](https://projecteuler.net/problem=18)\n",
    "\n",
    ">By starting at the top of the triangle below and moving to adjacent numbers on the row below, the maximum total from top to bottom is 23.\n",
    ">\n",
    "> <div style=\"text-align:center; font-family: 'Source Code Pro', Consolas, monocco, monospace;\"><br>\n",
    "<span style=\"color:red;\">3</span><br>\n",
    "<span style=\"color:red;\">7</span> 4<br>\n",
    "2 <span style=\"color:red;\">4</span> 6<br>\n",
    "8 5 <span style=\"color:red;\">9</span> 3<br>\n",
    "</div>\n",
    "\n",
    "> That is, $3 + 7 + 4 + 9 = 23$.\n",
    "\n",
    "> Find the maximum total from top to bottom of the triangle below:\n",
    "\n",
    "> <div style=\"text-align:center; font-family: 'Source Code Pro', Consolas, monocco, monospace;\"><br>\n",
    "75<br>\n",
    "95 64<br>\n",
    "17 47 82<br>\n",
    "18 35 87 10<br>\n",
    "20 04 82 47 65<br>\n",
    "19 01 23 75 03 34<br>\n",
    "88 02 77 73 07 63 67<br>\n",
    "99 65 04 28 06 16 70 92<br>\n",
    "41 41 26 56 83 40 80 70 33<br>\n",
    "41 48 72 33 47 32 37 16 94 29<br>\n",
    "53 71 44 65 25 43 91 52 97 51 14<br>\n",
    "70 11 33 28 77 73 17 78 39 68 17 57<br>\n",
    "91 71 52 38 17 14 91 43 58 50 27 29 48<br>\n",
    "63 66 04 68 89 53 67 30 73 16 69 87 40 31<br>\n",
    "04 62 98 27 23 09 70 98 73 93 38 53 60 04 23<br>\n",
    "</div>\n",
    "\n",
    "> NOTE: As there are only 16384 routes, it is possible to solve this problem by trying every route. However, Problem 67, is the same challenge with a triangle containing one-hundred rows; it cannot be solved by brute force, and requires a clever method! ;o)"
   ]
  },
  {
   "cell_type": "code",
   "execution_count": 1,
   "metadata": {
    "collapsed": false
   },
   "outputs": [
    {
     "data": {
      "text/html": [
       "<pre>[ [ 75 ],\n",
       "  [ 95, 64 ],\n",
       "  [ 17, 47, 82 ],\n",
       "  [ 18, 35, 87, 10 ],\n",
       "  [ 20, 4, 82, 47, 65 ],\n",
       "  [ 19, 1, 23, 75, 3, 34 ],\n",
       "  [ 88, 2, 77, 73, 7, 63, 67 ],\n",
       "  [ 99, 65, 4, 28, 6, 16, 70, 92 ],\n",
       "  [ 41, 41, 26, 56, 83, 40, 80, 70, 33 ],\n",
       "  [ 41, 48, 72, 33, 47, 32, 37, 16, 94, 29 ],\n",
       "  [ 53, 71, 44, 65, 25, 43, 91, 52, 97, 51, 14 ],\n",
       "  [ 70, 11, 33, 28, 77, 73, 17, 78, 39, 68, 17, 57 ],\n",
       "  [ 91, 71, 52, 38, 17, 14, 91, 43, 58, 50, 27, 29, 48 ],\n",
       "  [ 63, 66, 4, 68, 89, 53, 67, 30, 73, 16, 69, 87, 40, 31 ],\n",
       "  [ 4, 62, 98, 27, 23, 9, 70, 98, 73, 93, 38, 53, 60, 4, 23 ] ]</pre>"
      ],
      "text/plain": [
       "[ [ 75 ],\n",
       "  [ 95, 64 ],\n",
       "  [ 17, 47, 82 ],\n",
       "  [ 18, 35, 87, 10 ],\n",
       "  [ 20, 4, 82, 47, 65 ],\n",
       "  [ 19, 1, 23, 75, 3, 34 ],\n",
       "  [ 88, 2, 77, 73, 7, 63, 67 ],\n",
       "  [ 99, 65, 4, 28, 6, 16, 70, 92 ],\n",
       "  [ 41, 41, 26, 56, 83, 40, 80, 70, 33 ],\n",
       "  [ 41, 48, 72, 33, 47, 32, 37, 16, 94, 29 ],\n",
       "  [ 53, 71, 44, 65, 25, 43, 91, 52, 97, 51, 14 ],\n",
       "  [ 70, 11, 33, 28, 77, 73, 17, 78, 39, 68, 17, 57 ],\n",
       "  [ 91, 71, 52, 38, 17, 14, 91, 43, 58, 50, 27, 29, 48 ],\n",
       "  [ 63, 66, 4, 68, 89, 53, 67, 30, 73, 16, 69, 87, 40, 31 ],\n",
       "  [ 4, 62, 98, 27, 23, 9, 70, 98, 73, 93, 38, 53, 60, 4, 23 ] ]"
      ]
     },
     "execution_count": 1,
     "metadata": {},
     "output_type": "execute_result"
    }
   ],
   "source": [
    "var raw = \"75\\n95 64\\n17 47 82\\n18 35 87 10\\n20 04 82 47 65\\n19 01 23 75 03 34\\n88 02 77 73 07 63 67\\n99 65 04 28 06 16 70 92\\n41 41 26 56 83 40 80 70 33\\n41 48 72 33 47 32 37 16 94 29\\n53 71 44 65 25 43 91 52 97 51 14\\n70 11 33 28 77 73 17 78 39 68 17 57\\n91 71 52 38 17 14 91 43 58 50 27 29 48\\n63 66 04 68 89 53 67 30 73 16 69 87 40 31\\n04 62 98 27 23 09 70 98 73 93 38 53 60 04 23\";\n",
    "var data = raw.split(\"\\n\").map(function(e) {\n",
    "    return e.split(' ').map(Number);\n",
    "});\n",
    "data;"
   ]
  },
  {
   "cell_type": "markdown",
   "metadata": {},
   "source": [
    "## Recursive graph dfs"
   ]
  },
  {
   "cell_type": "code",
   "execution_count": 2,
   "metadata": {
    "collapsed": false
   },
   "outputs": [
    {
     "data": {
      "text/html": [
       "<pre>1074</pre>"
      ],
      "text/plain": [
       "1074"
      ]
     },
     "execution_count": 2,
     "metadata": {},
     "output_type": "execute_result"
    }
   ],
   "source": [
    "var Euler18Recur = (function() {\n",
    "    function Recur(data) {\n",
    "        this.head = buildGraph(data);\n",
    "    }\n",
    "\n",
    "    function Node(value) {\n",
    "        this.value = value;\n",
    "        this.children = [];\n",
    "    }\n",
    "    \n",
    "    function buildGraph(data) {\n",
    "        var nodes = data.map(function(row) {\n",
    "            return row.map(function(v) {\n",
    "                return new Node(v);\n",
    "            })\n",
    "        });\n",
    "        nodes.forEach(function(row, i) {\n",
    "            if (!i) {\n",
    "                return;\n",
    "            }\n",
    "            row.forEach(function(node, j) {\n",
    "                if (j > 0) nodes[i-1][j-1].children.push(node);\n",
    "                if (j < i) nodes[i-1][j].children.push(node);\n",
    "            });\n",
    "        });\n",
    "        return nodes[0][0];\n",
    "    }\n",
    "    \n",
    "    function maxSumPath(node) {\n",
    "        if (!node) return;\n",
    "        if (!node.children.length) return node.value;\n",
    "        return node.value + Math.max.apply(null, node.children.map(maxSumPath));\n",
    "    }\n",
    "    \n",
    "    Recur.prototype.solve = function() {\n",
    "          return maxSumPath(this.head);\n",
    "    };\n",
    "    \n",
    "    return Recur;\n",
    "})();\n",
    "\n",
    "new Euler18Recur(data).solve();"
   ]
  },
  {
   "cell_type": "markdown",
   "metadata": {},
   "source": [
    "## Dynamic Programming"
   ]
  },
  {
   "cell_type": "code",
   "execution_count": 3,
   "metadata": {
    "collapsed": false
   },
   "outputs": [
    {
     "data": {
      "text/html": [
       "<pre>1074</pre>"
      ],
      "text/plain": [
       "1074"
      ]
     },
     "execution_count": 3,
     "metadata": {},
     "output_type": "execute_result"
    }
   ],
   "source": [
    "function euler18DP(data) {\n",
    "    var m = data.map(function(row) {return row.slice();});\n",
    "    m.forEach(function(row, i) {\n",
    "        if (!i) return;\n",
    "        row.forEach(function(v, j) {\n",
    "            m[i][j] += Math.max(j > 0 ? m[i-1][j-1] : 0, j < i ? m[i-1][j] : 0);\n",
    "        });\n",
    "    });\n",
    "    return Math.max.apply(null, m[m.length-1]);\n",
    "}\n",
    "\n",
    "euler18DP(data);"
   ]
  },
  {
   "cell_type": "markdown",
   "metadata": {},
   "source": [
    "## Benchmarks"
   ]
  },
  {
   "cell_type": "code",
   "execution_count": 4,
   "metadata": {
    "collapsed": false
   },
   "outputs": [
    {
     "data": {
      "text/html": [
       "<pre>{ &#39;euler18#Recursive&#39;: &#39;6.127293967320262 ms&#39;,\n",
       "  &#39;euler18#DP&#39;: &#39;17.458336881454677 microseconds&#39; }</pre>"
      ],
      "text/plain": [
       "{ 'euler18#Recursive': '6.127293967320262 ms',\n",
       "  'euler18#DP': '17.458336881454677 microseconds' }"
      ]
     },
     "execution_count": 4,
     "metadata": {},
     "output_type": "execute_result"
    }
   ],
   "source": [
    "$$async$$ = true;\n",
    "var Benchmark = require('benchmark');\n",
    "var unit = [' s', ' ms', ' microseconds', ' ns', ' ps']\n",
    "var suite = new Benchmark.Suite;\n",
    "suite.add('euler18#Recursive', function() {new Euler18Recur(data).solve();});\n",
    "suite.add('euler18#DP', euler18DP);\n",
    "suite.on('complete', function() {\n",
    "    var result = {};\n",
    "    this.forEach(function(r) {\n",
    "        var p = Math.ceil((Math.log(r.hz) / Math.LN10) / 3);\n",
    "        result[r.name] = 1 / r.hz * Math.pow(10, p*3) + unit[p];\n",
    "    });\n",
    "    $$done$$(result);\n",
    "});\n",
    "suite.run({'async':true});"
   ]
  }
 ],
 "metadata": {
  "kernelspec": {
   "display_name": "Javascript (Node.js)",
   "language": "javascript",
   "name": "javascript"
  },
  "language_info": {
   "file_extension": "js",
   "mimetype": "application/javascript",
   "name": "javascript",
   "version": "0.12.1"
  }
 },
 "nbformat": 4,
 "nbformat_minor": 0
}
