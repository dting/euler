{
 "cells": [
  {
   "cell_type": "markdown",
   "metadata": {},
   "source": [
    "# Number letter counts"
   ]
  },
  {
   "cell_type": "markdown",
   "metadata": {},
   "source": [
    "[problem 17](https://projecteuler.net/problem=17)\n",
    ">If the numbers 1 to 5 are written out in words: one, two, three, four, five, then there are $3 + 3 + 5 + 4 + 4 = 19$ letters used in total.\n",
    "\n",
    ">If all the numbers from 1 to 1000 (one thousand) inclusive were written out in words, how many letters would be used?\n",
    "\n",
    "\n",
    ">NOTE: Do not count spaces or hyphens. For example, 342 (three hundred and forty-two) contains 23 letters and 115 (one hundred and fifteen) contains 20 letters. The use of \"and\" when writing out numbers is in compliance with British usage."
   ]
  },
  {
   "cell_type": "code",
   "execution_count": 1,
   "metadata": {
    "collapsed": false
   },
   "outputs": [
    {
     "data": {
      "text/html": [
       "<pre>21124</pre>"
      ],
      "text/plain": [
       "21124"
      ]
     },
     "execution_count": 1,
     "metadata": {},
     "output_type": "execute_result"
    }
   ],
   "source": [
    "var Euler17 = (function() { \n",
    "    var unit = ['', 'One', 'Two', 'Three', 'Four', 'Five', 'Six', 'Seven', 'Eight', 'Nine'];\n",
    "    var teen = ['Ten', 'Eleven', 'Twelve', 'Thirteen', 'Fourteen', 'Fifteen', 'Sixteen', 'Seventeen', 'Eighteen', 'Nineteen'];\n",
    "    var ten = ['', '', 'Twenty', 'Thirty', 'Forty', 'Fifty', 'Sixty', 'Seventy', 'Eighty', 'Ninety'];\n",
    "    \n",
    "    function Euler17() {\n",
    "    }\n",
    "    \n",
    "    function toWords(n) {\n",
    "        if (n === 1000) {return \"One Thousand\";}\n",
    "        var h = ~~(n / 100)\n",
    "        var to = n % 100\n",
    "        return [hundreds(h), tensOnes(to)]\n",
    "            .filter(function(e) {return e;})\n",
    "            .join(\" and \");\n",
    "    }\n",
    "    \n",
    "    function hundreds(h) {\n",
    "        return h ? unit[h] + \" Hundred\" : undefined;\n",
    "    }\n",
    "    \n",
    "    function tensOnes(to) {\n",
    "        if (to === 0) {return undefined;}\n",
    "        if (to < 10) {return unit[to];}            \n",
    "        if (to < 20) {return teen[to - 10];}\n",
    "        return [ten[~~(to/10)], unit[to%10]]\n",
    "            .filter(function(e) {return e;})\n",
    "            .join(\" \");\n",
    "    }\n",
    "    \n",
    "    function letterCount(n) {\n",
    "        return toWords(n).replace(/[^A-Za-z]/gi, \"\").length;\n",
    "    }\n",
    "    \n",
    "    Euler17.prototype.solve = function() {\n",
    "        var sum = 0;\n",
    "        for (var i = 1; i < 1001; i++) {\n",
    "            sum += letterCount(i);\n",
    "        }\n",
    "        return sum;\n",
    "    }\n",
    "    \n",
    "    return Euler17;\n",
    "})();\n",
    "        \n",
    "new Euler17().solve();"
   ]
  },
  {
   "cell_type": "markdown",
   "metadata": {},
   "source": [
    "## Benchmarks"
   ]
  },
  {
   "cell_type": "code",
   "execution_count": 2,
   "metadata": {
    "collapsed": false
   },
   "outputs": [
    {
     "data": {
      "text/html": [
       "<pre>{ euler17: &#39;1.5212219627405406 ms&#39; }</pre>"
      ],
      "text/plain": [
       "{ euler17: '1.5212219627405406 ms' }"
      ]
     },
     "execution_count": 2,
     "metadata": {},
     "output_type": "execute_result"
    }
   ],
   "source": [
    "$$async$$ = true;\n",
    "var Benchmark = require('benchmark');\n",
    "var unit = [' s', ' ms', ' microseconds', ' ns', ' ps']\n",
    "var suite = new Benchmark.Suite;\n",
    "suite.add('euler17', function() {new Euler17().solve();});\n",
    "suite.on('complete', function() {\n",
    "    var result = {};\n",
    "    this.forEach(function(r) {\n",
    "        var p = Math.ceil((Math.log(r.hz) / Math.LN10) / 3);\n",
    "        result[r.name] = 1 / r.hz * Math.pow(10, p*3) + unit[p];\n",
    "    });\n",
    "    $$done$$(result);\n",
    "});\n",
    "suite.run({'async':true});"
   ]
  }
 ],
 "metadata": {
  "kernelspec": {
   "display_name": "Javascript (Node.js)",
   "language": "javascript",
   "name": "javascript"
  },
  "language_info": {
   "file_extension": "js",
   "mimetype": "application/javascript",
   "name": "javascript",
   "version": "0.12.1"
  }
 },
 "nbformat": 4,
 "nbformat_minor": 0
}
