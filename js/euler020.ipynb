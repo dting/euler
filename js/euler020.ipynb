{
 "cells": [
  {
   "cell_type": "markdown",
   "metadata": {},
   "source": [
    "# Factorial digit sum"
   ]
  },
  {
   "cell_type": "markdown",
   "metadata": {},
   "source": [
    "> $n!$ means $n \\times (n − 1) \\times \\dotsm \\times 3 \\times 2 \\times 1$\n",
    ">\n",
    "> For example, $10! = 10 \\times 9 \\times \\dotsm \\times 3 \\times 2 \\times 1 = 3628800$\n",
    "and the sum of the digits in the number $10!$ is $3 + 6 + 2 + 8 + 8 + 0 + 0 = 27$\n",
    ">\n",
    "> Find the sum of the digits in the number $100!$"
   ]
  },
  {
   "cell_type": "code",
   "execution_count": 7,
   "metadata": {
    "collapsed": false
   },
   "outputs": [
    {
     "data": {
      "text/html": [
       "<pre>648</pre>"
      ],
      "text/plain": [
       "648"
      ]
     },
     "execution_count": 7,
     "metadata": {},
     "output_type": "execute_result"
    }
   ],
   "source": [
    "var Factorial = (function() {    \n",
    "    function Factorial(n) {\n",
    "        this.digits = [1];\n",
    "        for (var i = 1; i <= n; i++) {\n",
    "            this.times(i);\n",
    "        }\n",
    "    }\n",
    "    \n",
    "    Factorial.prototype.times = function(n) {\n",
    "        var carry = 0;\n",
    "        for (var i = 0; i < this.digits.length; i++) {\n",
    "            this.digits[i] *= n;\n",
    "            this.digits[i] += carry;\n",
    "            carry = ~~(this.digits[i]/10);\n",
    "            this.digits[i] %= 10;\n",
    "        }\n",
    "        if (carry) {\n",
    "            [].push.apply(this.digits, (\"\"+carry).split(\"\").map(Number).reverse());\n",
    "        }\n",
    "    }\n",
    "    \n",
    "    Factorial.prototype.sumDigits = function() {\n",
    "        return this.digits.reduce(function(a, b) {return a+b;});\n",
    "    };\n",
    "    \n",
    "    Factorial.prototype.digitsArray = function() {\n",
    "        return this.digits.slice().reverse();\n",
    "    };\n",
    "    \n",
    "    return Factorial;\n",
    "})();\n",
    "\n",
    "function euler20() {\n",
    "    return new Factorial(100).sumDigits();\n",
    "}\n",
    "\n",
    "euler20();"
   ]
  },
  {
   "cell_type": "code",
   "execution_count": 8,
   "metadata": {
    "collapsed": false
   },
   "outputs": [
    {
     "data": {
      "text/html": [
       "<pre>648</pre>"
      ],
      "text/plain": [
       "648"
      ]
     },
     "execution_count": 8,
     "metadata": {},
     "output_type": "execute_result"
    }
   ],
   "source": [
    "var BigNumber = require('bignumber.js');\n",
    "BigNumber.config({ EXPONENTIAL_AT: 1e+9 })\n",
    "\n",
    "var euler20BigNumber = (function() {\n",
    "    function solve() {        \n",
    "        var fact100 = new BigNumber(1)\n",
    "        for (var i = 1; i < 100; i++) {\n",
    "            fact100 = fact100.times(i);\n",
    "        }\n",
    "        return fact100.toString().split(\"\").reduce(function(a,b) {return +a + +b;});\n",
    "    }\n",
    "        \n",
    "    return {\n",
    "        solve: solve\n",
    "    };\n",
    "})();\n",
    "\n",
    "euler20BigNumber.solve();"
   ]
  },
  {
   "cell_type": "markdown",
   "metadata": {},
   "source": [
    "[From Wolfram Alpha](http://www.wolframalpha.com/input/?i=100%21)"
   ]
  },
  {
   "cell_type": "code",
   "execution_count": 9,
   "metadata": {
    "collapsed": false
   },
   "outputs": [
    {
     "data": {
      "text/html": [
       "<pre>undefined</pre>"
      ],
      "text/plain": [
       "undefined"
      ]
     },
     "execution_count": 9,
     "metadata": {},
     "output_type": "execute_result"
    }
   ],
   "source": [
    "var fact100 = \"93326215443944152681699238856266700490715968264381621468592963895217599993229915608941463976156518286253697920827223758251185210916864000000000000000000000000\""
   ]
  },
  {
   "cell_type": "code",
   "execution_count": 10,
   "metadata": {
    "collapsed": false
   },
   "outputs": [
    {
     "data": {
      "text/html": [
       "<pre>648</pre>"
      ],
      "text/plain": [
       "648"
      ]
     },
     "execution_count": 10,
     "metadata": {},
     "output_type": "execute_result"
    }
   ],
   "source": [
    "var euler20Lookup = (function() {\n",
    "    function solve() {        \n",
    "        return fact100.split(\"\").reduce(function(a,b) {return +a + +b;});\n",
    "    }\n",
    "        \n",
    "    return {\n",
    "        solve: solve\n",
    "    };\n",
    "})();\n",
    "\n",
    "euler20Lookup.solve();"
   ]
  },
  {
   "cell_type": "markdown",
   "metadata": {},
   "source": [
    "## Benchmarks"
   ]
  },
  {
   "cell_type": "code",
   "execution_count": null,
   "metadata": {
    "collapsed": false
   },
   "outputs": [],
   "source": [
    "$$async$$ = true;\n",
    "var Benchmark = require('benchmark');\n",
    "var unit = [' s', ' ms', ' microseconds', ' ns', ' ps']\n",
    "var suite = new Benchmark.Suite;\n",
    "suite.add('euler20', euler20);\n",
    "suite.add('euler20BigNumber', function() {euler20BigNumber.solve();});\n",
    "suite.add('euler20Lookup', function() {euler20Lookup.solve();});\n",
    "suite.on('complete', function() {\n",
    "    var result = {};\n",
    "    this.forEach(function(r) {\n",
    "        var p = Math.ceil((Math.log(r.hz) / Math.LN10) / 3);\n",
    "        result[r.name] = 1 / r.hz * Math.pow(10, p*3) + unit[p];\n",
    "    });\n",
    "    $$done$$(result);\n",
    "});\n",
    "suite.run({'async':true});"
   ]
  }
 ],
 "metadata": {
  "kernelspec": {
   "display_name": "Javascript (Node.js)",
   "language": "javascript",
   "name": "javascript"
  },
  "language_info": {
   "file_extension": "js",
   "mimetype": "application/javascript",
   "name": "javascript",
   "version": "0.12.1"
  }
 },
 "nbformat": 4,
 "nbformat_minor": 0
}
