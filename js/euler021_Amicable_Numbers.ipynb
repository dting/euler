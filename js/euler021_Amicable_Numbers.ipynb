{
 "cells": [
  {
   "cell_type": "markdown",
   "metadata": {},
   "source": [
    "# Amicable numbers"
   ]
  },
  {
   "cell_type": "markdown",
   "metadata": {},
   "source": [
    "[problem 21](https://projecteuler.net/problem=21)\n",
    "> Let $d(n)$ be defined as the sum of proper divisors of $n$ (numbers less than n which divide evenly into $n$).\n",
    "If $d(a) = b$ and $d(b) = a$, where $a \\neq b$, then a and b are an amicable pair and each of a and b are called amicable numbers.\n",
    ">\n",
    "> For example, the proper divisors of $220$ are $1, 2, 4, 5, 10, 11, 20, 22, 44, 55, 110$ therefore $d(220) = 284$ \n",
    "> The proper divisors of $284$ are $1, 2, 4, 71, 142$ so $d(284) = 220$\n",
    ">\n",
    ">Evaluate the sum of all the amicable numbers under $10000$."
   ]
  },
  {
   "cell_type": "code",
   "execution_count": 1,
   "metadata": {
    "collapsed": false
   },
   "outputs": [
    {
     "data": {
      "text/html": [
       "<pre>31626</pre>"
      ],
      "text/plain": [
       "31626"
      ]
     },
     "execution_count": 1,
     "metadata": {},
     "output_type": "execute_result"
    }
   ],
   "source": [
    "function euler21PrimeFactorization() {\n",
    "    \n",
    "    var dCache = Object.create(null);\n",
    "    var primes;\n",
    "    \n",
    "    function amicable(n) {\n",
    "        primes = eratosthenes(n);    \n",
    "        var sum = 0;\n",
    "        for (var i = 220; i < n; i++) {\n",
    "            if (d(i) != i && d(d(i)) == i) {\n",
    "                sum += i;\n",
    "            }\n",
    "        }\n",
    "        return sum;\n",
    "    }\n",
    "    \n",
    "    function eratosthenes(n) {\n",
    "        var prms = [];\n",
    "        var limit = n-1;\n",
    "        if (limit > 2) {\n",
    "            var sqrtlmt = (Math.sqrt(limit) - 3) >> 1;\n",
    "            var lmt = (limit - 3) >> 1;\n",
    "            var bfsz = (lmt >> 5) + 1\n",
    "            var buf = [];\n",
    "            for (var i = 0; i < bfsz; i++)\n",
    "                buf.push(0);\n",
    "            for (var i = 0; i <= sqrtlmt; i++)\n",
    "                if ((buf[i >> 5] & (1 << (i & 31))) == 0) {\n",
    "                    var p = i + i + 3;\n",
    "                    for (var j = (p * p - 3) >> 1; j <= lmt; j += p)\n",
    "                        buf[j >> 5] |= 1 << (j & 31);\n",
    "                }\n",
    "            prms.push(2)\n",
    "            for (var i = 0; i <= lmt; i++)\n",
    "                if ((buf[i >> 5] & (1 << (i & 31))) == 0)\n",
    "                    prms.push(i + i + 3);\n",
    "        }\n",
    "        return prms;\n",
    "    }\n",
    "    \n",
    "    function primeFactors(n) {\n",
    "        var factors = Object.create(null);\n",
    "        for (var i = 0, p = primes[0]; p*p <= n; p=primes[++i]) {\n",
    "            var power = 0;\n",
    "            while (!(n % p)) {\n",
    "                power++;\n",
    "                n /= p;\n",
    "            }\n",
    "            if (power > 0) factors[p] = power;\n",
    "        }\n",
    "        if (n !== 1) factors[n] = 1;\n",
    "        return factors;\n",
    "    }\n",
    "    \n",
    "    function d(n) {\n",
    "        if (!(n in dCache)) {\n",
    "            var factors = primeFactors(n);\n",
    "            dCache[n] = -n + Object.keys(factors)\n",
    "                .map(function(key) {\n",
    "                    var sum = 0;\n",
    "                    var prime = +key;\n",
    "                    for (var i = 0; i <= factors[key]; i++) {\n",
    "                        sum += Math.pow(prime, i);\n",
    "                    }\n",
    "                    return sum;\n",
    "                }).reduce(function(a, b) {\n",
    "                    return a*b;\n",
    "                }, 1);\n",
    "        }\n",
    "        return dCache[n];\n",
    "    }\n",
    "    \n",
    "    return amicable(10000);\n",
    "}\n",
    "\n",
    "euler21PrimeFactorization();"
   ]
  },
  {
   "cell_type": "code",
   "execution_count": 2,
   "metadata": {
    "collapsed": false
   },
   "outputs": [
    {
     "data": {
      "text/html": [
       "<pre>31626</pre>"
      ],
      "text/plain": [
       "31626"
      ]
     },
     "execution_count": 2,
     "metadata": {},
     "output_type": "execute_result"
    }
   ],
   "source": [
    "function euler21SumDivisorSieve() {\n",
    "    \n",
    "    function sumDivisors(n) {\n",
    "        var sumDivs = Array.apply(null, Array(n)).map(function() {\n",
    "            return 0;\n",
    "        });\n",
    "        for (var i = 1; i < n/2; i++) {\n",
    "            for (var j = i+i; j < n; j+=i) {\n",
    "                sumDivs[j] += i;\n",
    "            }\n",
    "        }\n",
    "        return sumDivs;\n",
    "    }\n",
    "    \n",
    "    var sumDivs = sumDivisors(25321);\n",
    "    var sum = 0;\n",
    "    for (var i = 220; i < 10000; i++) {\n",
    "        if (sumDivs[i] != i && sumDivs[sumDivs[i]] == i) {\n",
    "            sum += i;\n",
    "        }\n",
    "    }\n",
    "    return sum;\n",
    "}\n",
    "\n",
    "euler21SumDivisorSieve();"
   ]
  },
  {
   "cell_type": "markdown",
   "metadata": {},
   "source": [
    "## Benchmarks"
   ]
  },
  {
   "cell_type": "code",
   "execution_count": 3,
   "metadata": {
    "collapsed": false
   },
   "outputs": [
    {
     "data": {
      "text/html": [
       "<pre>{ &#39;euler21#PrimeFactorization&#39;: &#39;55.5312495882353 ms&#39;,\n",
       "  &#39;euler21#SumDivisorSieve&#39;: &#39;4.918014784922394 ms&#39; }</pre>"
      ],
      "text/plain": [
       "{ 'euler21#PrimeFactorization': '55.5312495882353 ms',\n",
       "  'euler21#SumDivisorSieve': '4.918014784922394 ms' }"
      ]
     },
     "execution_count": 3,
     "metadata": {},
     "output_type": "execute_result"
    }
   ],
   "source": [
    "$$async$$ = true;\n",
    "var Benchmark = require('benchmark');\n",
    "var unit = [' s', ' ms', ' microseconds', ' ns', ' ps']\n",
    "var suite = new Benchmark.Suite;\n",
    "suite.add('euler21#PrimeFactorization', euler21PrimeFactorization);\n",
    "suite.add('euler21#SumDivisorSieve', euler21SumDivisorSieve);\n",
    "suite.on('complete', function() {\n",
    "    var result = {};\n",
    "    this.forEach(function(r) {\n",
    "        var p = Math.ceil((Math.log(r.hz) / Math.LN10) / 3);\n",
    "        result[r.name] = 1 / r.hz * Math.pow(10, p*3) + unit[p];\n",
    "    });\n",
    "    $$done$$(result);\n",
    "});\n",
    "suite.run({'async':true});"
   ]
  }
 ],
 "metadata": {
  "kernelspec": {
   "display_name": "Javascript (Node.js)",
   "language": "javascript",
   "name": "javascript"
  },
  "language_info": {
   "file_extension": "js",
   "mimetype": "application/javascript",
   "name": "javascript",
   "version": "0.12.1"
  }
 },
 "nbformat": 4,
 "nbformat_minor": 0
}
