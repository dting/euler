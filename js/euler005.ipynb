{
 "cells": [
  {
   "cell_type": "markdown",
   "metadata": {},
   "source": [
    "# Smallest multiple"
   ]
  },
  {
   "cell_type": "markdown",
   "metadata": {},
   "source": [
    "[problem 5](https://projecteuler.net/problem=5)\n",
    "\n",
    "> 2520 is the smallest number that can be divided by each of the numbers from 1 to 10 without any remainder.\n",
    "\n",
    "> What is the smallest positive number that is evenly divisible by all of the numbers from 1 to 20?"
   ]
  },
  {
   "cell_type": "markdown",
   "metadata": {},
   "source": [
    "http://www.cut-the-knot.org/arithmetic/GcdLcmProperties.shtml\n",
    "\n",
    "    For integers N1, ..., Nk, k ≥ 2,\n",
    "\n",
    "    lcm(gcd(N1, M), gcd(N2, M), ..., gcd(Nk, M)) = gcd(lcm(N1, ..., Nk), M)\n",
    "    gcd(lcm(N1, M), lcm(N2, M), ..., lcm(Nk, M)) = lcm(gcd(N1, ..., Nk), M)."
   ]
  },
  {
   "cell_type": "code",
   "execution_count": 1,
   "metadata": {
    "collapsed": false
   },
   "outputs": [
    {
     "data": {
      "text/html": [
       "<pre>232792560</pre>"
      ],
      "text/plain": [
       "232792560"
      ]
     },
     "execution_count": 1,
     "metadata": {},
     "output_type": "execute_result"
    }
   ],
   "source": [
    "function gcd(a, b) {\n",
    "    while (b != 0) {\n",
    "        a = [b, b = a % b][0];\n",
    "    }\n",
    "    return a;\n",
    "}\n",
    "\n",
    "function lcm(a, b) {\n",
    "    return (a * b) / gcd(a, b);\n",
    "}\n",
    "\n",
    "function euler5() {\n",
    "    var range = Array.apply(null, Array(20)).map(function(_, i) {return i+1;});\n",
    "    return range.reduce(lcm);\n",
    "}\n",
    "\n",
    "euler5();"
   ]
  }
 ],
 "metadata": {
  "kernelspec": {
   "display_name": "Javascript (Node.js)",
   "language": "javascript",
   "name": "javascript"
  },
  "language_info": {
   "file_extension": "js",
   "mimetype": "application/javascript",
   "name": "javascript",
   "version": "0.12.1"
  }
 },
 "nbformat": 4,
 "nbformat_minor": 0
}
