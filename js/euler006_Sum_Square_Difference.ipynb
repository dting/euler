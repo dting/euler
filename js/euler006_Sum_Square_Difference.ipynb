{
 "cells": [
  {
   "cell_type": "markdown",
   "metadata": {},
   "source": [
    "# Sum square difference"
   ]
  },
  {
   "cell_type": "markdown",
   "metadata": {},
   "source": [
    "[problem 6](https://projecteuler.net/problem=6)\n",
    "\n",
    "> The sum of the squares of the first ten natural numbers is,\n",
    "\n",
    "> $$1^2 + 2^2 + ... + 10^2 = 385$$\n",
    "\n",
    "> The square of the sum of the first ten natural numbers is,\n",
    "\n",
    "> $$(1 + 2 + ... + 10)^2 = 55^2 = 3025$$\n",
    "\n",
    "> Hence the difference between the sum of the squares of the first ten natural numbers and the square of the sum is $3025 − 385 = 2640$.\n",
    "\n",
    "> Find the difference between the sum of the squares of the first one hundred natural numbers and the square of the sum."
   ]
  },
  {
   "cell_type": "code",
   "execution_count": 1,
   "metadata": {
    "collapsed": false
   },
   "outputs": [],
   "source": [
    "function range(n) {\n",
    "    return Array.apply(null, Array(n)).map(function(_, i) {return i+1;});\n",
    "}"
   ]
  },
  {
   "cell_type": "code",
   "execution_count": 2,
   "metadata": {
    "collapsed": false
   },
   "outputs": [
    {
     "name": "stdout",
     "output_type": "stream",
     "text": [
      "25164150\n"
     ]
    }
   ],
   "source": [
    "function square(n) {\n",
    "    return n*n;\n",
    "}\n",
    "\n",
    "function sum(a, b) {\n",
    "    return a+b;\n",
    "}\n",
    "\n",
    "function sumSquares(n) {\n",
    "    return range(n).map(square).reduce(sum, 0);   \n",
    "}\n",
    "\n",
    "function squareSums(n) {\n",
    "    return square(range(n).reduce(sum, 0));   \n",
    "}\n",
    "\n",
    "function euler6BruteForce() {\n",
    "    return Math.abs(sumSquares(100) - squareSums(100));\n",
    "}\n",
    "\n",
    "console.log(euler6BruteForce());"
   ]
  },
  {
   "cell_type": "markdown",
   "metadata": {},
   "source": [
    "##### Sum of squares\n",
    "\n",
    "$$\\sum_{i=1}^n i^2 = \\frac{(n^2+n)(2n+1)}{6}$$\n",
    "\n",
    "##### Square of sums\n",
    "\n",
    "$$\\left(\\sum_{i=1}^n a_i\\right)^2 = \\left(\\left(\\frac{n}{2}\\right)(a_1+a_n)\\right)^2$$"
   ]
  },
  {
   "cell_type": "code",
   "execution_count": 3,
   "metadata": {
    "collapsed": false
   },
   "outputs": [
    {
     "name": "stdout",
     "output_type": "stream",
     "text": [
      "25164150\n"
     ]
    }
   ],
   "source": [
    "function sumSquaresMath(n) {\n",
    "    return (square(n) + n) * (2 * n + 1) / 6;\n",
    "}\n",
    "\n",
    "function squareSumsMath(n) {\n",
    "    return square(n * (n + 1) / 2);\n",
    "}\n",
    "\n",
    "function euler6Math() {\n",
    "    return Math.abs(sumSquaresMath(100) - squareSumsMath(100));\n",
    "}\n",
    "\n",
    "console.log(euler6Math());"
   ]
  },
  {
   "cell_type": "markdown",
   "metadata": {},
   "source": [
    "## Benchmarks"
   ]
  },
  {
   "cell_type": "code",
   "execution_count": 4,
   "metadata": {
    "collapsed": false
   },
   "outputs": [
    {
     "data": {
      "text/html": [
       "<pre>{ euler6BruteForce: &#39;53.172484544421366 microseconds&#39;,\n",
       "  euler6Math: &#39;11.46531256564164 ns&#39; }</pre>"
      ],
      "text/plain": [
       "{ euler6BruteForce: '53.172484544421366 microseconds',\n",
       "  euler6Math: '11.46531256564164 ns' }"
      ]
     },
     "execution_count": 4,
     "metadata": {},
     "output_type": "execute_result"
    }
   ],
   "source": [
    "$$async$$ = true;\n",
    "var Benchmark = require('benchmark');\n",
    "var unit = [' s', ' ms', ' microseconds', ' ns', ' ps']\n",
    "var suite = new Benchmark.Suite;\n",
    "suite.add('euler6BruteForce', euler6BruteForce);\n",
    "suite.add('euler6Math', euler6Math);\n",
    "suite.on('complete', function() {\n",
    "    var result = {};\n",
    "    this.forEach(function(r) {\n",
    "        var p = Math.ceil((Math.log(r.hz) / Math.LN10) / 3);\n",
    "        result[r.name] = 1 / r.hz * Math.pow(10, p*3) + unit[p];\n",
    "    });\n",
    "    $$done$$(result);\n",
    "});\n",
    "suite.run({'async':true});"
   ]
  }
 ],
 "metadata": {
  "kernelspec": {
   "display_name": "Javascript (Node.js)",
   "language": "javascript",
   "name": "javascript"
  },
  "language_info": {
   "file_extension": "js",
   "mimetype": "application/javascript",
   "name": "javascript",
   "version": "0.12.1"
  }
 },
 "nbformat": 4,
 "nbformat_minor": 0
}
