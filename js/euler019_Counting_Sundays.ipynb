{
 "cells": [
  {
   "cell_type": "markdown",
   "metadata": {},
   "source": [
    "# Counting Sundays"
   ]
  },
  {
   "cell_type": "markdown",
   "metadata": {},
   "source": [
    "> You are given the following information, but you may prefer to do some research for yourself.\n",
    "\n",
    "> - 1 Jan 1900 was a Monday.\n",
    "> - Thirty days has September,\n",
    "> - April, June and November.\n",
    "> - All the rest have thirty-one,\n",
    "> - Saving February alone,\n",
    "> - Which has twenty-eight, rain or shine.\n",
    "> - And on leap years, twenty-nine.\n",
    "> - A leap year occurs on any year evenly divisible by 4, but not on a century unless it is divisible by 400.\n",
    "\n",
    "> How many Sundays fell on the first of the month during the twentieth century (1 Jan 1901 to 31 Dec 2000)?"
   ]
  },
  {
   "cell_type": "code",
   "execution_count": 1,
   "metadata": {
    "collapsed": false
   },
   "outputs": [
    {
     "data": {
      "text/html": [
       "<pre>171</pre>"
      ],
      "text/plain": [
       "171"
      ]
     },
     "execution_count": 1,
     "metadata": {},
     "output_type": "execute_result"
    }
   ],
   "source": [
    "function countSundays(date1, date2) {\n",
    "    if (date1.getDate() != 1) {\n",
    "        date1.setMonth(date1.getMonth()+1, 1)\n",
    "        date1.setHours(0, 0, 0, 0);\n",
    "    }\n",
    "    var sundays = 0;\n",
    "    while (date1 <= date2) {\n",
    "        if (date1.getDay() === 0) {\n",
    "            sundays++;\n",
    "        }\n",
    "        date1.setMonth(date1.getMonth()+1, 1);\n",
    "    }\n",
    "    return sundays;\n",
    "}\n",
    "\n",
    "function euler19() {\n",
    "    return countSundays(new Date(1901, 0, 1), new Date(2000, 11, 31));\n",
    "}\n",
    "\n",
    "euler19();"
   ]
  },
  {
   "cell_type": "markdown",
   "metadata": {},
   "source": [
    "## Benchmarks"
   ]
  },
  {
   "cell_type": "code",
   "execution_count": 2,
   "metadata": {
    "collapsed": false
   },
   "outputs": [
    {
     "data": {
      "text/html": [
       "<pre>{ euler19: &#39;1.6857479275412082 ms&#39; }</pre>"
      ],
      "text/plain": [
       "{ euler19: '1.6857479275412082 ms' }"
      ]
     },
     "execution_count": 2,
     "metadata": {},
     "output_type": "execute_result"
    }
   ],
   "source": [
    "$$async$$ = true;\n",
    "var Benchmark = require('benchmark');\n",
    "var unit = [' s', ' ms', ' microseconds', ' ns', ' ps']\n",
    "var suite = new Benchmark.Suite;\n",
    "suite.add('euler19', euler19);\n",
    "suite.on('complete', function() {\n",
    "    var result = {};\n",
    "    this.forEach(function(r) {\n",
    "        var p = Math.ceil((Math.log(r.hz) / Math.LN10) / 3);\n",
    "        result[r.name] = 1 / r.hz * Math.pow(10, p*3) + unit[p];\n",
    "    });\n",
    "    $$done$$(result);\n",
    "});\n",
    "suite.run({'async':true});"
   ]
  }
 ],
 "metadata": {
  "kernelspec": {
   "display_name": "Javascript (Node.js)",
   "language": "javascript",
   "name": "javascript"
  },
  "language_info": {
   "file_extension": "js",
   "mimetype": "application/javascript",
   "name": "javascript",
   "version": "0.12.1"
  }
 },
 "nbformat": 4,
 "nbformat_minor": 0
}
