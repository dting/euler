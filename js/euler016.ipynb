{
 "cells": [
  {
   "cell_type": "markdown",
   "metadata": {},
   "source": [
    "# Power digit sum"
   ]
  },
  {
   "cell_type": "markdown",
   "metadata": {},
   "source": [
    "[problem 16](https://projecteuler.net/problem=16)\n",
    "> $2^{15} = 32768$ and the sum of its digits is $3 + 2 + 7 + 6 + 8 = 26$.\n",
    "\n",
    "> What is the sum of the digits of the number $2^{1000}$?"
   ]
  },
  {
   "cell_type": "code",
   "execution_count": 1,
   "metadata": {
    "collapsed": false
   },
   "outputs": [
    {
     "data": {
      "text/html": [
       "<pre>1366</pre>"
      ],
      "text/plain": [
       "1366"
      ]
     },
     "execution_count": 1,
     "metadata": {},
     "output_type": "execute_result"
    }
   ],
   "source": [
    "var TwoPow = (function() {    \n",
    "    function TwoPow(n) {\n",
    "        this.digits = [1];\n",
    "        this.pow = 0;\n",
    "        while (n--) {\n",
    "            this.double();\n",
    "        }\n",
    "    }\n",
    "    \n",
    "    TwoPow.prototype.double = function() {\n",
    "        var carry = 0;\n",
    "        for (var i = 0; i < this.digits.length; i++) {\n",
    "            this.digits[i] *= 2;\n",
    "            this.digits[i] += carry;\n",
    "            carry = ~~(this.digits[i]/10);\n",
    "            this.digits[i] %= 10;\n",
    "        }\n",
    "        if (carry) {\n",
    "            this.digits.push(carry)\n",
    "        }\n",
    "        this.pow++;\n",
    "    }\n",
    "    \n",
    "    TwoPow.prototype.sumDigits = function() {\n",
    "        return this.digits.reduce(function(a, b) {return a+b;});\n",
    "    };\n",
    "    \n",
    "    TwoPow.prototype.digitsArray = function() {\n",
    "        return this.digits.slice().reverse();\n",
    "    };\n",
    "    \n",
    "    return TwoPow;\n",
    "})();\n",
    "\n",
    "function euler16() {\n",
    "    return new TwoPow(1000).sumDigits();\n",
    "}\n",
    "\n",
    "euler16();"
   ]
  },
  {
   "cell_type": "code",
   "execution_count": 2,
   "metadata": {
    "collapsed": false
   },
   "outputs": [
    {
     "name": "stdout",
     "output_type": "stream",
     "text": [
      "0 [ 1 ] [ 1 ]\n",
      "1 [ 2 ] [ 2 ]\n",
      "2 [ 4 ] [ 4 ]\n",
      "3 [ 8 ] [ 8 ]\n",
      "4 [ 1, 6 ] [ 1, 6 ]\n",
      "5 [ 3, 2 ] [ 3, 2 ]\n",
      "6 [ 6, 4 ] [ 6, 4 ]\n",
      "7 [ 1, 2, 8 ] [ 1, 2, 8 ]\n",
      "8 [ 2, 5, 6 ] [ 2, 5, 6 ]\n",
      "9 [ 5, 1, 2 ] [ 5, 1, 2 ]\n"
     ]
    },
    {
     "data": {
      "text/html": [
       "<pre>&#39;10715086071862673209484250490600018105614048117055336074437503883703510511249361224931983788156958581275946729175531468251871452856923140435984577574698574803934567774824230985421074605062371141877954182153046474983581941267398767559165543946077062914571196477686542167660429831652624386837205668069376&#39;</pre>"
      ],
      "text/plain": [
       "'10715086071862673209484250490600018105614048117055336074437503883703510511249361224931983788156958581275946729175531468251871452856923140435984577574698574803934567774824230985421074605062371141877954182153046474983581941267398767559165543946077062914571196477686542167660429831652624386837205668069376'"
      ]
     },
     "execution_count": 2,
     "metadata": {},
     "output_type": "execute_result"
    }
   ],
   "source": [
    "var t = new TwoPow();\n",
    "\n",
    "for (var i = 0; i < 10; i++) {\n",
    "    console.log(t.pow, t.digitsArray(), new TwoPow(i).digitsArray());\n",
    "    t.double();\n",
    "}\n",
    "\n",
    "new TwoPow(1000).digitsArray().join('');"
   ]
  },
  {
   "cell_type": "markdown",
   "metadata": {},
   "source": [
    "## Benchmarks"
   ]
  },
  {
   "cell_type": "code",
   "execution_count": 3,
   "metadata": {
    "collapsed": false
   },
   "outputs": [
    {
     "data": {
      "text/html": [
       "<pre>{ euler16: &#39;1.3208671673157364 ms&#39; }</pre>"
      ],
      "text/plain": [
       "{ euler16: '1.3208671673157364 ms' }"
      ]
     },
     "execution_count": 3,
     "metadata": {},
     "output_type": "execute_result"
    }
   ],
   "source": [
    "$$async$$ = true;\n",
    "var Benchmark = require('benchmark');\n",
    "var unit = [' s', ' ms', ' microseconds', ' ns', ' ps']\n",
    "var suite = new Benchmark.Suite;\n",
    "suite.add('euler16', euler16);\n",
    "suite.on('complete', function() {\n",
    "    var result = {};\n",
    "    this.forEach(function(r) {\n",
    "        var p = Math.ceil((Math.log(r.hz) / Math.LN10) / 3);\n",
    "        result[r.name] = 1 / r.hz * Math.pow(10, p*3) + unit[p];\n",
    "    });\n",
    "    $$done$$(result);\n",
    "});\n",
    "suite.run({'async':true});"
   ]
  }
 ],
 "metadata": {
  "kernelspec": {
   "display_name": "Javascript (Node.js)",
   "language": "javascript",
   "name": "javascript"
  },
  "language_info": {
   "file_extension": "js",
   "mimetype": "application/javascript",
   "name": "javascript",
   "version": "0.12.1"
  }
 },
 "nbformat": 4,
 "nbformat_minor": 0
}
