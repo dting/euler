{
 "cells": [
  {
   "cell_type": "markdown",
   "metadata": {},
   "source": [
    "# Multiples of 3 and 5"
   ]
  },
  {
   "cell_type": "markdown",
   "metadata": {},
   "source": [
    "[problem 1](http://projecteuler.net/problem=1)\n",
    "\n",
    "> If we list all the natural numbers below 10 that are multiples of 3 or 5, we get 3, 5, 6 and 9. The sum of these multiples is 23.\n",
    "\n",
    "> Find the sum of all the multiples of 3 or 5 below 1000."
   ]
  },
  {
   "cell_type": "code",
   "execution_count": 1,
   "metadata": {
    "collapsed": false
   },
   "outputs": [
    {
     "name": "stdout",
     "output_type": "stream",
     "text": [
      "233168\n"
     ]
    }
   ],
   "source": [
    "function arithmenticProgression(a1, n, d) {\n",
    "    return a1 + (n - 1) * d;\n",
    "}\n",
    "\n",
    "function arithmeticSeries(a1, an, n) {\n",
    "    return Math.floor((n * (a1 + an)) / 2);\n",
    "}\n",
    "\n",
    "function numMultiplesBelow(mx, d) {\n",
    "    return Math.floor((mx - 1) / d);\n",
    "}\n",
    "\n",
    "function sumMultiplesBelow(a1, mx) {\n",
    "    var n = numMultiplesBelow(mx, a1);\n",
    "    return arithmeticSeries(a1, arithmenticProgression(a1, n, a1), n);\n",
    "}\n",
    "\n",
    "function euler1() {\n",
    "    return sumMultiplesBelow(3, 1000) + sumMultiplesBelow(5, 1000) - sumMultiplesBelow(15, 1000);\n",
    "}\n",
    "\n",
    "console.log(euler1());"
   ]
  }
 ],
 "metadata": {
  "kernelspec": {
   "display_name": "Javascript",
   "language": "",
   "name": "jskernel"
  },
  "language_info": {
   "file_extension": ".js",
   "mimetype": "text/javascript",
   "name": "javascript"
  }
 },
 "nbformat": 4,
 "nbformat_minor": 0
}
