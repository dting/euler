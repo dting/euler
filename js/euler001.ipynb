{
 "cells": [
  {
   "cell_type": "markdown",
   "metadata": {},
   "source": [
    "# Multiples of 3 and 5"
   ]
  },
  {
   "cell_type": "markdown",
   "metadata": {},
   "source": [
    "[problem 1](http://projecteuler.net/problem=1)\n",
    "\n",
    "> If we list all the natural numbers below 10 that are multiples of 3 or 5, we get 3, 5, 6 and 9. The sum of these multiples is 23.\n",
    "\n",
    "> Find the sum of all the multiples of 3 or 5 below 1000."
   ]
  },
  {
   "cell_type": "code",
   "execution_count": 1,
   "metadata": {
    "collapsed": false
   },
   "outputs": [
    {
     "data": {
      "text/html": [
       "<pre>233168</pre>"
      ],
      "text/plain": [
       "233168"
      ]
     },
     "execution_count": 1,
     "metadata": {},
     "output_type": "execute_result"
    }
   ],
   "source": [
    "function euler1BruteForce() {\n",
    "    var answer = 0;\n",
    "    var i = 1000;\n",
    "    while (--i) {\n",
    "        if (i % 3 === 0 || i % 5 === 0) {\n",
    "            answer += i;\n",
    "        }        \n",
    "    }\n",
    "    return answer;\n",
    "}\n",
    "\n",
    "euler1BruteForce();"
   ]
  },
  {
   "cell_type": "code",
   "execution_count": 2,
   "metadata": {
    "collapsed": false
   },
   "outputs": [
    {
     "data": {
      "text/html": [
       "<pre>233168</pre>"
      ],
      "text/plain": [
       "233168"
      ]
     },
     "execution_count": 2,
     "metadata": {},
     "output_type": "execute_result"
    }
   ],
   "source": [
    "function euler1Sieve() {\n",
    "    var multiples = {};\n",
    "    for (var i = 3; i < 1000; i+=3) {\n",
    "        multiples[i] = true;\n",
    "    }\n",
    "    for (var i = 5; i < 1000; i+=5) {\n",
    "        multiples[i] = true;\n",
    "    }\n",
    "    return Object.keys(multiples).reduce(function(a, b) {return +a + +b;}, 0);\n",
    "}\n",
    "\n",
    "euler1Sieve();"
   ]
  },
  {
   "cell_type": "code",
   "execution_count": 3,
   "metadata": {
    "collapsed": false
   },
   "outputs": [
    {
     "data": {
      "text/html": [
       "<pre>233168</pre>"
      ],
      "text/plain": [
       "233168"
      ]
     },
     "execution_count": 3,
     "metadata": {},
     "output_type": "execute_result"
    }
   ],
   "source": [
    "function sumMultiples(n, range) {\n",
    "    return range\n",
    "        .filter(function(v) {return !(v % n);})\n",
    "        .reduce(function(a, b) {return a+b;}, 0);\n",
    "}\n",
    "\n",
    "function euler1Filter() {\n",
    "    var range = Array.apply(null, Array(1000)).map(function(_, i) {return i;});\n",
    "    return sumMultiples(3, range) + sumMultiples(5, range) - sumMultiples(15, range);\n",
    "}\n",
    "\n",
    "euler1Filter();"
   ]
  },
  {
   "cell_type": "code",
   "execution_count": 4,
   "metadata": {
    "collapsed": false
   },
   "outputs": [
    {
     "data": {
      "text/html": [
       "<pre>233168</pre>"
      ],
      "text/plain": [
       "233168"
      ]
     },
     "execution_count": 4,
     "metadata": {},
     "output_type": "execute_result"
    }
   ],
   "source": [
    "function arithmenticProgression(a1, n, d) {\n",
    "    return a1 + (n - 1) * d;\n",
    "}\n",
    "\n",
    "function arithmeticSeries(a1, an, n) {\n",
    "    return Math.floor((n * (a1 + an)) / 2);\n",
    "}\n",
    "\n",
    "function numMultiplesBelow(mx, d) {\n",
    "    return Math.floor((mx - 1) / d);\n",
    "}\n",
    "\n",
    "function sumMultiplesBelow(a1, mx) {\n",
    "    var n = numMultiplesBelow(mx, a1);\n",
    "    return arithmeticSeries(a1, arithmenticProgression(a1, n, a1), n);\n",
    "}\n",
    "\n",
    "function euler1() {\n",
    "    return sumMultiplesBelow(3, 1000) + sumMultiplesBelow(5, 1000) - sumMultiplesBelow(15, 1000);\n",
    "}\n",
    "\n",
    "euler1();"
   ]
  }
 ],
 "metadata": {
  "kernelspec": {
   "display_name": "Javascript (Node.js)",
   "language": "javascript",
   "name": "javascript"
  },
  "language_info": {
   "file_extension": "js",
   "mimetype": "application/javascript",
   "name": "javascript",
   "version": "0.12.1"
  }
 },
 "nbformat": 4,
 "nbformat_minor": 0
}
