{
 "cells": [
  {
   "cell_type": "markdown",
   "metadata": {},
   "source": [
    "# Non-abundant sums"
   ]
  },
  {
   "cell_type": "markdown",
   "metadata": {},
   "source": [
    "[problem 23](https://projecteuler.net/problem=23)\n",
    "> A perfect number is a number for which the sum of its proper divisors is exactly equal to the number. For example, the sum of the proper divisors of $28$ would be $1 + 2 + 4 + 7 + 14 = 28$, which means that $28$ is a perfect number.\n",
    "\n",
    "> A number n is called deficient if the sum of its proper divisors is less than n and it is called abundant if this sum exceeds n.\n",
    "\n",
    "> As $12$ is the smallest abundant number, $1 + 2 + 3 + 4 + 6 = 16$, the smallest number that can be written as the sum of two abundant numbers is $24$. By mathematical analysis, it can be shown that all integers greater than $28123$ can be written as the sum of two abundant numbers. However, this upper limit cannot be reduced any further by analysis even though it is known that the greatest number that cannot be expressed as the sum of two abundant numbers is less than this limit.\n",
    "\n",
    "> Find the sum of all the positive integers which cannot be written as the sum of two abundant numbers."
   ]
  },
  {
   "cell_type": "code",
   "execution_count": 1,
   "metadata": {
    "collapsed": false
   },
   "outputs": [
    {
     "data": {
      "text/html": [
       "<pre>undefined</pre>"
      ],
      "text/plain": [
       "undefined"
      ]
     },
     "execution_count": 1,
     "metadata": {},
     "output_type": "execute_result"
    }
   ],
   "source": [
    "function sumDivisors(n) {\n",
    "    var sumDivs = Array.apply(null, Array(n)).map(function() {\n",
    "        return 0;\n",
    "    });\n",
    "    for (var i = 1; i < n/2; i++) {\n",
    "        for (var j = i+i; j < n; j+=i) {\n",
    "            sumDivs[j] += i;\n",
    "        }\n",
    "    }\n",
    "    return sumDivs;\n",
    "}"
   ]
  },
  {
   "cell_type": "code",
   "execution_count": 2,
   "metadata": {
    "collapsed": false
   },
   "outputs": [
    {
     "data": {
      "text/html": [
       "<pre>4179871</pre>"
      ],
      "text/plain": [
       "4179871"
      ]
     },
     "execution_count": 2,
     "metadata": {},
     "output_type": "execute_result"
    }
   ],
   "source": [
    "function euler23HalfQuery() {\n",
    "    var limit = 28124;\n",
    "\n",
    "    function notAbundantSum(n) {\n",
    "        for (var i = 0; abundantNums[i] <= n/2; i++) {\n",
    "            if (n-abundantNums[i] in abundantNumHash) {\n",
    "                return false;\n",
    "            }\n",
    "        }\n",
    "        return true;\n",
    "    }\n",
    "\n",
    "    var abundantNumHash = Object.create(null);\n",
    "    var abundantNums = [];\n",
    "    sumDivisors(limit).forEach(function(v, i) {\n",
    "        if (v > i) {\n",
    "            abundantNumHash[i] = true;\n",
    "            abundantNums.push(i);\n",
    "        }\n",
    "    });\n",
    "    \n",
    "    var sum = 0;\n",
    "    for (var i = 1; i < limit; i++) {\n",
    "        if (notAbundantSum(i)) {\n",
    "            sum += i;\n",
    "        }\n",
    "    }\n",
    "    return sum;\n",
    "}\n",
    "euler23HalfQuery();"
   ]
  },
  {
   "cell_type": "code",
   "execution_count": 3,
   "metadata": {
    "collapsed": false
   },
   "outputs": [
    {
     "data": {
      "text/html": [
       "<pre>{ euler23HalfQuery: &#39;254.30595318181815 ms&#39; }</pre>"
      ],
      "text/plain": [
       "{ euler23HalfQuery: '254.30595318181815 ms' }"
      ]
     },
     "execution_count": 3,
     "metadata": {},
     "output_type": "execute_result"
    }
   ],
   "source": [
    "$$async$$ = true;\n",
    "var Benchmark = require('benchmark');\n",
    "var unit = [' s', ' ms', ' microseconds', ' ns', ' ps']\n",
    "var suite = new Benchmark.Suite;\n",
    "suite.add('euler23HalfQuery', euler23HalfQuery);\n",
    "suite.on('complete', function() {\n",
    "    var result = {};\n",
    "    this.forEach(function(r) {\n",
    "        var p = Math.ceil((Math.log(r.hz) / Math.LN10) / 3);\n",
    "        result[r.name] = 1 / r.hz * Math.pow(10, p*3) + unit[p];\n",
    "    });\n",
    "    $$done$$(result);\n",
    "});\n",
    "suite.run({'async':true});"
   ]
  }
 ],
 "metadata": {
  "kernelspec": {
   "display_name": "Javascript (Node.js)",
   "language": "javascript",
   "name": "javascript"
  },
  "language_info": {
   "file_extension": "js",
   "mimetype": "application/javascript",
   "name": "javascript",
   "version": "0.12.1"
  }
 },
 "nbformat": 4,
 "nbformat_minor": 0
}
