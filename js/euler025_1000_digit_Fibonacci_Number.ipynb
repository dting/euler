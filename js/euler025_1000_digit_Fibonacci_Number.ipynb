{
 "cells": [
  {
   "cell_type": "markdown",
   "metadata": {},
   "source": [
    "# 1000-digit Fibonacci number"
   ]
  },
  {
   "cell_type": "markdown",
   "metadata": {},
   "source": [
    "[problem 25](https://projecteuler.net/problem=25)\n",
    ">The Fibonacci sequence is defined by the recurrence relation:\n",
    ">\n",
    "> $$F_n = F_{n−1} + F_{n−2}$$ \n",
    "> where \n",
    "> $$F_1 = 1 \\text{ and } F_2 = 1$$\n",
    "> Hence the first 12 terms will be:\n",
    "> \\begin{align}\n",
    "F_1 & = & 1 \\cr\n",
    "F_2 & = & 1 \\cr\n",
    "F_3 & = & 2 \\cr\n",
    "F_4 & = & 3 \\cr\n",
    "F_5 & = & 5 \\cr\n",
    "F_6 & = & 8 \\cr\n",
    "F_7 & = & 13 \\cr\n",
    "F_8 & = & 21 \\cr\n",
    "F_9 & = & 34 \\cr\n",
    "F_{10} & = & 55 \\cr\n",
    "F_{11} & = & 89 \\cr\n",
    "F_{12} & = & 144 \\cr\n",
    "\\end{align}\n",
    "> The 12th term, $F_{12}$, is the first term to contain three digits.\n",
    "\n",
    "> What is the index of the first term in the Fibonacci sequence to contain 1000 digits?"
   ]
  },
  {
   "cell_type": "code",
   "execution_count": 1,
   "metadata": {
    "collapsed": false
   },
   "outputs": [
    {
     "data": {
      "text/html": [
       "<pre>4787</pre>"
      ],
      "text/plain": [
       "4787"
      ]
     },
     "execution_count": 1,
     "metadata": {},
     "output_type": "execute_result"
    }
   ],
   "source": [
    "function euler25BruteForce() {\n",
    "    var n1 = [1];\n",
    "    var n2 = [1];\n",
    "    var idx = 2;\n",
    "    \n",
    "    function nextFib() {\n",
    "        var t = n2.slice();\n",
    "        var limit = n2.length;\n",
    "        var carry = 0;\n",
    "        var i = 0;\n",
    "        n1.length = limit\n",
    "        while (i < limit || carry) {\n",
    "            n2[i] = (n1[i] || 0) + (n2[i] || 0) + carry;\n",
    "            carry = ~~(n2[i]/10);\n",
    "            n2[i++] %= 10;\n",
    "        }\n",
    "        n1 = t;\n",
    "    }\n",
    "    \n",
    "    while (n2.length <= 1000) {\n",
    "        nextFib();\n",
    "        idx++;\n",
    "    }\n",
    "    return idx;\n",
    "}\n",
    "euler25BruteForce();"
   ]
  },
  {
   "cell_type": "code",
   "execution_count": 2,
   "metadata": {
    "collapsed": false
   },
   "outputs": [
    {
     "data": {
      "text/html": [
       "<pre>4787</pre>"
      ],
      "text/plain": [
       "4787"
      ]
     },
     "execution_count": 2,
     "metadata": {},
     "output_type": "execute_result"
    }
   ],
   "source": [
    "function euler25Math() {\n",
    "    var sqrt = Math.sqrt;\n",
    "    var log = Math.log10;\n",
    "    return Math.ceil( ( 1000+log( sqrt(5) ) ) / log( (1+sqrt(5))/2 ) );\n",
    "}                   \n",
    "euler25Math();"
   ]
  },
  {
   "cell_type": "code",
   "execution_count": 3,
   "metadata": {
    "collapsed": false
   },
   "outputs": [
    {
     "data": {
      "text/html": [
       "<pre>{ &#39;euler25#BruteForce&#39;: &#39;60.7626500625 ms&#39;,\n",
       "  &#39;euler25#Math&#39;: &#39;75.08970279535563 ns&#39; }</pre>"
      ],
      "text/plain": [
       "{ 'euler25#BruteForce': '60.7626500625 ms',\n",
       "  'euler25#Math': '75.08970279535563 ns' }"
      ]
     },
     "execution_count": 3,
     "metadata": {},
     "output_type": "execute_result"
    }
   ],
   "source": [
    "$$async$$ = true;\n",
    "var Benchmark = require('benchmark');\n",
    "var unit = [' s', ' ms', ' microseconds', ' ns', ' ps']\n",
    "var suite = new Benchmark.Suite;\n",
    "suite.add('euler25#BruteForce', euler25BruteForce);\n",
    "suite.add('euler25#Math', euler25Math);\n",
    "suite.on('complete', function() {\n",
    "    var result = {};\n",
    "    this.forEach(function(r) {\n",
    "        var p = Math.ceil((Math.log(r.hz) / Math.LN10) / 3);\n",
    "        result[r.name] = 1 / r.hz * Math.pow(10, p*3) + unit[p];\n",
    "    });\n",
    "    $$done$$(result);\n",
    "});\n",
    "suite.run({'async':true});"
   ]
  }
 ],
 "metadata": {
  "kernelspec": {
   "display_name": "Javascript (Node.js)",
   "language": "javascript",
   "name": "javascript"
  },
  "language_info": {
   "file_extension": "js",
   "mimetype": "application/javascript",
   "name": "javascript",
   "version": "0.12.1"
  }
 },
 "nbformat": 4,
 "nbformat_minor": 0
}
