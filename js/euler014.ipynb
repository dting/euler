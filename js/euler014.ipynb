{
 "cells": [
  {
   "cell_type": "markdown",
   "metadata": {},
   "source": [
    "# Longest Collatz sequence"
   ]
  },
  {
   "cell_type": "markdown",
   "metadata": {},
   "source": [
    "[Problem 14](https://projecteuler.net/problem=14)\n",
    "> The following iterative sequence is defined for the set of positive integers:\n",
    "\n",
    "> \\begin{align}\n",
    "n &→ \\frac n2 &\\text{(n is even)} \\\\\n",
    "n &→ 3n + 1 &\\text{(n is odd)}\n",
    "\\end{align}\n",
    "\n",
    "> Using the rule above and starting with 13, we generate the following sequence:\n",
    "\n",
    "> $$\n",
    "13 → 40 → 20 → 10 → 5 → 16 → 8 → 4 → 2 → 1\n",
    "$$\n",
    "\n",
    "> It can be seen that this sequence (starting at 13 and finishing at 1) contains 10 terms. Although it has not been proved yet (Collatz Problem), it is thought that all starting numbers finish at 1.\n",
    "\n",
    "> Which starting number, under one million, produces the longest chain?\n",
    "\n",
    "> NOTE: Once the chain starts the terms are allowed to go above one million."
   ]
  },
  {
   "cell_type": "markdown",
   "metadata": {},
   "source": [
    "## Double skipping"
   ]
  },
  {
   "cell_type": "markdown",
   "metadata": {},
   "source": [
    "Because the way the collatz operations change the values, we know that $3n + 1$ will always be even.\n",
    "\n",
    "That means we can combine an odd operation with the next even operation."
   ]
  },
  {
   "cell_type": "code",
   "execution_count": 1,
   "metadata": {
    "collapsed": false
   },
   "outputs": [
    {
     "data": {
      "text/html": [
       "<pre>837799</pre>"
      ],
      "text/plain": [
       "837799"
      ]
     },
     "execution_count": 1,
     "metadata": {},
     "output_type": "execute_result"
    }
   ],
   "source": [
    "var DoubleSkipLowerMemo = (function() {\n",
    "    function DoubleSkipLowerMemo() {        \n",
    "        this.memo = [1, 1];\n",
    "    }\n",
    "\n",
    "    DoubleSkipLowerMemo.prototype.collatzLength = function(n) {\n",
    "        if (!(this.memo[n])) {\n",
    "            var count = 0;\n",
    "            var k = n;\n",
    "            while (k >= n) {\n",
    "                if (k & 1) {\n",
    "                    count = count + 2;\n",
    "                    k = ~~((3*k+1)/2);\n",
    "                } else {\n",
    "                    count++;\n",
    "                    k = ~~(k/2);\n",
    "                }\n",
    "            }\n",
    "            this.memo[n] = count + this.memo[k];\n",
    "        }\n",
    "        return this.memo[n];\n",
    "    }\n",
    "\n",
    "    DoubleSkipLowerMemo.prototype.maxCollatzLength = function(n) {\n",
    "        if (n > this.memo.length) this.memo.length = n;\n",
    "        var m = 1;\n",
    "        for (var i = 2; i < n; i++) {\n",
    "            if (this.memo[m] <= this.collatzLength(i)) {\n",
    "                m = i;\n",
    "            }\n",
    "        }\n",
    "        return m;\n",
    "    };\n",
    "\n",
    "    DoubleSkipLowerMemo.prototype.euler14 = function() {\n",
    "        return this.maxCollatzLength(1000000);\n",
    "    };\n",
    "    \n",
    "    return DoubleSkipLowerMemo;\n",
    "})();\n",
    "\n",
    "new DoubleSkipLowerMemo().euler14();"
   ]
  },
  {
   "cell_type": "code",
   "execution_count": 2,
   "metadata": {
    "collapsed": false
   },
   "outputs": [
    {
     "data": {
      "text/html": [
       "<pre>{ euler14: &#39;225.92938331250002 ms&#39; }</pre>"
      ],
      "text/plain": [
       "{ euler14: '225.92938331250002 ms' }"
      ]
     },
     "execution_count": 2,
     "metadata": {},
     "output_type": "execute_result"
    }
   ],
   "source": [
    "$$async$$ = true;\n",
    "var Benchmark = require('benchmark');\n",
    "var unit = [' s', ' ms', ' microseconds', ' ns', ' ps']\n",
    "var suite = new Benchmark.Suite;\n",
    "suite.add('euler14', function() { new DoubleSkipLowerMemo().euler14();});\n",
    "suite.on('complete', function() {\n",
    "    var result = {};\n",
    "    this.forEach(function(r) {\n",
    "        var p = Math.ceil((Math.log(r.hz) / Math.LN10) / 3);\n",
    "        result[r.name] = 1 / r.hz * Math.pow(10, p*3) + unit[p];\n",
    "    });\n",
    "    $$done$$(result);\n",
    "});\n",
    "suite.run({'async':true});"
   ]
  }
 ],
 "metadata": {
  "kernelspec": {
   "display_name": "Javascript (Node.js)",
   "language": "javascript",
   "name": "javascript"
  },
  "language_info": {
   "file_extension": "js",
   "mimetype": "application/javascript",
   "name": "javascript",
   "version": "0.12.1"
  }
 },
 "nbformat": 4,
 "nbformat_minor": 0
}
