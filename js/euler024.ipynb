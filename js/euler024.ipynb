{
 "cells": [
  {
   "cell_type": "markdown",
   "metadata": {},
   "source": [
    "# Lexicographic permutations"
   ]
  },
  {
   "cell_type": "markdown",
   "metadata": {},
   "source": [
    "[problem 24](https://projecteuler.net/problem=24)\n",
    "> A permutation is an ordered arrangement of objects. For example, $3124$ is one possible permutation of the digits $1, 2, 3, 4$. If all of the permutations are listed numerically or alphabetically, we call it lexicographic order. The lexicographic permutations of $0, 1, 2$ are:\n",
    "> <pre style=\"display:inline-block;\">012   021   102   120   201   210</pre>  \n",
    "> What is the millionth lexicographic permutation of the digits 0, 1, 2, 3, 4, 5, 6, 7, 8 and 9?"
   ]
  },
  {
   "cell_type": "code",
   "execution_count": 1,
   "metadata": {
    "collapsed": false
   },
   "outputs": [
    {
     "data": {
      "text/html": [
       "<pre>undefined</pre>"
      ],
      "text/plain": [
       "undefined"
      ]
     },
     "execution_count": 1,
     "metadata": {},
     "output_type": "execute_result"
    }
   ],
   "source": [
    "var DATA = \"0123456789\";\n",
    "var NTH = 1000000;"
   ]
  },
  {
   "cell_type": "code",
   "execution_count": 2,
   "metadata": {
    "collapsed": false
   },
   "outputs": [
    {
     "data": {
      "text/html": [
       "<pre>[ 1, 1, 2, 6, 24, 120, 720, 5040, 40320, 362880, 3628800 ]</pre>"
      ],
      "text/plain": [
       "[ 1, 1, 2, 6, 24, 120, 720, 5040, 40320, 362880, 3628800 ]"
      ]
     },
     "execution_count": 2,
     "metadata": {},
     "output_type": "execute_result"
    }
   ],
   "source": [
    "function factorials(n) {\n",
    "    var facts = [1];\n",
    "    for (var i = facts.length; i < n+1; i++) {\n",
    "        facts.push(i * facts[i-1]);\n",
    "    }\n",
    "    return facts;\n",
    "}\n",
    "\n",
    "factorials(10);"
   ]
  },
  {
   "cell_type": "code",
   "execution_count": 3,
   "metadata": {
    "collapsed": false
   },
   "outputs": [
    {
     "data": {
      "text/html": [
       "<pre>&#39;2783915460&#39;</pre>"
      ],
      "text/plain": [
       "'2783915460'"
      ]
     },
     "execution_count": 3,
     "metadata": {},
     "output_type": "execute_result"
    }
   ],
   "source": [
    "function euler24_recursive() {\n",
    "    var facts = factorials(DATA.length);\n",
    "    \n",
    "    function nthPerm(n, elements) {\n",
    "        if (!elements.length) return \"\";\n",
    "        q = (n / facts[elements.length-1])>>0;\n",
    "        r = (n % facts[elements.length]);\n",
    "        return elements.splice(q, 1) + nthPerm(r, elements);\n",
    "    }\n",
    "    \n",
    "    return nthPerm(NTH-1, DATA.split(\"\"));\n",
    "}\n",
    "euler24_recursive();"
   ]
  },
  {
   "cell_type": "markdown",
   "metadata": {},
   "source": [
    "## Benchmarks"
   ]
  },
  {
   "cell_type": "code",
   "execution_count": 4,
   "metadata": {
    "collapsed": false
   },
   "outputs": [
    {
     "data": {
      "text/html": [
       "<pre>{ euler24_recursive: &#39;16.36657818523518 microseconds&#39; }</pre>"
      ],
      "text/plain": [
       "{ euler24_recursive: '16.36657818523518 microseconds' }"
      ]
     },
     "execution_count": 4,
     "metadata": {},
     "output_type": "execute_result"
    }
   ],
   "source": [
    "$$async$$ = true;\n",
    "var Benchmark = require('benchmark');\n",
    "var unit = [' s', ' ms', ' microseconds', ' ns', ' ps']\n",
    "var suite = new Benchmark.Suite;\n",
    "suite.add('euler24_recursive', euler24_recursive);\n",
    "suite.on('complete', function() {\n",
    "    var result = {};\n",
    "    this.forEach(function(r) {\n",
    "        var p = Math.ceil((Math.log(r.hz) / Math.LN10) / 3);\n",
    "        result[r.name] = 1 / r.hz * Math.pow(10, p*3) + unit[p];\n",
    "    });\n",
    "    $$done$$(result);\n",
    "});\n",
    "suite.run({'async':true});"
   ]
  }
 ],
 "metadata": {
  "kernelspec": {
   "display_name": "Javascript (Node.js)",
   "language": "javascript",
   "name": "javascript"
  },
  "language_info": {
   "file_extension": "js",
   "mimetype": "application/javascript",
   "name": "javascript",
   "version": "0.12.1"
  }
 },
 "nbformat": 4,
 "nbformat_minor": 0
}
