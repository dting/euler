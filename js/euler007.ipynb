{
 "cells": [
  {
   "cell_type": "markdown",
   "metadata": {},
   "source": [
    "# 10001st prime"
   ]
  },
  {
   "cell_type": "markdown",
   "metadata": {},
   "source": [
    "[problem 7](https://projecteuler.net/problem=7)\n",
    "\n",
    "> By listing the first six prime numbers: 2, 3, 5, 7, 11, and 13, we can see that the 6th prime is 13.\n",
    "\n",
    "> What is the 10 001st prime number?"
   ]
  },
  {
   "cell_type": "code",
   "execution_count": 1,
   "metadata": {
    "collapsed": false
   },
   "outputs": [
    {
     "data": {
      "text/html": [
       "<pre>104743</pre>"
      ],
      "text/plain": [
       "104743"
      ]
     },
     "execution_count": 1,
     "metadata": {},
     "output_type": "execute_result"
    }
   ],
   "source": [
    "function isPrime(n, primes) {\n",
    "    var pi = 0;\n",
    "    var prime = primes[pi];\n",
    "    var limit = Math.floor(Math.sqrt(n));\n",
    "    while (prime <= limit) {\n",
    "        if (!(n % prime)) return false;\n",
    "        prime = primes[++pi];\n",
    "    }\n",
    "    return true;\n",
    "}\n",
    "\n",
    "function nPrimes(n) {\n",
    "    if (n < 1) return [];\n",
    "    if (n === 1) return [2];\n",
    "    if (n === 2) return [2, 3];\n",
    "    var primes = [2, 3];\n",
    "    var i = 0;\n",
    "    while (++i) {\n",
    "        var candidate = 6 * i - 1;\n",
    "        if (primes.length === n) break;\n",
    "        if (isPrime(candidate, primes)) primes.push(candidate);\n",
    "        candidate += 2;\n",
    "        if (primes.length === n) break;\n",
    "        if (isPrime(candidate, primes)) primes.push(candidate);\n",
    "    }\n",
    "    return primes;\n",
    "}\n",
    "\n",
    "function euler7() {\n",
    "    return nPrimes(10001)[10000];\n",
    "}\n",
    "\n",
    "euler7();"
   ]
  }
 ],
 "metadata": {
  "kernelspec": {
   "display_name": "Javascript (Node.js)",
   "language": "javascript",
   "name": "javascript"
  },
  "language_info": {
   "file_extension": "js",
   "mimetype": "application/javascript",
   "name": "javascript",
   "version": "0.12.1"
  }
 },
 "nbformat": 4,
 "nbformat_minor": 0
}
