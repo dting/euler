{
 "cells": [
  {
   "cell_type": "markdown",
   "metadata": {},
   "source": [
    "# 10001st prime"
   ]
  },
  {
   "cell_type": "markdown",
   "metadata": {},
   "source": [
    "[problem 7](https://projecteuler.net/problem=7)\n",
    "\n",
    "> By listing the first six prime numbers: 2, 3, 5, 7, 11, and 13, we can see that the 6th prime is 13.\n",
    "\n",
    "> What is the 10 001st prime number?"
   ]
  },
  {
   "cell_type": "code",
   "execution_count": 1,
   "metadata": {
    "collapsed": false
   },
   "outputs": [
    {
     "name": "stdout",
     "output_type": "stream",
     "text": [
      "104743\n"
     ]
    }
   ],
   "source": [
    "function isPrime(n, primes) {\n",
    "    var pi = 0;\n",
    "    var prime = primes[pi];\n",
    "    var limit = Math.floor(Math.sqrt(n));\n",
    "    while (prime <= limit) {\n",
    "        if (!(n % prime)) return false;\n",
    "        prime = primes[++pi];\n",
    "    }\n",
    "    return true;\n",
    "}\n",
    "\n",
    "function nPrimes(n) {\n",
    "    if (n < 1) return [];\n",
    "    if (n === 1) return [2];\n",
    "    if (n === 2) return [2, 3];\n",
    "    var primes = [2, 3];\n",
    "    var i = 0;\n",
    "    while (++i) {\n",
    "        var candidate = 6 * i - 1;\n",
    "        if (primes.length === n) break;\n",
    "        if (isPrime(candidate, primes)) primes.push(candidate);\n",
    "        candidate += 2;\n",
    "        if (primes.length === n) break;\n",
    "        if (isPrime(candidate, primes)) primes.push(candidate);\n",
    "    }\n",
    "    return primes;\n",
    "}\n",
    "\n",
    "function euler7() {\n",
    "    return nPrimes(10001)[10000];\n",
    "}\n",
    "\n",
    "console.log(euler7());"
   ]
  },
  {
   "cell_type": "markdown",
   "metadata": {},
   "source": [
    "## Benchmarks"
   ]
  },
  {
   "cell_type": "code",
   "execution_count": 2,
   "metadata": {
    "collapsed": false
   },
   "outputs": [
    {
     "data": {
      "text/html": [
       "<pre>{ euler7: &#39;4.797502756684493 ms&#39; }</pre>"
      ],
      "text/plain": [
       "{ euler7: '4.797502756684493 ms' }"
      ]
     },
     "execution_count": 2,
     "metadata": {},
     "output_type": "execute_result"
    }
   ],
   "source": [
    "$$async$$ = true;\n",
    "var Benchmark = require('benchmark');\n",
    "var unit = [' s', ' ms', ' microseconds', ' ns', ' ps']\n",
    "var suite = new Benchmark.Suite;\n",
    "suite.add('euler7', euler7);\n",
    "suite.on('complete', function() {\n",
    "    var result = {};\n",
    "    this.forEach(function(r) {\n",
    "        var p = Math.ceil((Math.log(r.hz) / Math.LN10) / 3);\n",
    "        result[r.name] = 1 / r.hz * Math.pow(10, p*3) + unit[p];\n",
    "    });\n",
    "    $$done$$(result);\n",
    "});\n",
    "suite.run({'async':true});"
   ]
  }
 ],
 "metadata": {
  "kernelspec": {
   "display_name": "Javascript (Node.js)",
   "language": "javascript",
   "name": "javascript"
  },
  "language_info": {
   "file_extension": "js",
   "mimetype": "application/javascript",
   "name": "javascript",
   "version": "0.12.1"
  }
 },
 "nbformat": 4,
 "nbformat_minor": 0
}
