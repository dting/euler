{
 "cells": [
  {
   "cell_type": "markdown",
   "metadata": {},
   "source": [
    "# Largest palindrome product"
   ]
  },
  {
   "cell_type": "markdown",
   "metadata": {},
   "source": [
    "[problem 4](https://projecteuler.net/problem=4)\n",
    "\n",
    "> A palindromic number reads the same both ways. The largest palindrome made from the product of two 2-digit numbers is 9009 = 91 × 99.\n",
    "\n",
    "> Find the largest palindrome made from the product of two 3-digit numbers."
   ]
  },
  {
   "cell_type": "markdown",
   "metadata": {},
   "source": [
    "## Different ways to get the digits of a number"
   ]
  },
  {
   "cell_type": "markdown",
   "metadata": {},
   "source": [
    "### Cast to string and split"
   ]
  },
  {
   "cell_type": "code",
   "execution_count": 1,
   "metadata": {
    "collapsed": false
   },
   "outputs": [
    {
     "data": {
      "text/html": [
       "<pre>[ 1, 2, 3, 1, 2, 5, 8, 1, 1, 8, 5, 2, 1, 3, 2, 1 ]</pre>"
      ],
      "text/plain": [
       "[ 1, 2, 3, 1, 2, 5, 8, 1, 1, 8, 5, 2, 1, 3, 2, 1 ]"
      ]
     },
     "execution_count": 1,
     "metadata": {},
     "output_type": "execute_result"
    }
   ],
   "source": [
    "function digitsString(n) {\n",
    "    return (n + '').split('').map(Number);\n",
    "}\n",
    "\n",
    "digitsString(1231258118521321);"
   ]
  },
  {
   "cell_type": "markdown",
   "metadata": {},
   "source": [
    "### Divide and mod to get digits"
   ]
  },
  {
   "cell_type": "code",
   "execution_count": 2,
   "metadata": {
    "collapsed": false
   },
   "outputs": [
    {
     "data": {
      "text/html": [
       "<pre>[ 1, 2, 3, 1, 2, 5, 8, 1, 1, 8, 5, 2, 1, 3, 2, 1 ]</pre>"
      ],
      "text/plain": [
       "[ 1, 2, 3, 1, 2, 5, 8, 1, 1, 8, 5, 2, 1, 3, 2, 1 ]"
      ]
     },
     "execution_count": 2,
     "metadata": {},
     "output_type": "execute_result"
    }
   ],
   "source": [
    "function digitsDivMod(n) {\n",
    "    var digits = [];\n",
    "    while(n) {\n",
    "        digits.push(n % 10);\n",
    "        n = Math.floor(n / 10);\n",
    "    }\n",
    "    return digits.reverse();\n",
    "}\n",
    "\n",
    "digitsDivMod(1231258118521321);"
   ]
  },
  {
   "cell_type": "markdown",
   "metadata": {
    "collapsed": false
   },
   "source": [
    "## Palindromic"
   ]
  },
  {
   "cell_type": "code",
   "execution_count": 3,
   "metadata": {
    "collapsed": false,
    "scrolled": true
   },
   "outputs": [
    {
     "data": {
      "text/html": [
       "<pre>undefined</pre>"
      ],
      "text/plain": [
       "undefined"
      ]
     },
     "execution_count": 3,
     "metadata": {},
     "output_type": "execute_result"
    }
   ],
   "source": [
    "function isPalindromic(n) {\n",
    "    var digits = digitsDivMod(n);\n",
    "    var rev = digits.slice().reverse();\n",
    "    return digits.join('') === rev.join('');\n",
    "}"
   ]
  },
  {
   "cell_type": "code",
   "execution_count": 4,
   "metadata": {
    "collapsed": false
   },
   "outputs": [
    {
     "data": {
      "text/html": [
       "<pre>false</pre>"
      ],
      "text/plain": [
       "false"
      ]
     },
     "execution_count": 4,
     "metadata": {},
     "output_type": "execute_result"
    }
   ],
   "source": [
    "isPalindromic(1234567);"
   ]
  },
  {
   "cell_type": "code",
   "execution_count": 5,
   "metadata": {
    "collapsed": false
   },
   "outputs": [
    {
     "data": {
      "text/html": [
       "<pre>true</pre>"
      ],
      "text/plain": [
       "true"
      ]
     },
     "execution_count": 5,
     "metadata": {},
     "output_type": "execute_result"
    }
   ],
   "source": [
    "isPalindromic(1234321);"
   ]
  },
  {
   "cell_type": "code",
   "execution_count": 6,
   "metadata": {
    "collapsed": false
   },
   "outputs": [
    {
     "data": {
      "text/html": [
       "<pre>undefined</pre>"
      ],
      "text/plain": [
       "undefined"
      ]
     },
     "execution_count": 6,
     "metadata": {},
     "output_type": "execute_result"
    }
   ],
   "source": [
    "function isPalindromicMath(n) {\n",
    "    if (n < 0) throw 'isPalindromicMath only works for positive numbers.';\n",
    "    // Single digit numbers are palindromic\n",
    "    if (Math.floor(n / 10) === 0) return true;\n",
    "    // n > 0, without leading 0s cannot be palindromic if ending in 0\n",
    "    if (n % 10 === 0) return false; \n",
    "\n",
    "    var number = n;\n",
    "    var rev = 0;\n",
    "    while (number) {\n",
    "        rev *= 10;\n",
    "        rev += number % 10;\n",
    "        number = Math.floor(number / 10);\n",
    "    }\n",
    "    return rev === n;\n",
    "}"
   ]
  },
  {
   "cell_type": "code",
   "execution_count": 7,
   "metadata": {
    "collapsed": false
   },
   "outputs": [
    {
     "data": {
      "text/html": [
       "<pre>false</pre>"
      ],
      "text/plain": [
       "false"
      ]
     },
     "execution_count": 7,
     "metadata": {},
     "output_type": "execute_result"
    }
   ],
   "source": [
    "isPalindromicMath(1234567);"
   ]
  },
  {
   "cell_type": "code",
   "execution_count": 8,
   "metadata": {
    "collapsed": false
   },
   "outputs": [
    {
     "data": {
      "text/html": [
       "<pre>true</pre>"
      ],
      "text/plain": [
       "true"
      ]
     },
     "execution_count": 8,
     "metadata": {},
     "output_type": "execute_result"
    }
   ],
   "source": [
    "isPalindromicMath(1234321);"
   ]
  },
  {
   "cell_type": "code",
   "execution_count": 9,
   "metadata": {
    "collapsed": false
   },
   "outputs": [
    {
     "data": {
      "text/html": [
       "<pre>undefined</pre>"
      ],
      "text/plain": [
       "undefined"
      ]
     },
     "execution_count": 9,
     "metadata": {},
     "output_type": "execute_result"
    }
   ],
   "source": [
    "function isPalindromicOutsideIn(n) {\n",
    "    var digits = digitsDivMod(n);\n",
    "    var i = -1;\n",
    "    var j = digits.length;\n",
    "    while (++i < --j) {\n",
    "        if (digits[i] !== digits[j]) return false;\n",
    "    }\n",
    "    return true;\n",
    "}"
   ]
  },
  {
   "cell_type": "code",
   "execution_count": 10,
   "metadata": {
    "collapsed": false
   },
   "outputs": [
    {
     "data": {
      "text/html": [
       "<pre>false</pre>"
      ],
      "text/plain": [
       "false"
      ]
     },
     "execution_count": 10,
     "metadata": {},
     "output_type": "execute_result"
    }
   ],
   "source": [
    "isPalindromicOutsideIn(1234567);"
   ]
  },
  {
   "cell_type": "code",
   "execution_count": 11,
   "metadata": {
    "collapsed": false
   },
   "outputs": [
    {
     "data": {
      "text/html": [
       "<pre>true</pre>"
      ],
      "text/plain": [
       "true"
      ]
     },
     "execution_count": 11,
     "metadata": {},
     "output_type": "execute_result"
    }
   ],
   "source": [
    "isPalindromicOutsideIn(1234321);"
   ]
  },
  {
   "cell_type": "markdown",
   "metadata": {},
   "source": [
    "## Solving the problem"
   ]
  },
  {
   "cell_type": "code",
   "execution_count": 12,
   "metadata": {
    "collapsed": false
   },
   "outputs": [
    {
     "data": {
      "text/html": [
       "<pre>906609</pre>"
      ],
      "text/plain": [
       "906609"
      ]
     },
     "execution_count": 12,
     "metadata": {},
     "output_type": "execute_result"
    }
   ],
   "source": [
    "function euler4NestedForLoops() {\n",
    "    var min = 100;\n",
    "    var max = 999;\n",
    "    var answer = 0;\n",
    "    for (var i = min; i <= max; i++) {\n",
    "        for (var j = i; j <= max; j++) {\n",
    "            var product = i*j;\n",
    "            if (product > answer && isPalindromic(product)) {\n",
    "                answer = product;\n",
    "            }\n",
    "        }\n",
    "    }\n",
    "    return answer;\n",
    "}\n",
    "\n",
    "euler4NestedForLoops();"
   ]
  },
  {
   "cell_type": "code",
   "execution_count": 13,
   "metadata": {
    "collapsed": false
   },
   "outputs": [
    {
     "data": {
      "text/html": [
       "<pre>906609</pre>"
      ],
      "text/plain": [
       "906609"
      ]
     },
     "execution_count": 13,
     "metadata": {},
     "output_type": "execute_result"
    }
   ],
   "source": [
    "function euler4NestedForLoopsReversed() {\n",
    "    var min = 100;\n",
    "    var max = 999;\n",
    "    var answer = 0;\n",
    "    for (var i = max; i >= min ; i--) {\n",
    "        for (var j = max; j >= min; j--) {\n",
    "            var product = i*j;\n",
    "            if (product < answer) {\n",
    "                break;\n",
    "            }\n",
    "            if (product > answer && isPalindromic(product)) {\n",
    "                answer = product;\n",
    "            }\n",
    "        }\n",
    "    }\n",
    "    return answer;\n",
    "}\n",
    "\n",
    "euler4NestedForLoopsReversed();"
   ]
  }
 ],
 "metadata": {
  "kernelspec": {
   "display_name": "Javascript (Node.js)",
   "language": "javascript",
   "name": "javascript"
  },
  "language_info": {
   "file_extension": "js",
   "mimetype": "application/javascript",
   "name": "javascript",
   "version": "0.12.1"
  }
 },
 "nbformat": 4,
 "nbformat_minor": 0
}
