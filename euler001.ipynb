{
 "cells": [
  {
   "cell_type": "markdown",
   "metadata": {},
   "source": [
    "## Multiples of 3 and 5\n",
    "[problem 1](http://projecteuler.net/problem=1)\n",
    "\n",
    "> If we list all the natural numbers below 10 that are multiples of 3 or 5, we get 3, 5, 6 and 9. The sum of these multiples is 23.\n",
    "\n",
    "> Find the sum of all the multiples of 3 or 5 below 1000.\n"
   ]
  },
  {
   "cell_type": "code",
   "execution_count": 1,
   "metadata": {
    "collapsed": false,
    "scrolled": true
   },
   "outputs": [
    {
     "name": "stdout",
     "output_type": "stream",
     "text": [
      "233168\n",
      "\n",
      "1000 loops, best of 3: 196 µs per loop\n"
     ]
    }
   ],
   "source": [
    "def euler1_brute_force():\n",
    "    return sum(i for i in range(1000) if not i % 3 or not i % 5)\n",
    "\n",
    "print euler1_brute_force()\n",
    "print\n",
    "%timeit euler1_brute_force()"
   ]
  },
  {
   "cell_type": "code",
   "execution_count": 2,
   "metadata": {
    "collapsed": false
   },
   "outputs": [
    {
     "name": "stdout",
     "output_type": "stream",
     "text": [
      "233168\n",
      "\n",
      "10000 loops, best of 3: 65.6 µs per loop\n"
     ]
    }
   ],
   "source": [
    "def euler1_sieve():\n",
    "    mult = set()\n",
    "    mult.update(i for i in range(3,1000,3))\n",
    "    mult.update(i for i in range(5,1000,5))\n",
    "    return sum(mult)\n",
    "\n",
    "print euler1_sieve()\n",
    "print\n",
    "%timeit euler1_sieve()"
   ]
  },
  {
   "cell_type": "code",
   "execution_count": 3,
   "metadata": {
    "collapsed": false
   },
   "outputs": [
    {
     "name": "stdout",
     "output_type": "stream",
     "text": [
      "233168\n",
      "\n",
      "100000 loops, best of 3: 3 µs per loop\n"
     ]
    }
   ],
   "source": [
    "def arithmetic_progression(a1, n, d):\n",
    "    return a1 + (n - 1) * d\n",
    "\n",
    "def arithmetic_series(a1, an, n):\n",
    "    return (n * (a1 + an)) // 2\n",
    "\n",
    "def num_multiples_below(mx, d):\n",
    "    return (mx - 1) // d\n",
    "\n",
    "def sum_multiples_below(a1, mx):\n",
    "    n = num_multiples_below(mx, a1)\n",
    "    return arithmetic_series(a1, arithmetic_progression(a1, n, a1), n)\n",
    "\n",
    "def euler1_arithmetic_series():\n",
    "    return sum_multiples_below(3, 1000) + sum_multiples_below(5, 1000) - sum_multiples_below(15, 1000)\n",
    "\n",
    "print euler1_arithmetic_series()\n",
    "print\n",
    "%timeit euler1_arithmetic_series()"
   ]
  }
 ],
 "metadata": {
  "kernelspec": {
   "display_name": "Python 2",
   "language": "python",
   "name": "python2"
  },
  "language_info": {
   "codemirror_mode": {
    "name": "ipython",
    "version": 2
   },
   "file_extension": ".py",
   "mimetype": "text/x-python",
   "name": "python",
   "nbconvert_exporter": "python",
   "pygments_lexer": "ipython2",
   "version": "2.7.9"
  }
 },
 "nbformat": 4,
 "nbformat_minor": 0
}
