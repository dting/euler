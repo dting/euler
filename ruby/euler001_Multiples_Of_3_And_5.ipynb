{
 "cells": [
  {
   "cell_type": "markdown",
   "metadata": {},
   "source": [
    "# Multiples of 3 and 5"
   ]
  },
  {
   "cell_type": "markdown",
   "metadata": {},
   "source": [
    "[problem 1](http://projecteuler.net/problem=1)\n",
    "\n",
    "> If we list all the natural numbers below 10 that are multiples of 3 or 5, we get 3, 5, 6 and 9. The sum of these multiples is 23.\n",
    "\n",
    "> Find the sum of all the multiples of 3 or 5 below 1000."
   ]
  },
  {
   "cell_type": "code",
   "execution_count": 1,
   "metadata": {
    "collapsed": false
   },
   "outputs": [
    {
     "data": {
      "text/plain": [
       "233168"
      ]
     },
     "execution_count": 1,
     "metadata": {},
     "output_type": "execute_result"
    }
   ],
   "source": [
    "def euler1_for_loop\n",
    "  total = 0\n",
    "  for n in 1...1000\n",
    "    if n % 3 == 0 || n % 5 == 0\n",
    "      total += n\n",
    "    end\n",
    "  end\n",
    "  total\n",
    "end\n",
    "euler1_for_loop"
   ]
  },
  {
   "cell_type": "code",
   "execution_count": 2,
   "metadata": {
    "collapsed": false
   },
   "outputs": [
    {
     "data": {
      "text/plain": [
       "233168"
      ]
     },
     "execution_count": 2,
     "metadata": {},
     "output_type": "execute_result"
    }
   ],
   "source": [
    "def euler1_inject\n",
    "  (1...1000).inject(0) do | memo, n |\n",
    "    n % 3 == 0 || n % 5 == 0 ? memo + n : memo\n",
    "  end\n",
    "end\n",
    "euler1_inject"
   ]
  },
  {
   "cell_type": "code",
   "execution_count": 3,
   "metadata": {
    "collapsed": false
   },
   "outputs": [
    {
     "data": {
      "text/plain": [
       "233168"
      ]
     },
     "execution_count": 3,
     "metadata": {},
     "output_type": "execute_result"
    }
   ],
   "source": [
    "def arithmetic_progression(a1, n, d)\n",
    "  a1 + (n - 1) * d\n",
    "end\n",
    "\n",
    "def arithmetic_series(a1, an, n)\n",
    "  (n * (a1 + an)) / 2\n",
    "end\n",
    "\n",
    "def num_multiples_below(mx, d)\n",
    "  (mx - 1) / d\n",
    "end\n",
    "\n",
    "def sum_multiples_below(a1, mx)\n",
    "  n = num_multiples_below(mx, a1)\n",
    "  arithmetic_series(a1, arithmetic_progression(a1, n, a1), n)\n",
    "end\n",
    "\n",
    "def euler1_arithmetic_series\n",
    "  sum_multiples_below(3, 1000) + sum_multiples_below(5, 1000) - sum_multiples_below(15, 1000)\n",
    "end\n",
    "euler1_arithmetic_series"
   ]
  },
  {
   "cell_type": "code",
   "execution_count": 4,
   "metadata": {
    "collapsed": false
   },
   "outputs": [
    {
     "name": "stdout",
     "output_type": "stream",
     "text": [
      "       user     system      total        real\n",
      "euler1_for_loop:  1.090000   0.000000   1.090000 (  1.132460)\n",
      "euler1_inject:  1.270000   0.000000   1.270000 (  1.295820)\n",
      "euler1_arithmetic_series:  0.010000   0.000000   0.010000 (  0.011612)\n"
     ]
    }
   ],
   "source": [
    "require \"benchmark\"\n",
    "Benchmark.bm do |x|\n",
    "  x.report(\"euler1_for_loop:\")   { 10000.times {euler1_for_loop} }\n",
    "  x.report(\"euler1_inject:\") { 10000.times {euler1_inject} }\n",
    "  x.report(\"euler1_arithmetic_series:\")  { 10000.times {euler1_arithmetic_series} }\n",
    "end\n",
    "nil"
   ]
  }
 ],
 "metadata": {
  "kernelspec": {
   "display_name": "Ruby 2.3.0",
   "language": "ruby",
   "name": "ruby"
  },
  "language_info": {
   "file_extension": ".rb",
   "mimetype": "application/x-ruby",
   "name": "ruby",
   "version": "2.3.0"
  }
 },
 "nbformat": 4,
 "nbformat_minor": 0
}
